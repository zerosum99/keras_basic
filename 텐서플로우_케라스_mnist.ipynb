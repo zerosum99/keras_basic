{
 "cells": [
  {
   "cell_type": "code",
   "execution_count": 1,
   "metadata": {},
   "outputs": [],
   "source": [
    "import tensorflow as tf"
   ]
  },
  {
   "cell_type": "code",
   "execution_count": 2,
   "metadata": {},
   "outputs": [
    {
     "data": {
      "text/plain": [
       "'2.2.0'"
      ]
     },
     "execution_count": 2,
     "metadata": {},
     "output_type": "execute_result"
    }
   ],
   "source": [
    "tf.__version__"
   ]
  },
  {
   "cell_type": "code",
   "execution_count": 5,
   "metadata": {},
   "outputs": [],
   "source": [
    "import tensorflow.keras as keras"
   ]
  },
  {
   "cell_type": "code",
   "execution_count": 6,
   "metadata": {},
   "outputs": [
    {
     "data": {
      "text/plain": [
       "'2.3.0-tf'"
      ]
     },
     "execution_count": 6,
     "metadata": {},
     "output_type": "execute_result"
    }
   ],
   "source": [
    "keras.__version__"
   ]
  },
  {
   "cell_type": "code",
   "execution_count": 9,
   "metadata": {},
   "outputs": [
    {
     "data": {
      "text/plain": [
       "['Input',\n",
       " 'Model',\n",
       " 'Sequential',\n",
       " '__builtins__',\n",
       " '__cached__',\n",
       " '__doc__',\n",
       " '__file__',\n",
       " '__loader__',\n",
       " '__name__',\n",
       " '__package__',\n",
       " '__path__',\n",
       " '__spec__',\n",
       " '__version__',\n",
       " '_sys',\n",
       " 'activations',\n",
       " 'applications',\n",
       " 'backend',\n",
       " 'callbacks',\n",
       " 'constraints',\n",
       " 'datasets',\n",
       " 'estimator',\n",
       " 'experimental',\n",
       " 'initializers',\n",
       " 'layers',\n",
       " 'losses',\n",
       " 'metrics',\n",
       " 'mixed_precision',\n",
       " 'models',\n",
       " 'optimizers',\n",
       " 'preprocessing',\n",
       " 'regularizers',\n",
       " 'utils',\n",
       " 'wrappers']"
      ]
     },
     "execution_count": 9,
     "metadata": {},
     "output_type": "execute_result"
    }
   ],
   "source": [
    "dir(keras)"
   ]
  },
  {
   "cell_type": "code",
   "execution_count": 12,
   "metadata": {},
   "outputs": [],
   "source": [
    "(x_train, y_train), (x_test, y_test) = keras.datasets.mnist.load_data()"
   ]
  },
  {
   "cell_type": "code",
   "execution_count": 13,
   "metadata": {},
   "outputs": [
    {
     "data": {
      "text/plain": [
       "((60000, 28, 28), (60000,))"
      ]
     },
     "execution_count": 13,
     "metadata": {},
     "output_type": "execute_result"
    }
   ],
   "source": [
    "x_train.shape, y_train.shape"
   ]
  },
  {
   "cell_type": "code",
   "execution_count": 14,
   "metadata": {},
   "outputs": [
    {
     "data": {
      "text/plain": [
       "((10000, 28, 28), (10000,))"
      ]
     },
     "execution_count": 14,
     "metadata": {},
     "output_type": "execute_result"
    }
   ],
   "source": [
    "x_test.shape, y_test.shape"
   ]
  },
  {
   "cell_type": "code",
   "execution_count": 15,
   "metadata": {},
   "outputs": [],
   "source": [
    "X_train = x_train.reshape(-1, 784).copy()"
   ]
  },
  {
   "cell_type": "code",
   "execution_count": 16,
   "metadata": {},
   "outputs": [],
   "source": [
    "X_test = x_test.reshape(-1, 784).copy()"
   ]
  },
  {
   "cell_type": "code",
   "execution_count": 17,
   "metadata": {},
   "outputs": [
    {
     "data": {
      "text/plain": [
       "((60000, 784), (10000, 784))"
      ]
     },
     "execution_count": 17,
     "metadata": {},
     "output_type": "execute_result"
    }
   ],
   "source": [
    "X_train.shape, X_test.shape"
   ]
  },
  {
   "cell_type": "code",
   "execution_count": 21,
   "metadata": {},
   "outputs": [],
   "source": [
    "X_train = X_train / 255."
   ]
  },
  {
   "cell_type": "code",
   "execution_count": 22,
   "metadata": {},
   "outputs": [],
   "source": [
    "X_test = X_test / 255."
   ]
  },
  {
   "cell_type": "code",
   "execution_count": 19,
   "metadata": {},
   "outputs": [],
   "source": [
    "Y_train = keras.utils.to_categorical(y_train, 10)"
   ]
  },
  {
   "cell_type": "code",
   "execution_count": 20,
   "metadata": {},
   "outputs": [],
   "source": [
    "Y_test =  keras.utils.to_categorical(y_test, 10)"
   ]
  },
  {
   "cell_type": "code",
   "execution_count": 23,
   "metadata": {},
   "outputs": [
    {
     "data": {
      "text/plain": [
       "((60000, 10), (10000, 10))"
      ]
     },
     "execution_count": 23,
     "metadata": {},
     "output_type": "execute_result"
    }
   ],
   "source": [
    "Y_train.shape, Y_test.shape"
   ]
  },
  {
   "cell_type": "code",
   "execution_count": null,
   "metadata": {},
   "outputs": [],
   "source": []
  },
  {
   "cell_type": "markdown",
   "metadata": {},
   "source": [
    "## 네트워크 구축"
   ]
  },
  {
   "cell_type": "code",
   "execution_count": 24,
   "metadata": {},
   "outputs": [],
   "source": [
    "model = keras.Sequential()"
   ]
  },
  {
   "cell_type": "code",
   "execution_count": 25,
   "metadata": {},
   "outputs": [
    {
     "data": {
      "text/plain": [
       "<tensorflow.python.keras.engine.sequential.Sequential at 0x137515dd0>"
      ]
     },
     "execution_count": 25,
     "metadata": {},
     "output_type": "execute_result"
    }
   ],
   "source": [
    "model"
   ]
  },
  {
   "cell_type": "markdown",
   "metadata": {},
   "source": [
    "### 입력층"
   ]
  },
  {
   "cell_type": "code",
   "execution_count": 27,
   "metadata": {},
   "outputs": [
    {
     "data": {
      "text/plain": [
       "tensorflow.python.keras.layers.core.Dense"
      ]
     },
     "execution_count": 27,
     "metadata": {},
     "output_type": "execute_result"
    }
   ],
   "source": [
    "keras.layers.Dense"
   ]
  },
  {
   "cell_type": "code",
   "execution_count": 28,
   "metadata": {},
   "outputs": [],
   "source": [
    "model.add(keras.layers.Dense(64, activation='relu', input_shape=(784,)))"
   ]
  },
  {
   "cell_type": "markdown",
   "metadata": {},
   "source": [
    "### 출력층"
   ]
  },
  {
   "cell_type": "code",
   "execution_count": 30,
   "metadata": {},
   "outputs": [],
   "source": [
    "model.add(keras.layers.Dense(10, activation='softmax'))"
   ]
  },
  {
   "cell_type": "code",
   "execution_count": null,
   "metadata": {},
   "outputs": [],
   "source": []
  },
  {
   "cell_type": "markdown",
   "metadata": {},
   "source": [
    "### 모델 헉습 준비"
   ]
  },
  {
   "cell_type": "code",
   "execution_count": 32,
   "metadata": {},
   "outputs": [],
   "source": [
    "model.compile(optimizer='adam', loss='categorical_crossentropy', metrics=['accuracy'])"
   ]
  },
  {
   "cell_type": "code",
   "execution_count": 34,
   "metadata": {},
   "outputs": [],
   "source": [
    "tsb = keras.callbacks.TensorBoard(log_dir='./logs')"
   ]
  },
  {
   "cell_type": "code",
   "execution_count": 37,
   "metadata": {},
   "outputs": [
    {
     "name": "stdout",
     "output_type": "stream",
     "text": [
      "Epoch 1/20\n",
      "1500/1500 [==============================] - 2s 2ms/step - loss: 0.0098 - accuracy: 0.9973 - val_loss: 0.0111 - val_accuracy: 0.9968\n",
      "Epoch 2/20\n",
      "1500/1500 [==============================] - 2s 2ms/step - loss: 0.0070 - accuracy: 0.9982 - val_loss: 0.0124 - val_accuracy: 0.9957\n",
      "Epoch 3/20\n",
      "1500/1500 [==============================] - 2s 2ms/step - loss: 0.0069 - accuracy: 0.9980 - val_loss: 0.0127 - val_accuracy: 0.9958\n",
      "Epoch 4/20\n",
      "1500/1500 [==============================] - 3s 2ms/step - loss: 0.0075 - accuracy: 0.9979 - val_loss: 0.0138 - val_accuracy: 0.9952\n",
      "Epoch 5/20\n",
      "1500/1500 [==============================] - 3s 2ms/step - loss: 0.0058 - accuracy: 0.9986 - val_loss: 0.0227 - val_accuracy: 0.9919\n",
      "Epoch 6/20\n",
      "1500/1500 [==============================] - 3s 2ms/step - loss: 0.0060 - accuracy: 0.9985 - val_loss: 0.0209 - val_accuracy: 0.9924\n",
      "Epoch 7/20\n",
      "1500/1500 [==============================] - 3s 2ms/step - loss: 0.0050 - accuracy: 0.9988 - val_loss: 0.0211 - val_accuracy: 0.9931\n",
      "Epoch 8/20\n",
      "1500/1500 [==============================] - 3s 2ms/step - loss: 0.0056 - accuracy: 0.9985 - val_loss: 0.0159 - val_accuracy: 0.9945\n",
      "Epoch 9/20\n",
      "1500/1500 [==============================] - 3s 2ms/step - loss: 0.0052 - accuracy: 0.9986 - val_loss: 0.0254 - val_accuracy: 0.9916 loss: 0.0051 \n",
      "Epoch 10/20\n",
      "1500/1500 [==============================] - 3s 2ms/step - loss: 0.0040 - accuracy: 0.9989 - val_loss: 0.0293 - val_accuracy: 0.9903\n",
      "Epoch 11/20\n",
      "1500/1500 [==============================] - 2s 2ms/step - loss: 0.0051 - accuracy: 0.9984 - val_loss: 0.0343 - val_accuracy: 0.9890\n",
      "Epoch 12/20\n",
      "1500/1500 [==============================] - 3s 2ms/step - loss: 0.0038 - accuracy: 0.9991 - val_loss: 0.0317 - val_accuracy: 0.9909\n",
      "Epoch 13/20\n",
      "1500/1500 [==============================] - 2s 2ms/step - loss: 0.0043 - accuracy: 0.9987 - val_loss: 0.0382 - val_accuracy: 0.9886\n",
      "Epoch 14/20\n",
      "1500/1500 [==============================] - 2s 2ms/step - loss: 0.0037 - accuracy: 0.9990 - val_loss: 0.0429 - val_accuracy: 0.9883\n",
      "Epoch 15/20\n",
      "1500/1500 [==============================] - 2s 1ms/step - loss: 0.0042 - accuracy: 0.9988 - val_loss: 0.0271 - val_accuracy: 0.9912\n",
      "Epoch 16/20\n",
      "1500/1500 [==============================] - 2s 1ms/step - loss: 0.0043 - accuracy: 0.9986 - val_loss: 0.0309 - val_accuracy: 0.9908\n",
      "Epoch 17/20\n",
      "1500/1500 [==============================] - 2s 2ms/step - loss: 0.0020 - accuracy: 0.9995 - val_loss: 0.0319 - val_accuracy: 0.9916: 0s - loss: 0.0021 - accuracy: \n",
      "Epoch 18/20\n",
      "1500/1500 [==============================] - 2s 2ms/step - loss: 0.0044 - accuracy: 0.9987 - val_loss: 0.0382 - val_accuracy: 0.9903\n",
      "Epoch 19/20\n",
      "1500/1500 [==============================] - 3s 2ms/step - loss: 0.0035 - accuracy: 0.9990 - val_loss: 0.0322 - val_accuracy: 0.9906\n",
      "Epoch 20/20\n",
      "1500/1500 [==============================] - 3s 2ms/step - loss: 6.3009e-04 - accuracy: 0.9999 - val_loss: 0.0482 - val_accuracy: 0.9858\n"
     ]
    }
   ],
   "source": [
    "history_adam = model.fit(X_train, Y_train, batch_size=32, epochs=20, validation_split=0.2, callbacks=[tsb])"
   ]
  },
  {
   "cell_type": "code",
   "execution_count": null,
   "metadata": {},
   "outputs": [],
   "source": []
  }
 ],
 "metadata": {
  "kernelspec": {
   "display_name": "Python 3",
   "language": "python",
   "name": "python3"
  },
  "language_info": {
   "codemirror_mode": {
    "name": "ipython",
    "version": 3
   },
   "file_extension": ".py",
   "mimetype": "text/x-python",
   "name": "python",
   "nbconvert_exporter": "python",
   "pygments_lexer": "ipython3",
   "version": "3.7.4"
  }
 },
 "nbformat": 4,
 "nbformat_minor": 2
}
