{
 "cells": [
  {
   "cell_type": "code",
   "execution_count": 1,
   "metadata": {},
   "outputs": [],
   "source": [
    "import tensorflow as tf"
   ]
  },
  {
   "cell_type": "code",
   "execution_count": 2,
   "metadata": {},
   "outputs": [
    {
     "data": {
      "text/plain": [
       "'2.2.0'"
      ]
     },
     "execution_count": 2,
     "metadata": {},
     "output_type": "execute_result"
    }
   ],
   "source": [
    "tf.__version__"
   ]
  },
  {
   "cell_type": "code",
   "execution_count": 3,
   "metadata": {},
   "outputs": [],
   "source": [
    "import numpy as np"
   ]
  },
  {
   "cell_type": "code",
   "execution_count": 4,
   "metadata": {},
   "outputs": [],
   "source": [
    "import matplotlib.pyplot as plt"
   ]
  },
  {
   "cell_type": "code",
   "execution_count": 5,
   "metadata": {},
   "outputs": [],
   "source": [
    "from tensorflow.keras.datasets import boston_housing"
   ]
  },
  {
   "cell_type": "code",
   "execution_count": 11,
   "metadata": {},
   "outputs": [
    {
     "data": {
      "text/plain": [
       "['__builtins__',\n",
       " '__cached__',\n",
       " '__doc__',\n",
       " '__file__',\n",
       " '__loader__',\n",
       " '__name__',\n",
       " '__package__',\n",
       " '__path__',\n",
       " '__spec__',\n",
       " '_sys',\n",
       " 'load_data']"
      ]
     },
     "execution_count": 11,
     "metadata": {},
     "output_type": "execute_result"
    }
   ],
   "source": [
    "dir(boston_housing)"
   ]
  },
  {
   "cell_type": "code",
   "execution_count": 6,
   "metadata": {},
   "outputs": [],
   "source": [
    "(x_train, y_train), (x_test, y_test) = boston_housing.load_data()"
   ]
  },
  {
   "cell_type": "code",
   "execution_count": 7,
   "metadata": {},
   "outputs": [
    {
     "data": {
      "text/plain": [
       "((404, 13), (102, 13))"
      ]
     },
     "execution_count": 7,
     "metadata": {},
     "output_type": "execute_result"
    }
   ],
   "source": [
    "x_train.shape,  x_test.shape"
   ]
  },
  {
   "cell_type": "code",
   "execution_count": 10,
   "metadata": {},
   "outputs": [
    {
     "data": {
      "text/plain": [
       "array([  1.23247,   0.     ,   8.14   ,   0.     ,   0.538  ,   6.142  ,\n",
       "        91.7    ,   3.9769 ,   4.     , 307.     ,  21.     , 396.9    ,\n",
       "        18.72   ])"
      ]
     },
     "execution_count": 10,
     "metadata": {},
     "output_type": "execute_result"
    }
   ],
   "source": [
    "x_train[0]"
   ]
  },
  {
   "cell_type": "code",
   "execution_count": 8,
   "metadata": {},
   "outputs": [],
   "source": [
    "columns = ['crim', 'zn', 'indus', 'chas', 'nox', 'rm', 'age', 'dis', 'rad','tax', 'ptratio', 'black', 'lstat','medv']"
   ]
  },
  {
   "cell_type": "code",
   "execution_count": 9,
   "metadata": {},
   "outputs": [
    {
     "data": {
      "text/plain": [
       "14"
      ]
     },
     "execution_count": 9,
     "metadata": {},
     "output_type": "execute_result"
    }
   ],
   "source": [
    "len(columns)"
   ]
  },
  {
   "cell_type": "code",
   "execution_count": 15,
   "metadata": {},
   "outputs": [],
   "source": [
    "from sklearn.preprocessing import StandardScaler"
   ]
  },
  {
   "cell_type": "code",
   "execution_count": 16,
   "metadata": {},
   "outputs": [],
   "source": [
    "scaler = StandardScaler()"
   ]
  },
  {
   "cell_type": "code",
   "execution_count": 18,
   "metadata": {},
   "outputs": [],
   "source": [
    "scaler.fit(x_train)"
   ]
  },
  {
   "cell_type": "code",
   "execution_count": 22,
   "metadata": {},
   "outputs": [],
   "source": [
    "X_train =scaler.transform(x_train)"
   ]
  },
  {
   "cell_type": "code",
   "execution_count": 23,
   "metadata": {},
   "outputs": [
    {
     "data": {
      "text/plain": [
       "(404, 13)"
      ]
     },
     "execution_count": 23,
     "metadata": {},
     "output_type": "execute_result"
    }
   ],
   "source": [
    "X_train.shape"
   ]
  },
  {
   "cell_type": "code",
   "execution_count": 26,
   "metadata": {},
   "outputs": [],
   "source": [
    "X_test = scaler.transform(x_test)"
   ]
  },
  {
   "cell_type": "code",
   "execution_count": null,
   "metadata": {},
   "outputs": [],
   "source": []
  },
  {
   "cell_type": "code",
   "execution_count": 39,
   "metadata": {},
   "outputs": [],
   "source": [
    "from tensorflow.keras import models\n",
    "from tensorflow.keras import layers\n",
    "\n",
    "def build_model():\n",
    "    model = models.Sequential()\n",
    "    model.add(layers.Dense(64, activation='relu', input_shape=(x_train.shape[1],)))\n",
    "    model.add(layers.Dense(32, activation='relu'))\n",
    "    model.add(layers.Dense(32, activation='relu'))\n",
    "    model.add(layers.Dense(1))\n",
    "    model.compile(optimizer='adam', loss='mse', metrics=['mae'])\n",
    "    return model"
   ]
  },
  {
   "cell_type": "code",
   "execution_count": 40,
   "metadata": {},
   "outputs": [],
   "source": [
    "model = build_model()"
   ]
  },
  {
   "cell_type": "code",
   "execution_count": 43,
   "metadata": {},
   "outputs": [
    {
     "name": "stdout",
     "output_type": "stream",
     "text": [
      "Epoch 1/100\n",
      "404/404 [==============================] - 0s 866us/step - loss: 6.0931 - mae: 1.8276\n",
      "Epoch 2/100\n",
      "404/404 [==============================] - 0s 817us/step - loss: 6.5492 - mae: 1.8380\n",
      "Epoch 3/100\n",
      "404/404 [==============================] - 0s 792us/step - loss: 5.9459 - mae: 1.8287\n",
      "Epoch 4/100\n",
      "404/404 [==============================] - 0s 820us/step - loss: 6.2101 - mae: 1.8474\n",
      "Epoch 5/100\n",
      "404/404 [==============================] - 0s 821us/step - loss: 5.4746 - mae: 1.6357\n",
      "Epoch 6/100\n",
      "404/404 [==============================] - 0s 921us/step - loss: 5.4330 - mae: 1.7251\n",
      "Epoch 7/100\n",
      "404/404 [==============================] - 0s 1ms/step - loss: 5.8396 - mae: 1.7849\n",
      "Epoch 8/100\n",
      "404/404 [==============================] - 0s 908us/step - loss: 5.2314 - mae: 1.6865\n",
      "Epoch 9/100\n",
      "404/404 [==============================] - 0s 962us/step - loss: 5.1751 - mae: 1.6661\n",
      "Epoch 10/100\n",
      "404/404 [==============================] - 0s 880us/step - loss: 5.2415 - mae: 1.6271 0s - loss: 3.8370 - mae: 1.4\n",
      "Epoch 11/100\n",
      "404/404 [==============================] - 0s 818us/step - loss: 5.3204 - mae: 1.7042\n",
      "Epoch 12/100\n",
      "404/404 [==============================] - 0s 840us/step - loss: 4.8092 - mae: 1.5825\n",
      "Epoch 13/100\n",
      "404/404 [==============================] - 1s 1ms/step - loss: 4.8938 - mae: 1.6461\n",
      "Epoch 14/100\n",
      "404/404 [==============================] - 0s 1ms/step - loss: 4.6063 - mae: 1.5690\n",
      "Epoch 15/100\n",
      "404/404 [==============================] - 0s 876us/step - loss: 4.7043 - mae: 1.6152\n",
      "Epoch 16/100\n",
      "404/404 [==============================] - 0s 866us/step - loss: 4.2901 - mae: 1.5236\n",
      "Epoch 17/100\n",
      "404/404 [==============================] - 0s 825us/step - loss: 4.3208 - mae: 1.5778\n",
      "Epoch 18/100\n",
      "404/404 [==============================] - 0s 834us/step - loss: 4.1403 - mae: 1.5245\n",
      "Epoch 19/100\n",
      "404/404 [==============================] - 0s 817us/step - loss: 4.6476 - mae: 1.6226\n",
      "Epoch 20/100\n",
      "404/404 [==============================] - 0s 803us/step - loss: 4.2581 - mae: 1.5424\n",
      "Epoch 21/100\n",
      "404/404 [==============================] - 0s 850us/step - loss: 4.4352 - mae: 1.5509\n",
      "Epoch 22/100\n",
      "404/404 [==============================] - 0s 786us/step - loss: 4.1306 - mae: 1.4850\n",
      "Epoch 23/100\n",
      "404/404 [==============================] - 0s 893us/step - loss: 3.6144 - mae: 1.4194\n",
      "Epoch 24/100\n",
      "404/404 [==============================] - 0s 847us/step - loss: 4.5067 - mae: 1.5848\n",
      "Epoch 25/100\n",
      "404/404 [==============================] - 0s 824us/step - loss: 3.9969 - mae: 1.4967\n",
      "Epoch 26/100\n",
      "404/404 [==============================] - 0s 1ms/step - loss: 4.0343 - mae: 1.4845\n",
      "Epoch 27/100\n",
      "404/404 [==============================] - 0s 1ms/step - loss: 3.4157 - mae: 1.3932\n",
      "Epoch 28/100\n",
      "404/404 [==============================] - 0s 831us/step - loss: 3.2201 - mae: 1.3917\n",
      "Epoch 29/100\n",
      "404/404 [==============================] - 0s 840us/step - loss: 3.8791 - mae: 1.4751\n",
      "Epoch 30/100\n",
      "404/404 [==============================] - 0s 792us/step - loss: 3.7286 - mae: 1.4000\n",
      "Epoch 31/100\n",
      "404/404 [==============================] - 0s 794us/step - loss: 3.3685 - mae: 1.3892\n",
      "Epoch 32/100\n",
      "404/404 [==============================] - 0s 780us/step - loss: 3.1473 - mae: 1.3009\n",
      "Epoch 33/100\n",
      "404/404 [==============================] - 0s 822us/step - loss: 3.3912 - mae: 1.3905\n",
      "Epoch 34/100\n",
      "404/404 [==============================] - 0s 810us/step - loss: 3.6488 - mae: 1.4364\n",
      "Epoch 35/100\n",
      "404/404 [==============================] - 0s 853us/step - loss: 3.7041 - mae: 1.4199\n",
      "Epoch 36/100\n",
      "404/404 [==============================] - 0s 906us/step - loss: 3.3668 - mae: 1.3791\n",
      "Epoch 37/100\n",
      "404/404 [==============================] - 1s 2ms/step - loss: 2.6465 - mae: 1.2109\n",
      "Epoch 38/100\n",
      "404/404 [==============================] - 0s 967us/step - loss: 2.8009 - mae: 1.2754\n",
      "Epoch 39/100\n",
      "404/404 [==============================] - 0s 826us/step - loss: 3.0849 - mae: 1.3164\n",
      "Epoch 40/100\n",
      "404/404 [==============================] - 0s 856us/step - loss: 2.7992 - mae: 1.2724\n",
      "Epoch 41/100\n",
      "404/404 [==============================] - 0s 792us/step - loss: 3.3739 - mae: 1.3893\n",
      "Epoch 42/100\n",
      "404/404 [==============================] - 0s 767us/step - loss: 3.5719 - mae: 1.3669\n",
      "Epoch 43/100\n",
      "404/404 [==============================] - 0s 855us/step - loss: 3.8269 - mae: 1.4288\n",
      "Epoch 44/100\n",
      "404/404 [==============================] - 0s 903us/step - loss: 2.9404 - mae: 1.3042\n",
      "Epoch 45/100\n",
      "404/404 [==============================] - 0s 812us/step - loss: 3.2410 - mae: 1.3033\n",
      "Epoch 46/100\n",
      "404/404 [==============================] - 0s 818us/step - loss: 2.5906 - mae: 1.2245 0s - loss: 2.5793 - mae: 1.222\n",
      "Epoch 47/100\n",
      "404/404 [==============================] - 0s 809us/step - loss: 2.8396 - mae: 1.2754\n",
      "Epoch 48/100\n",
      "404/404 [==============================] - 0s 824us/step - loss: 3.0507 - mae: 1.2835\n",
      "Epoch 49/100\n",
      "404/404 [==============================] - 0s 1ms/step - loss: 3.0770 - mae: 1.3392\n",
      "Epoch 50/100\n",
      "404/404 [==============================] - 0s 1ms/step - loss: 3.1197 - mae: 1.3048\n",
      "Epoch 51/100\n",
      "404/404 [==============================] - 0s 849us/step - loss: 2.7610 - mae: 1.2234\n",
      "Epoch 52/100\n",
      "404/404 [==============================] - 0s 953us/step - loss: 2.9708 - mae: 1.2819\n",
      "Epoch 53/100\n",
      "404/404 [==============================] - 0s 793us/step - loss: 2.3811 - mae: 1.1511\n",
      "Epoch 54/100\n",
      "404/404 [==============================] - 0s 939us/step - loss: 2.4320 - mae: 1.1683 0s - loss: 2.4261 - mae: 1.169\n",
      "Epoch 55/100\n",
      "404/404 [==============================] - 0s 1ms/step - loss: 2.3921 - mae: 1.1474\n",
      "Epoch 56/100\n",
      "404/404 [==============================] - 0s 1ms/step - loss: 2.5546 - mae: 1.1950\n",
      "Epoch 57/100\n",
      "404/404 [==============================] - 0s 1ms/step - loss: 2.4681 - mae: 1.1575\n",
      "Epoch 58/100\n",
      "404/404 [==============================] - 0s 885us/step - loss: 2.4988 - mae: 1.1969\n",
      "Epoch 59/100\n",
      "404/404 [==============================] - 0s 1ms/step - loss: 2.3570 - mae: 1.1470\n",
      "Epoch 60/100\n",
      "404/404 [==============================] - 1s 2ms/step - loss: 3.3268 - mae: 1.3500\n",
      "Epoch 61/100\n",
      "404/404 [==============================] - 1s 1ms/step - loss: 2.4989 - mae: 1.1749A: 0s - loss: 2.0220 - mae: 1.\n",
      "Epoch 62/100\n",
      "404/404 [==============================] - 0s 1ms/step - loss: 3.2948 - mae: 1.3167A: 0s - loss: 3.6426 - mae: \n",
      "Epoch 63/100\n",
      "404/404 [==============================] - 0s 1ms/step - loss: 2.5373 - mae: 1.1623\n",
      "Epoch 64/100\n",
      "404/404 [==============================] - 1s 2ms/step - loss: 3.1067 - mae: 1.2646\n",
      "Epoch 65/100\n",
      "404/404 [==============================] - 0s 1ms/step - loss: 2.4654 - mae: 1.1571\n",
      "Epoch 66/100\n",
      "404/404 [==============================] - 0s 1ms/step - loss: 2.3739 - mae: 1.1573\n",
      "Epoch 67/100\n",
      "404/404 [==============================] - 1s 1ms/step - loss: 2.6877 - mae: 1.2420- ETA: 0s - loss: 2.6411 - mae: \n",
      "Epoch 68/100\n",
      "404/404 [==============================] - 0s 1ms/step - loss: 2.2808 - mae: 1.1153\n",
      "Epoch 69/100\n",
      "404/404 [==============================] - 0s 978us/step - loss: 2.6670 - mae: 1.1549\n",
      "Epoch 70/100\n",
      "404/404 [==============================] - 0s 1ms/step - loss: 2.3225 - mae: 1.1278\n",
      "Epoch 71/100\n",
      "404/404 [==============================] - 0s 1ms/step - loss: 2.8295 - mae: 1.2483\n",
      "Epoch 72/100\n",
      "404/404 [==============================] - 1s 1ms/step - loss: 2.7446 - mae: 1.1935\n",
      "Epoch 73/100\n",
      "404/404 [==============================] - 1s 2ms/step - loss: 2.6605 - mae: 1.2053\n",
      "Epoch 74/100\n",
      "404/404 [==============================] - 1s 1ms/step - loss: 2.3703 - mae: 1.1131\n",
      "Epoch 75/100\n",
      "404/404 [==============================] - 1s 1ms/step - loss: 2.3584 - mae: 1.1383\n",
      "Epoch 76/100\n",
      "404/404 [==============================] - 0s 1ms/step - loss: 2.3076 - mae: 1.1230A: 0s - loss: 2.2972 - mae: 1.120\n",
      "Epoch 77/100\n",
      "404/404 [==============================] - 1s 1ms/step - loss: 2.2558 - mae: 1.1032\n",
      "Epoch 78/100\n",
      "404/404 [==============================] - 0s 961us/step - loss: 2.5906 - mae: 1.1667\n",
      "Epoch 79/100\n",
      "404/404 [==============================] - 0s 1ms/step - loss: 2.0657 - mae: 1.0850\n",
      "Epoch 80/100\n",
      "404/404 [==============================] - 0s 921us/step - loss: 2.3312 - mae: 1.1256\n",
      "Epoch 81/100\n",
      "404/404 [==============================] - 0s 926us/step - loss: 2.2104 - mae: 1.0946\n",
      "Epoch 82/100\n"
     ]
    },
    {
     "name": "stdout",
     "output_type": "stream",
     "text": [
      "404/404 [==============================] - 0s 1ms/step - loss: 2.3675 - mae: 1.1092\n",
      "Epoch 83/100\n",
      "404/404 [==============================] - 0s 1ms/step - loss: 2.2980 - mae: 1.1253\n",
      "Epoch 84/100\n",
      "404/404 [==============================] - 1s 1ms/step - loss: 1.7221 - mae: 0.9796\n",
      "Epoch 85/100\n",
      "404/404 [==============================] - 1s 1ms/step - loss: 2.1809 - mae: 1.0923\n",
      "Epoch 86/100\n",
      "404/404 [==============================] - 1s 1ms/step - loss: 2.4784 - mae: 1.1336\n",
      "Epoch 87/100\n",
      "404/404 [==============================] - 0s 1ms/step - loss: 2.6601 - mae: 1.1162\n",
      "Epoch 88/100\n",
      "404/404 [==============================] - 0s 793us/step - loss: 2.3830 - mae: 1.1108\n",
      "Epoch 89/100\n",
      "404/404 [==============================] - 0s 818us/step - loss: 1.8241 - mae: 1.0128\n",
      "Epoch 90/100\n",
      "404/404 [==============================] - 0s 1ms/step - loss: 1.7648 - mae: 0.9907\n",
      "Epoch 91/100\n",
      "404/404 [==============================] - 0s 1ms/step - loss: 2.6798 - mae: 1.2094\n",
      "Epoch 92/100\n",
      "404/404 [==============================] - 0s 971us/step - loss: 1.9411 - mae: 1.0240\n",
      "Epoch 93/100\n",
      "404/404 [==============================] - 0s 909us/step - loss: 2.6352 - mae: 1.1686\n",
      "Epoch 94/100\n",
      "404/404 [==============================] - 0s 909us/step - loss: 1.9589 - mae: 1.0283\n",
      "Epoch 95/100\n",
      "404/404 [==============================] - 0s 927us/step - loss: 1.9839 - mae: 1.0474\n",
      "Epoch 96/100\n",
      "404/404 [==============================] - 0s 1ms/step - loss: 2.2427 - mae: 1.0583\n",
      "Epoch 97/100\n",
      "404/404 [==============================] - 0s 1ms/step - loss: 2.1835 - mae: 1.1064\n",
      "Epoch 98/100\n",
      "404/404 [==============================] - 0s 1ms/step - loss: 1.8831 - mae: 0.9622\n",
      "Epoch 99/100\n",
      "404/404 [==============================] - 0s 928us/step - loss: 1.8353 - mae: 0.9774\n",
      "Epoch 100/100\n",
      "404/404 [==============================] - 0s 1ms/step - loss: 2.1449 - mae: 1.0372\n"
     ]
    }
   ],
   "source": [
    " history = model.fit(X_train, y_train, epochs=100, batch_size=1)"
   ]
  },
  {
   "cell_type": "code",
   "execution_count": 44,
   "metadata": {},
   "outputs": [
    {
     "name": "stdout",
     "output_type": "stream",
     "text": [
      "4/4 [==============================] - 0s 2ms/step - loss: 13.0212 - mae: 2.3600\n"
     ]
    },
    {
     "data": {
      "text/plain": [
       "[13.021150588989258, 2.3600189685821533]"
      ]
     },
     "execution_count": 44,
     "metadata": {},
     "output_type": "execute_result"
    }
   ],
   "source": [
    "model.evaluate(X_test, y_test)"
   ]
  },
  {
   "cell_type": "code",
   "execution_count": 34,
   "metadata": {},
   "outputs": [],
   "source": [
    "y_pred = model.predict(X_test)"
   ]
  },
  {
   "cell_type": "code",
   "execution_count": null,
   "metadata": {},
   "outputs": [],
   "source": []
  }
 ],
 "metadata": {
  "kernelspec": {
   "display_name": "Python 3",
   "language": "python",
   "name": "python3"
  },
  "language_info": {
   "codemirror_mode": {
    "name": "ipython",
    "version": 3
   },
   "file_extension": ".py",
   "mimetype": "text/x-python",
   "name": "python",
   "nbconvert_exporter": "python",
   "pygments_lexer": "ipython3",
   "version": "3.7.4"
  }
 },
 "nbformat": 4,
 "nbformat_minor": 2
}
