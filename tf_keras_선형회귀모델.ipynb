{
 "cells": [
  {
   "cell_type": "code",
   "execution_count": 1,
   "metadata": {},
   "outputs": [],
   "source": [
    "import tensorflow as tf"
   ]
  },
  {
   "cell_type": "code",
   "execution_count": 2,
   "metadata": {},
   "outputs": [
    {
     "data": {
      "text/plain": [
       "'2.2.0'"
      ]
     },
     "execution_count": 2,
     "metadata": {},
     "output_type": "execute_result"
    }
   ],
   "source": [
    "tf.__version__"
   ]
  },
  {
   "cell_type": "code",
   "execution_count": 3,
   "metadata": {},
   "outputs": [],
   "source": [
    "%matplotlib inline"
   ]
  },
  {
   "cell_type": "code",
   "execution_count": 4,
   "metadata": {},
   "outputs": [
    {
     "name": "stderr",
     "output_type": "stream",
     "text": [
      "Using TensorFlow backend.\n"
     ]
    }
   ],
   "source": [
    "import keras\n",
    "from keras.models import Sequential\n",
    "from keras.layers import Dense, Activation\n",
    "import numpy as np\n",
    "import matplotlib.pyplot as plt "
   ]
  },
  {
   "cell_type": "code",
   "execution_count": null,
   "metadata": {},
   "outputs": [],
   "source": []
  },
  {
   "cell_type": "code",
   "execution_count": 5,
   "metadata": {},
   "outputs": [],
   "source": [
    "x = data = np.linspace(1,2,200)\n",
    "y = x*4 + np.random.randn(*x.shape) * 0.3\n"
   ]
  },
  {
   "cell_type": "code",
   "execution_count": 6,
   "metadata": {},
   "outputs": [
    {
     "data": {
      "text/plain": [
       "[<matplotlib.lines.Line2D at 0x13c0710d0>]"
      ]
     },
     "execution_count": 6,
     "metadata": {},
     "output_type": "execute_result"
    },
    {
     "data": {
      "image/png": "[encoded data removed]",
      "text/plain": [
       "<Figure size 432x288 with 1 Axes>"
      ]
     },
     "metadata": {
      "needs_background": "light"
     },
     "output_type": "display_data"
    }
   ],
   "source": [
    "plt.plot(x, y, 'bo')"
   ]
  },
  {
   "cell_type": "code",
   "execution_count": null,
   "metadata": {},
   "outputs": [],
   "source": []
  },
  {
   "cell_type": "code",
   "execution_count": 7,
   "metadata": {},
   "outputs": [],
   "source": [
    "model = Sequential()\n",
    "model.add(Dense(1, input_dim=1, activation='linear'))"
   ]
  },
  {
   "cell_type": "code",
   "execution_count": null,
   "metadata": {},
   "outputs": [],
   "source": []
  },
  {
   "cell_type": "code",
   "execution_count": 8,
   "metadata": {},
   "outputs": [],
   "source": [
    "model.compile(optimizer='sgd', loss='mse', metrics=['mse'])"
   ]
  },
  {
   "cell_type": "markdown",
   "metadata": {},
   "source": [
    "## 초기값 확인 "
   ]
  },
  {
   "cell_type": "code",
   "execution_count": 9,
   "metadata": {},
   "outputs": [
    {
     "name": "stdout",
     "output_type": "stream",
     "text": [
      "Linear regression model is initialized with weights w: -0.84, b: 0.00\n"
     ]
    }
   ],
   "source": [
    "weights = model.layers[0].get_weights()\n",
    "w_init = weights[0][0][0]\n",
    "b_init = weights[1][0]\n",
    "print('Linear regression model is initialized with weights w: %.2f, b: %.2f' % (w_init, b_init))"
   ]
  },
  {
   "cell_type": "code",
   "execution_count": 10,
   "metadata": {},
   "outputs": [
    {
     "data": {
      "text/plain": [
       "[<matplotlib.lines.Line2D at 0x13ea54bd0>]"
      ]
     },
     "execution_count": 10,
     "metadata": {},
     "output_type": "execute_result"
    },
    {
     "data": {
      "image/png": "[encoded data removed]",
      "text/plain": [
       "<Figure size 432x288 with 1 Axes>"
      ]
     },
     "metadata": {
      "needs_background": "light"
     },
     "output_type": "display_data"
    }
   ],
   "source": [
    "plt.plot(x, y, 'bo')"
   ]
  },
  {
   "cell_type": "code",
   "execution_count": 11,
   "metadata": {},
   "outputs": [
    {
     "name": "stdout",
     "output_type": "stream",
     "text": [
      "Epoch 1/30\n",
      "200/200 [==============================] - 0s 825us/step - loss: 1.7744 - mse: 1.7744\n",
      "Epoch 2/30\n",
      "200/200 [==============================] - 0s 575us/step - loss: 0.1964 - mse: 0.1964\n",
      "Epoch 3/30\n",
      "200/200 [==============================] - 0s 584us/step - loss: 0.1884 - mse: 0.1884\n",
      "Epoch 4/30\n",
      "200/200 [==============================] - 0s 593us/step - loss: 0.1810 - mse: 0.1810\n",
      "Epoch 5/30\n",
      "200/200 [==============================] - 0s 607us/step - loss: 0.1742 - mse: 0.1742\n",
      "Epoch 6/30\n",
      "200/200 [==============================] - 0s 594us/step - loss: 0.1679 - mse: 0.1679\n",
      "Epoch 7/30\n",
      "200/200 [==============================] - 0s 571us/step - loss: 0.1621 - mse: 0.1621\n",
      "Epoch 8/30\n",
      "200/200 [==============================] - 0s 549us/step - loss: 0.1568 - mse: 0.1568\n",
      "Epoch 9/30\n",
      "200/200 [==============================] - 0s 564us/step - loss: 0.1520 - mse: 0.1520\n",
      "Epoch 10/30\n",
      "200/200 [==============================] - 0s 575us/step - loss: 0.1475 - mse: 0.1475\n",
      "Epoch 11/30\n",
      "200/200 [==============================] - 0s 583us/step - loss: 0.1433 - mse: 0.1433\n",
      "Epoch 12/30\n",
      "200/200 [==============================] - 0s 594us/step - loss: 0.1395 - mse: 0.1395\n",
      "Epoch 13/30\n",
      "200/200 [==============================] - 0s 590us/step - loss: 0.1360 - mse: 0.1360\n",
      "Epoch 14/30\n",
      "200/200 [==============================] - 0s 596us/step - loss: 0.1328 - mse: 0.1328\n",
      "Epoch 15/30\n",
      "200/200 [==============================] - 0s 578us/step - loss: 0.1298 - mse: 0.1298\n",
      "Epoch 16/30\n",
      "200/200 [==============================] - 0s 577us/step - loss: 0.1271 - mse: 0.1271\n",
      "Epoch 17/30\n",
      "200/200 [==============================] - 0s 569us/step - loss: 0.1246 - mse: 0.1246\n",
      "Epoch 18/30\n",
      "200/200 [==============================] - 0s 541us/step - loss: 0.1222 - mse: 0.1222\n",
      "Epoch 19/30\n",
      "200/200 [==============================] - 0s 565us/step - loss: 0.1201 - mse: 0.1201\n",
      "Epoch 20/30\n",
      "200/200 [==============================] - 0s 994us/step - loss: 0.1181 - mse: 0.1181\n",
      "Epoch 21/30\n",
      "200/200 [==============================] - 0s 1ms/step - loss: 0.1163 - mse: 0.1163\n",
      "Epoch 22/30\n",
      "200/200 [==============================] - 0s 1ms/step - loss: 0.1146 - mse: 0.1146\n",
      "Epoch 23/30\n",
      "200/200 [==============================] - 0s 1ms/step - loss: 0.1131 - mse: 0.1131\n",
      "Epoch 24/30\n",
      "200/200 [==============================] - 0s 1ms/step - loss: 0.1117 - mse: 0.1117\n",
      "Epoch 25/30\n",
      "200/200 [==============================] - 0s 1ms/step - loss: 0.1104 - mse: 0.1104\n",
      "Epoch 26/30\n",
      "200/200 [==============================] - 0s 2ms/step - loss: 0.1092 - mse: 0.1092\n",
      "Epoch 27/30\n",
      "200/200 [==============================] - 0s 1ms/step - loss: 0.1081 - mse: 0.1081\n",
      "Epoch 28/30\n",
      "200/200 [==============================] - 0s 1ms/step - loss: 0.1070 - mse: 0.1070\n",
      "Epoch 29/30\n",
      "200/200 [==============================] - 0s 986us/step - loss: 0.1061 - mse: 0.1061\n",
      "Epoch 30/30\n",
      "200/200 [==============================] - 0s 737us/step - loss: 0.1052 - mse: 0.1052\n"
     ]
    },
    {
     "data": {
      "text/plain": [
       "<keras.callbacks.callbacks.History at 0x13be07610>"
      ]
     },
     "execution_count": 11,
     "metadata": {},
     "output_type": "execute_result"
    }
   ],
   "source": [
    "model.fit(x,y, batch_size=1, epochs=30, shuffle=False)"
   ]
  },
  {
   "cell_type": "code",
   "execution_count": 12,
   "metadata": {},
   "outputs": [
    {
     "name": "stdout",
     "output_type": "stream",
     "text": [
      "Linear regression model is trained to have weight w: 3.51, b: 0.95\n"
     ]
    }
   ],
   "source": [
    "weights = model.layers[0].get_weights()\n",
    "w_final = weights[0][0][0]\n",
    "b_final = weights[1][0]\n",
    "print('Linear regression model is trained to have weight w: %.2f, b: %.2f' % (w_final, b_final))"
   ]
  },
  {
   "cell_type": "code",
   "execution_count": null,
   "metadata": {},
   "outputs": [],
   "source": []
  },
  {
   "cell_type": "code",
   "execution_count": 13,
   "metadata": {},
   "outputs": [
    {
     "data": {
      "image/png": "[encoded data removed]",
      "text/plain": [
       "<Figure size 432x288 with 1 Axes>"
      ]
     },
     "metadata": {
      "needs_background": "light"
     },
     "output_type": "display_data"
    }
   ],
   "source": [
    "\n",
    "predict = model.predict(data)\n",
    "\n",
    "plt.plot(data, predict, 'b', data , y, 'k.')\n",
    "plt.show()"
   ]
  },
  {
   "cell_type": "code",
   "execution_count": null,
   "metadata": {},
   "outputs": [],
   "source": []
  },
  {
   "cell_type": "code",
   "execution_count": null,
   "metadata": {},
   "outputs": [],
   "source": []
  },
  {
   "cell_type": "code",
   "execution_count": null,
   "metadata": {},
   "outputs": [],
   "source": []
  },
  {
   "cell_type": "code",
   "execution_count": null,
   "metadata": {},
   "outputs": [],
   "source": []
  }
 ],
 "metadata": {
  "kernelspec": {
   "display_name": "Python 3",
   "language": "python",
   "name": "python3"
  },
  "language_info": {
   "codemirror_mode": {
    "name": "ipython",
    "version": 3
   },
   "file_extension": ".py",
   "mimetype": "text/x-python",
   "name": "python",
   "nbconvert_exporter": "python",
   "pygments_lexer": "ipython3",
   "version": "3.7.4"
  }
 },
 "nbformat": 4,
 "nbformat_minor": 2
}
