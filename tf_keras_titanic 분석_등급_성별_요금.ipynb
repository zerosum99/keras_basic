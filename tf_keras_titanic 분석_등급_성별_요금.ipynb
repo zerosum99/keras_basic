{
 "cells": [
  {
   "cell_type": "markdown",
   "metadata": {},
   "source": [
    "\n",
    "## 참조자료\n",
    "\n",
    "https://pinkwink.kr/1119"
   ]
  },
  {
   "cell_type": "markdown",
   "metadata": {},
   "source": [
    "# 1. 타이타닉 데이터 읽어오기"
   ]
  },
  {
   "cell_type": "code",
   "execution_count": null,
   "metadata": {},
   "outputs": [],
   "source": []
  },
  {
   "cell_type": "code",
   "execution_count": 1,
   "metadata": {},
   "outputs": [],
   "source": [
    "import pandas as pd"
   ]
  },
  {
   "cell_type": "code",
   "execution_count": 2,
   "metadata": {},
   "outputs": [],
   "source": [
    "titanic = pd.read_csv('dataset/titanic.csv', encoding='utf-8')"
   ]
  },
  {
   "cell_type": "code",
   "execution_count": 3,
   "metadata": {},
   "outputs": [
    {
     "data": {
      "text/plain": [
       "(887, 8)"
      ]
     },
     "execution_count": 3,
     "metadata": {},
     "output_type": "execute_result"
    }
   ],
   "source": [
    "titanic.shape"
   ]
  },
  {
   "cell_type": "code",
   "execution_count": 4,
   "metadata": {},
   "outputs": [
    {
     "data": {
      "text/html": [
       "<div>\n",
       "<style scoped>\n",
       "    .dataframe tbody tr th:only-of-type {\n",
       "        vertical-align: middle;\n",
       "    }\n",
       "\n",
       "    .dataframe tbody tr th {\n",
       "        vertical-align: top;\n",
       "    }\n",
       "\n",
       "    .dataframe thead th {\n",
       "        text-align: right;\n",
       "    }\n",
       "</style>\n",
       "<table border=\"1\" class=\"dataframe\">\n",
       "  <thead>\n",
       "    <tr style=\"text-align: right;\">\n",
       "      <th></th>\n",
       "      <th>Survived</th>\n",
       "      <th>Pclass</th>\n",
       "      <th>Name</th>\n",
       "      <th>Sex</th>\n",
       "      <th>Age</th>\n",
       "      <th>Siblings/Spouses Aboard</th>\n",
       "      <th>Parents/Children Aboard</th>\n",
       "      <th>Fare</th>\n",
       "    </tr>\n",
       "  </thead>\n",
       "  <tbody>\n",
       "    <tr>\n",
       "      <th>0</th>\n",
       "      <td>0</td>\n",
       "      <td>3</td>\n",
       "      <td>Mr. Owen Harris Braund</td>\n",
       "      <td>male</td>\n",
       "      <td>22.0</td>\n",
       "      <td>1</td>\n",
       "      <td>0</td>\n",
       "      <td>7.2500</td>\n",
       "    </tr>\n",
       "    <tr>\n",
       "      <th>1</th>\n",
       "      <td>1</td>\n",
       "      <td>1</td>\n",
       "      <td>Mrs. John Bradley (Florence Briggs Thayer) Cum...</td>\n",
       "      <td>female</td>\n",
       "      <td>38.0</td>\n",
       "      <td>1</td>\n",
       "      <td>0</td>\n",
       "      <td>71.2833</td>\n",
       "    </tr>\n",
       "    <tr>\n",
       "      <th>2</th>\n",
       "      <td>1</td>\n",
       "      <td>3</td>\n",
       "      <td>Miss. Laina Heikkinen</td>\n",
       "      <td>female</td>\n",
       "      <td>26.0</td>\n",
       "      <td>0</td>\n",
       "      <td>0</td>\n",
       "      <td>7.9250</td>\n",
       "    </tr>\n",
       "    <tr>\n",
       "      <th>3</th>\n",
       "      <td>1</td>\n",
       "      <td>1</td>\n",
       "      <td>Mrs. Jacques Heath (Lily May Peel) Futrelle</td>\n",
       "      <td>female</td>\n",
       "      <td>35.0</td>\n",
       "      <td>1</td>\n",
       "      <td>0</td>\n",
       "      <td>53.1000</td>\n",
       "    </tr>\n",
       "    <tr>\n",
       "      <th>4</th>\n",
       "      <td>0</td>\n",
       "      <td>3</td>\n",
       "      <td>Mr. William Henry Allen</td>\n",
       "      <td>male</td>\n",
       "      <td>35.0</td>\n",
       "      <td>0</td>\n",
       "      <td>0</td>\n",
       "      <td>8.0500</td>\n",
       "    </tr>\n",
       "  </tbody>\n",
       "</table>\n",
       "</div>"
      ],
      "text/plain": [
       "   Survived  Pclass                                               Name  \\\n",
       "0         0       3                             Mr. Owen Harris Braund   \n",
       "1         1       1  Mrs. John Bradley (Florence Briggs Thayer) Cum...   \n",
       "2         1       3                              Miss. Laina Heikkinen   \n",
       "3         1       1        Mrs. Jacques Heath (Lily May Peel) Futrelle   \n",
       "4         0       3                            Mr. William Henry Allen   \n",
       "\n",
       "      Sex   Age  Siblings/Spouses Aboard  Parents/Children Aboard     Fare  \n",
       "0    male  22.0                        1                        0   7.2500  \n",
       "1  female  38.0                        1                        0  71.2833  \n",
       "2  female  26.0                        0                        0   7.9250  \n",
       "3  female  35.0                        1                        0  53.1000  \n",
       "4    male  35.0                        0                        0   8.0500  "
      ]
     },
     "execution_count": 4,
     "metadata": {},
     "output_type": "execute_result"
    }
   ],
   "source": [
    "titanic.head()"
   ]
  },
  {
   "cell_type": "markdown",
   "metadata": {},
   "source": [
    "## 성별을 숫자로 변환하기"
   ]
  },
  {
   "cell_type": "code",
   "execution_count": 5,
   "metadata": {},
   "outputs": [],
   "source": [
    "titanic['Sex'] = titanic['Sex'].str.replace('female',\"1\")\n",
    "titanic['Sex'] = titanic['Sex'].str.replace('male','0.')"
   ]
  },
  {
   "cell_type": "code",
   "execution_count": 6,
   "metadata": {},
   "outputs": [
    {
     "data": {
      "text/html": [
       "<div>\n",
       "<style scoped>\n",
       "    .dataframe tbody tr th:only-of-type {\n",
       "        vertical-align: middle;\n",
       "    }\n",
       "\n",
       "    .dataframe tbody tr th {\n",
       "        vertical-align: top;\n",
       "    }\n",
       "\n",
       "    .dataframe thead th {\n",
       "        text-align: right;\n",
       "    }\n",
       "</style>\n",
       "<table border=\"1\" class=\"dataframe\">\n",
       "  <thead>\n",
       "    <tr style=\"text-align: right;\">\n",
       "      <th></th>\n",
       "      <th>Survived</th>\n",
       "      <th>Pclass</th>\n",
       "      <th>Name</th>\n",
       "      <th>Sex</th>\n",
       "      <th>Age</th>\n",
       "      <th>Siblings/Spouses Aboard</th>\n",
       "      <th>Parents/Children Aboard</th>\n",
       "      <th>Fare</th>\n",
       "    </tr>\n",
       "  </thead>\n",
       "  <tbody>\n",
       "    <tr>\n",
       "      <th>0</th>\n",
       "      <td>0</td>\n",
       "      <td>3</td>\n",
       "      <td>Mr. Owen Harris Braund</td>\n",
       "      <td>0.</td>\n",
       "      <td>22.0</td>\n",
       "      <td>1</td>\n",
       "      <td>0</td>\n",
       "      <td>7.2500</td>\n",
       "    </tr>\n",
       "    <tr>\n",
       "      <th>1</th>\n",
       "      <td>1</td>\n",
       "      <td>1</td>\n",
       "      <td>Mrs. John Bradley (Florence Briggs Thayer) Cum...</td>\n",
       "      <td>1</td>\n",
       "      <td>38.0</td>\n",
       "      <td>1</td>\n",
       "      <td>0</td>\n",
       "      <td>71.2833</td>\n",
       "    </tr>\n",
       "    <tr>\n",
       "      <th>2</th>\n",
       "      <td>1</td>\n",
       "      <td>3</td>\n",
       "      <td>Miss. Laina Heikkinen</td>\n",
       "      <td>1</td>\n",
       "      <td>26.0</td>\n",
       "      <td>0</td>\n",
       "      <td>0</td>\n",
       "      <td>7.9250</td>\n",
       "    </tr>\n",
       "    <tr>\n",
       "      <th>3</th>\n",
       "      <td>1</td>\n",
       "      <td>1</td>\n",
       "      <td>Mrs. Jacques Heath (Lily May Peel) Futrelle</td>\n",
       "      <td>1</td>\n",
       "      <td>35.0</td>\n",
       "      <td>1</td>\n",
       "      <td>0</td>\n",
       "      <td>53.1000</td>\n",
       "    </tr>\n",
       "    <tr>\n",
       "      <th>4</th>\n",
       "      <td>0</td>\n",
       "      <td>3</td>\n",
       "      <td>Mr. William Henry Allen</td>\n",
       "      <td>0.</td>\n",
       "      <td>35.0</td>\n",
       "      <td>0</td>\n",
       "      <td>0</td>\n",
       "      <td>8.0500</td>\n",
       "    </tr>\n",
       "  </tbody>\n",
       "</table>\n",
       "</div>"
      ],
      "text/plain": [
       "   Survived  Pclass                                               Name Sex  \\\n",
       "0         0       3                             Mr. Owen Harris Braund  0.   \n",
       "1         1       1  Mrs. John Bradley (Florence Briggs Thayer) Cum...   1   \n",
       "2         1       3                              Miss. Laina Heikkinen   1   \n",
       "3         1       1        Mrs. Jacques Heath (Lily May Peel) Futrelle   1   \n",
       "4         0       3                            Mr. William Henry Allen  0.   \n",
       "\n",
       "    Age  Siblings/Spouses Aboard  Parents/Children Aboard     Fare  \n",
       "0  22.0                        1                        0   7.2500  \n",
       "1  38.0                        1                        0  71.2833  \n",
       "2  26.0                        0                        0   7.9250  \n",
       "3  35.0                        1                        0  53.1000  \n",
       "4  35.0                        0                        0   8.0500  "
      ]
     },
     "execution_count": 6,
     "metadata": {},
     "output_type": "execute_result"
    }
   ],
   "source": [
    "titanic.head()"
   ]
  },
  {
   "cell_type": "code",
   "execution_count": 7,
   "metadata": {},
   "outputs": [
    {
     "data": {
      "text/plain": [
       "0.    573\n",
       "1     314\n",
       "Name: Sex, dtype: int64"
      ]
     },
     "execution_count": 7,
     "metadata": {},
     "output_type": "execute_result"
    }
   ],
   "source": [
    "titanic['Sex'].value_counts()"
   ]
  },
  {
   "cell_type": "code",
   "execution_count": 8,
   "metadata": {},
   "outputs": [],
   "source": [
    "titanic['Sex'] = titanic['Sex'].astype('float')"
   ]
  },
  {
   "cell_type": "code",
   "execution_count": 9,
   "metadata": {},
   "outputs": [
    {
     "data": {
      "text/html": [
       "<div>\n",
       "<style scoped>\n",
       "    .dataframe tbody tr th:only-of-type {\n",
       "        vertical-align: middle;\n",
       "    }\n",
       "\n",
       "    .dataframe tbody tr th {\n",
       "        vertical-align: top;\n",
       "    }\n",
       "\n",
       "    .dataframe thead th {\n",
       "        text-align: right;\n",
       "    }\n",
       "</style>\n",
       "<table border=\"1\" class=\"dataframe\">\n",
       "  <thead>\n",
       "    <tr style=\"text-align: right;\">\n",
       "      <th></th>\n",
       "      <th>Survived</th>\n",
       "      <th>Pclass</th>\n",
       "      <th>Name</th>\n",
       "      <th>Sex</th>\n",
       "      <th>Age</th>\n",
       "      <th>Siblings/Spouses Aboard</th>\n",
       "      <th>Parents/Children Aboard</th>\n",
       "      <th>Fare</th>\n",
       "    </tr>\n",
       "  </thead>\n",
       "  <tbody>\n",
       "    <tr>\n",
       "      <th>0</th>\n",
       "      <td>0</td>\n",
       "      <td>3</td>\n",
       "      <td>Mr. Owen Harris Braund</td>\n",
       "      <td>0.0</td>\n",
       "      <td>22.0</td>\n",
       "      <td>1</td>\n",
       "      <td>0</td>\n",
       "      <td>7.2500</td>\n",
       "    </tr>\n",
       "    <tr>\n",
       "      <th>1</th>\n",
       "      <td>1</td>\n",
       "      <td>1</td>\n",
       "      <td>Mrs. John Bradley (Florence Briggs Thayer) Cum...</td>\n",
       "      <td>1.0</td>\n",
       "      <td>38.0</td>\n",
       "      <td>1</td>\n",
       "      <td>0</td>\n",
       "      <td>71.2833</td>\n",
       "    </tr>\n",
       "    <tr>\n",
       "      <th>2</th>\n",
       "      <td>1</td>\n",
       "      <td>3</td>\n",
       "      <td>Miss. Laina Heikkinen</td>\n",
       "      <td>1.0</td>\n",
       "      <td>26.0</td>\n",
       "      <td>0</td>\n",
       "      <td>0</td>\n",
       "      <td>7.9250</td>\n",
       "    </tr>\n",
       "    <tr>\n",
       "      <th>3</th>\n",
       "      <td>1</td>\n",
       "      <td>1</td>\n",
       "      <td>Mrs. Jacques Heath (Lily May Peel) Futrelle</td>\n",
       "      <td>1.0</td>\n",
       "      <td>35.0</td>\n",
       "      <td>1</td>\n",
       "      <td>0</td>\n",
       "      <td>53.1000</td>\n",
       "    </tr>\n",
       "    <tr>\n",
       "      <th>4</th>\n",
       "      <td>0</td>\n",
       "      <td>3</td>\n",
       "      <td>Mr. William Henry Allen</td>\n",
       "      <td>0.0</td>\n",
       "      <td>35.0</td>\n",
       "      <td>0</td>\n",
       "      <td>0</td>\n",
       "      <td>8.0500</td>\n",
       "    </tr>\n",
       "  </tbody>\n",
       "</table>\n",
       "</div>"
      ],
      "text/plain": [
       "   Survived  Pclass                                               Name  Sex  \\\n",
       "0         0       3                             Mr. Owen Harris Braund  0.0   \n",
       "1         1       1  Mrs. John Bradley (Florence Briggs Thayer) Cum...  1.0   \n",
       "2         1       3                              Miss. Laina Heikkinen  1.0   \n",
       "3         1       1        Mrs. Jacques Heath (Lily May Peel) Futrelle  1.0   \n",
       "4         0       3                            Mr. William Henry Allen  0.0   \n",
       "\n",
       "    Age  Siblings/Spouses Aboard  Parents/Children Aboard     Fare  \n",
       "0  22.0                        1                        0   7.2500  \n",
       "1  38.0                        1                        0  71.2833  \n",
       "2  26.0                        0                        0   7.9250  \n",
       "3  35.0                        1                        0  53.1000  \n",
       "4  35.0                        0                        0   8.0500  "
      ]
     },
     "execution_count": 9,
     "metadata": {},
     "output_type": "execute_result"
    }
   ],
   "source": [
    "titanic.head()"
   ]
  },
  {
   "cell_type": "markdown",
   "metadata": {},
   "source": [
    "## 정수를 실수로 변환하기"
   ]
  },
  {
   "cell_type": "code",
   "execution_count": 10,
   "metadata": {},
   "outputs": [
    {
     "data": {
      "text/plain": [
       "Survived                     int64\n",
       "Pclass                       int64\n",
       "Name                        object\n",
       "Sex                        float64\n",
       "Age                        float64\n",
       "Siblings/Spouses Aboard      int64\n",
       "Parents/Children Aboard      int64\n",
       "Fare                       float64\n",
       "dtype: object"
      ]
     },
     "execution_count": 10,
     "metadata": {},
     "output_type": "execute_result"
    }
   ],
   "source": [
    "titanic.dtypes"
   ]
  },
  {
   "cell_type": "code",
   "execution_count": 11,
   "metadata": {},
   "outputs": [],
   "source": [
    "titanic['Survived'] = titanic['Survived'].astype('float')\n",
    "titanic['Pclass'] = titanic['Pclass'].astype('float')\n"
   ]
  },
  {
   "cell_type": "code",
   "execution_count": 12,
   "metadata": {},
   "outputs": [
    {
     "data": {
      "text/plain": [
       "Survived                   float64\n",
       "Pclass                     float64\n",
       "Name                        object\n",
       "Sex                        float64\n",
       "Age                        float64\n",
       "Siblings/Spouses Aboard      int64\n",
       "Parents/Children Aboard      int64\n",
       "Fare                       float64\n",
       "dtype: object"
      ]
     },
     "execution_count": 12,
     "metadata": {},
     "output_type": "execute_result"
    }
   ],
   "source": [
    "titanic.dtypes"
   ]
  },
  {
   "cell_type": "code",
   "execution_count": 13,
   "metadata": {},
   "outputs": [
    {
     "data": {
      "text/plain": [
       "array([[0.0, 3.0, 'Mr. Owen Harris Braund', ..., 1, 0, 7.25],\n",
       "       [1.0, 1.0, 'Mrs. John Bradley (Florence Briggs Thayer) Cumings',\n",
       "        ..., 1, 0, 71.2833],\n",
       "       [1.0, 3.0, 'Miss. Laina Heikkinen', ..., 0, 0, 7.925],\n",
       "       ...,\n",
       "       [0.0, 3.0, 'Miss. Catherine Helen Johnston', ..., 1, 2, 23.45],\n",
       "       [1.0, 1.0, 'Mr. Karl Howell Behr', ..., 0, 0, 30.0],\n",
       "       [0.0, 3.0, 'Mr. Patrick Dooley', ..., 0, 0, 7.75]], dtype=object)"
      ]
     },
     "execution_count": 13,
     "metadata": {},
     "output_type": "execute_result"
    }
   ],
   "source": [
    "titanic.values"
   ]
  },
  {
   "cell_type": "markdown",
   "metadata": {},
   "source": [
    "## 학습 및 테스트 데이터로 분리하기\n",
    "\n",
    "   pclass , Sex, Age, Fare를 가지고 구하기 "
   ]
  },
  {
   "cell_type": "code",
   "execution_count": 14,
   "metadata": {},
   "outputs": [],
   "source": [
    "x_data = titanic.values[:, [1,3,7]]\n",
    "y_data = titanic.values[:, [0]]\n",
    "\n",
    "from sklearn.model_selection import train_test_split\n",
    "X_train, X_test, y_train, y_test = train_test_split(x_data, y_data, \n",
    "                                                    test_size=0.1, random_state=7)"
   ]
  },
  {
   "cell_type": "code",
   "execution_count": 15,
   "metadata": {},
   "outputs": [
    {
     "data": {
      "text/plain": [
       "(798, 3)"
      ]
     },
     "execution_count": 15,
     "metadata": {},
     "output_type": "execute_result"
    }
   ],
   "source": [
    "X_train.shape"
   ]
  },
  {
   "cell_type": "code",
   "execution_count": 16,
   "metadata": {},
   "outputs": [
    {
     "data": {
      "text/plain": [
       "(89, 3)"
      ]
     },
     "execution_count": 16,
     "metadata": {},
     "output_type": "execute_result"
    }
   ],
   "source": [
    "X_test.shape"
   ]
  },
  {
   "cell_type": "code",
   "execution_count": null,
   "metadata": {},
   "outputs": [],
   "source": []
  },
  {
   "cell_type": "markdown",
   "metadata": {},
   "source": [
    "# 2. 모델 만들기"
   ]
  },
  {
   "cell_type": "code",
   "execution_count": 17,
   "metadata": {},
   "outputs": [
    {
     "name": "stderr",
     "output_type": "stream",
     "text": [
      "Using TensorFlow backend.\n"
     ]
    }
   ],
   "source": [
    "import keras"
   ]
  },
  {
   "cell_type": "code",
   "execution_count": 18,
   "metadata": {},
   "outputs": [
    {
     "data": {
      "text/plain": [
       "'2.3.1'"
      ]
     },
     "execution_count": 18,
     "metadata": {},
     "output_type": "execute_result"
    }
   ],
   "source": [
    "keras.__version__"
   ]
  },
  {
   "cell_type": "code",
   "execution_count": 19,
   "metadata": {},
   "outputs": [],
   "source": [
    "import tensorflow as tf "
   ]
  },
  {
   "cell_type": "code",
   "execution_count": 20,
   "metadata": {},
   "outputs": [
    {
     "data": {
      "text/plain": [
       "'2.3.0-tf'"
      ]
     },
     "execution_count": 20,
     "metadata": {},
     "output_type": "execute_result"
    }
   ],
   "source": [
    "tf.keras.__version__"
   ]
  },
  {
   "cell_type": "code",
   "execution_count": null,
   "metadata": {},
   "outputs": [],
   "source": []
  },
  {
   "cell_type": "code",
   "execution_count": 21,
   "metadata": {},
   "outputs": [],
   "source": [
    "from keras import  models\n",
    "from keras import  layers"
   ]
  },
  {
   "cell_type": "code",
   "execution_count": null,
   "metadata": {},
   "outputs": [],
   "source": []
  },
  {
   "cell_type": "markdown",
   "metadata": {},
   "source": [
    "## 히든 1, 출력 1로 정의하기"
   ]
  },
  {
   "cell_type": "code",
   "execution_count": 22,
   "metadata": {},
   "outputs": [],
   "source": [
    "model = models.Sequential()"
   ]
  },
  {
   "cell_type": "code",
   "execution_count": 23,
   "metadata": {},
   "outputs": [],
   "source": [
    "model.add(layers.Dense(255, activation='relu', input_shape=(3,)))"
   ]
  },
  {
   "cell_type": "code",
   "execution_count": 24,
   "metadata": {},
   "outputs": [],
   "source": [
    "model.add(layers.Dense(1, activation='sigmoid'))"
   ]
  },
  {
   "cell_type": "code",
   "execution_count": null,
   "metadata": {},
   "outputs": [],
   "source": []
  },
  {
   "cell_type": "code",
   "execution_count": 25,
   "metadata": {},
   "outputs": [
    {
     "name": "stdout",
     "output_type": "stream",
     "text": [
      "Model: \"sequential_1\"\n",
      "_________________________________________________________________\n",
      "Layer (type)                 Output Shape              Param #   \n",
      "=================================================================\n",
      "dense_1 (Dense)              (None, 255)               1020      \n",
      "_________________________________________________________________\n",
      "dense_2 (Dense)              (None, 1)                 256       \n",
      "=================================================================\n",
      "Total params: 1,276\n",
      "Trainable params: 1,276\n",
      "Non-trainable params: 0\n",
      "_________________________________________________________________\n"
     ]
    }
   ],
   "source": [
    "model.summary()"
   ]
  },
  {
   "cell_type": "code",
   "execution_count": null,
   "metadata": {},
   "outputs": [],
   "source": []
  },
  {
   "cell_type": "code",
   "execution_count": 26,
   "metadata": {},
   "outputs": [],
   "source": [
    "model.compile(loss='binary_crossentropy', optimizer='adam',metrics=['accuracy'])"
   ]
  },
  {
   "cell_type": "markdown",
   "metadata": {},
   "source": [
    "## 학습하기"
   ]
  },
  {
   "cell_type": "code",
   "execution_count": 27,
   "metadata": {},
   "outputs": [
    {
     "name": "stdout",
     "output_type": "stream",
     "text": [
      "Train on 798 samples, validate on 89 samples\n",
      "Epoch 1/500\n",
      "798/798 [==============================] - 0s 205us/step - loss: 0.6937 - accuracy: 0.6642 - val_loss: 0.6042 - val_accuracy: 0.6854\n",
      "Epoch 2/500\n",
      "798/798 [==============================] - 0s 42us/step - loss: 0.5885 - accuracy: 0.6905 - val_loss: 0.5530 - val_accuracy: 0.6966\n",
      "Epoch 3/500\n",
      "798/798 [==============================] - 0s 38us/step - loss: 0.5681 - accuracy: 0.7005 - val_loss: 0.5251 - val_accuracy: 0.7416\n",
      "Epoch 4/500\n",
      "798/798 [==============================] - 0s 42us/step - loss: 0.5400 - accuracy: 0.7481 - val_loss: 0.5333 - val_accuracy: 0.7079\n",
      "Epoch 5/500\n",
      "798/798 [==============================] - 0s 44us/step - loss: 0.5272 - accuracy: 0.7531 - val_loss: 0.4765 - val_accuracy: 0.7865\n",
      "Epoch 6/500\n",
      "798/798 [==============================] - 0s 38us/step - loss: 0.5138 - accuracy: 0.7657 - val_loss: 0.4872 - val_accuracy: 0.8090\n",
      "Epoch 7/500\n",
      "798/798 [==============================] - 0s 40us/step - loss: 0.5302 - accuracy: 0.7581 - val_loss: 0.4531 - val_accuracy: 0.8090\n",
      "Epoch 8/500\n",
      "798/798 [==============================] - 0s 40us/step - loss: 0.5033 - accuracy: 0.7619 - val_loss: 0.4459 - val_accuracy: 0.7865\n",
      "Epoch 9/500\n",
      "798/798 [==============================] - 0s 45us/step - loss: 0.4945 - accuracy: 0.7732 - val_loss: 0.4597 - val_accuracy: 0.8427\n",
      "Epoch 10/500\n",
      "798/798 [==============================] - ETA: 0s - loss: 0.7054 - accuracy: 0.56 - 0s 35us/step - loss: 0.4948 - accuracy: 0.7719 - val_loss: 0.4275 - val_accuracy: 0.8315\n",
      "Epoch 11/500\n",
      "798/798 [==============================] - 0s 36us/step - loss: 0.5217 - accuracy: 0.7594 - val_loss: 0.4333 - val_accuracy: 0.7978\n",
      "Epoch 12/500\n",
      "798/798 [==============================] - 0s 36us/step - loss: 0.4821 - accuracy: 0.7832 - val_loss: 0.4198 - val_accuracy: 0.8315\n",
      "Epoch 13/500\n",
      "798/798 [==============================] - 0s 33us/step - loss: 0.5087 - accuracy: 0.7682 - val_loss: 0.4700 - val_accuracy: 0.7753\n",
      "Epoch 14/500\n",
      "798/798 [==============================] - 0s 34us/step - loss: 0.5641 - accuracy: 0.7531 - val_loss: 0.4308 - val_accuracy: 0.8315\n",
      "Epoch 15/500\n",
      "798/798 [==============================] - 0s 36us/step - loss: 0.5095 - accuracy: 0.7644 - val_loss: 0.4158 - val_accuracy: 0.7978\n",
      "Epoch 16/500\n",
      "798/798 [==============================] - 0s 36us/step - loss: 0.4985 - accuracy: 0.7657 - val_loss: 0.4169 - val_accuracy: 0.7978\n",
      "Epoch 17/500\n",
      "798/798 [==============================] - 0s 39us/step - loss: 0.5139 - accuracy: 0.7657 - val_loss: 0.4146 - val_accuracy: 0.7978\n",
      "Epoch 18/500\n",
      "798/798 [==============================] - 0s 34us/step - loss: 0.4932 - accuracy: 0.7732 - val_loss: 0.4154 - val_accuracy: 0.7978\n",
      "Epoch 19/500\n",
      "798/798 [==============================] - 0s 34us/step - loss: 0.5035 - accuracy: 0.7707 - val_loss: 0.5586 - val_accuracy: 0.7640\n",
      "Epoch 20/500\n",
      "798/798 [==============================] - 0s 33us/step - loss: 0.5428 - accuracy: 0.7506 - val_loss: 0.4224 - val_accuracy: 0.7978\n",
      "Epoch 21/500\n",
      "798/798 [==============================] - 0s 42us/step - loss: 0.4954 - accuracy: 0.7657 - val_loss: 0.4732 - val_accuracy: 0.7753\n",
      "Epoch 22/500\n",
      "798/798 [==============================] - 0s 38us/step - loss: 0.5489 - accuracy: 0.7619 - val_loss: 0.4196 - val_accuracy: 0.8315\n",
      "Epoch 23/500\n",
      "798/798 [==============================] - 0s 35us/step - loss: 0.5367 - accuracy: 0.7607 - val_loss: 0.5096 - val_accuracy: 0.7978\n",
      "Epoch 24/500\n",
      "798/798 [==============================] - 0s 34us/step - loss: 0.4833 - accuracy: 0.7794 - val_loss: 0.4147 - val_accuracy: 0.8315\n",
      "Epoch 25/500\n",
      "798/798 [==============================] - 0s 34us/step - loss: 0.4780 - accuracy: 0.7744 - val_loss: 0.4104 - val_accuracy: 0.8315\n",
      "Epoch 26/500\n",
      "798/798 [==============================] - 0s 41us/step - loss: 0.4806 - accuracy: 0.7719 - val_loss: 0.4103 - val_accuracy: 0.8202\n",
      "Epoch 27/500\n",
      "798/798 [==============================] - 0s 38us/step - loss: 0.4853 - accuracy: 0.7707 - val_loss: 0.4151 - val_accuracy: 0.8315\n",
      "Epoch 28/500\n",
      "798/798 [==============================] - 0s 35us/step - loss: 0.4899 - accuracy: 0.7870 - val_loss: 0.4451 - val_accuracy: 0.7753\n",
      "Epoch 29/500\n",
      "798/798 [==============================] - 0s 37us/step - loss: 0.4954 - accuracy: 0.7682 - val_loss: 0.4107 - val_accuracy: 0.8315\n",
      "Epoch 30/500\n",
      "798/798 [==============================] - 0s 35us/step - loss: 0.4715 - accuracy: 0.7794 - val_loss: 0.4113 - val_accuracy: 0.8315\n",
      "Epoch 31/500\n",
      "798/798 [==============================] - 0s 34us/step - loss: 0.4812 - accuracy: 0.7845 - val_loss: 0.4336 - val_accuracy: 0.8315\n",
      "Epoch 32/500\n",
      "798/798 [==============================] - 0s 37us/step - loss: 0.4734 - accuracy: 0.7845 - val_loss: 0.4316 - val_accuracy: 0.8315\n",
      "Epoch 33/500\n",
      "798/798 [==============================] - 0s 32us/step - loss: 0.4904 - accuracy: 0.7694 - val_loss: 0.4110 - val_accuracy: 0.8090\n",
      "Epoch 34/500\n",
      "798/798 [==============================] - 0s 33us/step - loss: 0.4683 - accuracy: 0.7832 - val_loss: 0.4254 - val_accuracy: 0.7865\n",
      "Epoch 35/500\n",
      "798/798 [==============================] - 0s 40us/step - loss: 0.5700 - accuracy: 0.7619 - val_loss: 0.4139 - val_accuracy: 0.8315\n",
      "Epoch 36/500\n",
      "798/798 [==============================] - 0s 38us/step - loss: 0.5154 - accuracy: 0.7619 - val_loss: 0.4263 - val_accuracy: 0.7865\n",
      "Epoch 37/500\n",
      "798/798 [==============================] - 0s 39us/step - loss: 0.5028 - accuracy: 0.7769 - val_loss: 0.4155 - val_accuracy: 0.8315\n",
      "Epoch 38/500\n",
      "798/798 [==============================] - 0s 37us/step - loss: 0.4894 - accuracy: 0.7707 - val_loss: 0.4114 - val_accuracy: 0.8315\n",
      "Epoch 39/500\n",
      "798/798 [==============================] - 0s 49us/step - loss: 0.4720 - accuracy: 0.7807 - val_loss: 0.4109 - val_accuracy: 0.8090\n",
      "Epoch 40/500\n",
      "798/798 [==============================] - 0s 47us/step - loss: 0.4898 - accuracy: 0.7719 - val_loss: 0.4113 - val_accuracy: 0.8090\n",
      "Epoch 41/500\n",
      "798/798 [==============================] - 0s 42us/step - loss: 0.4686 - accuracy: 0.7820 - val_loss: 0.4146 - val_accuracy: 0.8315\n",
      "Epoch 42/500\n",
      "798/798 [==============================] - 0s 39us/step - loss: 0.4792 - accuracy: 0.7744 - val_loss: 0.4313 - val_accuracy: 0.7978\n",
      "Epoch 43/500\n",
      "798/798 [==============================] - 0s 41us/step - loss: 0.5032 - accuracy: 0.7744 - val_loss: 0.4465 - val_accuracy: 0.8315\n",
      "Epoch 44/500\n",
      "798/798 [==============================] - 0s 45us/step - loss: 0.4753 - accuracy: 0.7807 - val_loss: 0.4215 - val_accuracy: 0.8315\n",
      "Epoch 45/500\n",
      "798/798 [==============================] - 0s 40us/step - loss: 0.4963 - accuracy: 0.7820 - val_loss: 0.4157 - val_accuracy: 0.8315\n",
      "Epoch 46/500\n",
      "798/798 [==============================] - 0s 35us/step - loss: 0.4697 - accuracy: 0.7794 - val_loss: 0.4111 - val_accuracy: 0.8315\n",
      "Epoch 47/500\n",
      "798/798 [==============================] - 0s 32us/step - loss: 0.4713 - accuracy: 0.7807 - val_loss: 0.4093 - val_accuracy: 0.8202\n",
      "Epoch 48/500\n",
      "798/798 [==============================] - 0s 37us/step - loss: 0.4757 - accuracy: 0.7832 - val_loss: 0.4116 - val_accuracy: 0.8315\n",
      "Epoch 49/500\n",
      "798/798 [==============================] - 0s 35us/step - loss: 0.4776 - accuracy: 0.7707 - val_loss: 0.4166 - val_accuracy: 0.8315\n",
      "Epoch 50/500\n",
      "798/798 [==============================] - 0s 35us/step - loss: 0.4706 - accuracy: 0.7782 - val_loss: 0.4230 - val_accuracy: 0.8315\n",
      "Epoch 51/500\n",
      "798/798 [==============================] - 0s 38us/step - loss: 0.4761 - accuracy: 0.7744 - val_loss: 0.4113 - val_accuracy: 0.8315\n",
      "Epoch 52/500\n",
      "798/798 [==============================] - 0s 41us/step - loss: 0.5244 - accuracy: 0.7569 - val_loss: 0.4952 - val_accuracy: 0.7753\n",
      "Epoch 53/500\n",
      "798/798 [==============================] - 0s 38us/step - loss: 0.5147 - accuracy: 0.7732 - val_loss: 0.4123 - val_accuracy: 0.8315\n",
      "Epoch 54/500\n",
      "798/798 [==============================] - 0s 35us/step - loss: 0.4766 - accuracy: 0.7857 - val_loss: 0.4097 - val_accuracy: 0.8315\n",
      "Epoch 55/500\n",
      "798/798 [==============================] - 0s 39us/step - loss: 0.4858 - accuracy: 0.7694 - val_loss: 0.4496 - val_accuracy: 0.8202\n",
      "Epoch 56/500\n",
      "798/798 [==============================] - 0s 45us/step - loss: 0.4759 - accuracy: 0.7820 - val_loss: 0.4126 - val_accuracy: 0.8315\n"
     ]
    },
    {
     "name": "stdout",
     "output_type": "stream",
     "text": [
      "Epoch 57/500\n",
      "798/798 [==============================] - 0s 44us/step - loss: 0.4816 - accuracy: 0.7732 - val_loss: 0.4139 - val_accuracy: 0.8090\n",
      "Epoch 58/500\n",
      "798/798 [==============================] - 0s 35us/step - loss: 0.4939 - accuracy: 0.7782 - val_loss: 0.4147 - val_accuracy: 0.7978\n",
      "Epoch 59/500\n",
      "798/798 [==============================] - 0s 36us/step - loss: 0.4918 - accuracy: 0.7719 - val_loss: 0.4115 - val_accuracy: 0.7978\n",
      "Epoch 60/500\n",
      "798/798 [==============================] - 0s 40us/step - loss: 0.4780 - accuracy: 0.7807 - val_loss: 0.4186 - val_accuracy: 0.8315\n",
      "Epoch 61/500\n",
      "798/798 [==============================] - 0s 51us/step - loss: 0.4700 - accuracy: 0.7769 - val_loss: 0.4307 - val_accuracy: 0.8539\n",
      "Epoch 62/500\n",
      "798/798 [==============================] - 0s 47us/step - loss: 0.4720 - accuracy: 0.7807 - val_loss: 0.4134 - val_accuracy: 0.8315\n",
      "Epoch 63/500\n",
      "798/798 [==============================] - 0s 37us/step - loss: 0.4738 - accuracy: 0.7845 - val_loss: 0.4156 - val_accuracy: 0.7978\n",
      "Epoch 64/500\n",
      "798/798 [==============================] - 0s 42us/step - loss: 0.4785 - accuracy: 0.7769 - val_loss: 0.4243 - val_accuracy: 0.8427\n",
      "Epoch 65/500\n",
      "798/798 [==============================] - 0s 39us/step - loss: 0.4774 - accuracy: 0.7769 - val_loss: 0.4450 - val_accuracy: 0.7753\n",
      "Epoch 66/500\n",
      "798/798 [==============================] - 0s 39us/step - loss: 0.5305 - accuracy: 0.7694 - val_loss: 0.4106 - val_accuracy: 0.8315\n",
      "Epoch 67/500\n",
      "798/798 [==============================] - 0s 42us/step - loss: 0.4966 - accuracy: 0.7769 - val_loss: 0.4102 - val_accuracy: 0.8315\n",
      "Epoch 68/500\n",
      "798/798 [==============================] - 0s 40us/step - loss: 0.4758 - accuracy: 0.7882 - val_loss: 0.4804 - val_accuracy: 0.7978\n",
      "Epoch 69/500\n",
      "798/798 [==============================] - 0s 45us/step - loss: 0.4994 - accuracy: 0.7769 - val_loss: 0.4308 - val_accuracy: 0.7978\n",
      "Epoch 70/500\n",
      "798/798 [==============================] - 0s 36us/step - loss: 0.5030 - accuracy: 0.7669 - val_loss: 0.4119 - val_accuracy: 0.8090\n",
      "Epoch 71/500\n",
      "798/798 [==============================] - 0s 38us/step - loss: 0.4717 - accuracy: 0.7882 - val_loss: 0.4103 - val_accuracy: 0.8315\n",
      "Epoch 72/500\n",
      "798/798 [==============================] - 0s 40us/step - loss: 0.4863 - accuracy: 0.7644 - val_loss: 0.4097 - val_accuracy: 0.8315\n",
      "Epoch 73/500\n",
      "798/798 [==============================] - 0s 35us/step - loss: 0.4776 - accuracy: 0.7782 - val_loss: 0.4088 - val_accuracy: 0.8090\n",
      "Epoch 74/500\n",
      "798/798 [==============================] - 0s 33us/step - loss: 0.4775 - accuracy: 0.7794 - val_loss: 0.4089 - val_accuracy: 0.8202\n",
      "Epoch 75/500\n",
      "798/798 [==============================] - 0s 34us/step - loss: 0.4790 - accuracy: 0.7820 - val_loss: 0.4219 - val_accuracy: 0.7865\n",
      "Epoch 76/500\n",
      "798/798 [==============================] - 0s 41us/step - loss: 0.4830 - accuracy: 0.7707 - val_loss: 0.4251 - val_accuracy: 0.8315\n",
      "Epoch 77/500\n",
      "798/798 [==============================] - 0s 34us/step - loss: 0.4931 - accuracy: 0.7807 - val_loss: 0.4094 - val_accuracy: 0.8315\n",
      "Epoch 78/500\n",
      "798/798 [==============================] - 0s 32us/step - loss: 0.4803 - accuracy: 0.7794 - val_loss: 0.4169 - val_accuracy: 0.7978\n",
      "Epoch 79/500\n",
      "798/798 [==============================] - 0s 35us/step - loss: 0.4849 - accuracy: 0.7832 - val_loss: 0.4125 - val_accuracy: 0.8315\n",
      "Epoch 80/500\n",
      "798/798 [==============================] - 0s 40us/step - loss: 0.4769 - accuracy: 0.7882 - val_loss: 0.4074 - val_accuracy: 0.8315\n",
      "Epoch 81/500\n",
      "798/798 [==============================] - 0s 44us/step - loss: 0.4843 - accuracy: 0.7744 - val_loss: 0.4092 - val_accuracy: 0.8090\n",
      "Epoch 82/500\n",
      "798/798 [==============================] - 0s 38us/step - loss: 0.4662 - accuracy: 0.7820 - val_loss: 0.4092 - val_accuracy: 0.8090\n",
      "Epoch 83/500\n",
      "798/798 [==============================] - 0s 36us/step - loss: 0.4686 - accuracy: 0.7832 - val_loss: 0.4081 - val_accuracy: 0.8315\n",
      "Epoch 84/500\n",
      "798/798 [==============================] - 0s 34us/step - loss: 0.4783 - accuracy: 0.7882 - val_loss: 0.4146 - val_accuracy: 0.7978\n",
      "Epoch 85/500\n",
      "798/798 [==============================] - 0s 31us/step - loss: 0.5011 - accuracy: 0.7807 - val_loss: 0.4175 - val_accuracy: 0.8427\n",
      "Epoch 86/500\n",
      "798/798 [==============================] - 0s 35us/step - loss: 0.4906 - accuracy: 0.7744 - val_loss: 0.4138 - val_accuracy: 0.8427\n",
      "Epoch 87/500\n",
      "798/798 [==============================] - 0s 39us/step - loss: 0.4748 - accuracy: 0.7882 - val_loss: 0.4115 - val_accuracy: 0.8090\n",
      "Epoch 88/500\n",
      "798/798 [==============================] - 0s 41us/step - loss: 0.4885 - accuracy: 0.7694 - val_loss: 0.4305 - val_accuracy: 0.7753\n",
      "Epoch 89/500\n",
      "798/798 [==============================] - 0s 38us/step - loss: 0.5087 - accuracy: 0.7820 - val_loss: 0.4834 - val_accuracy: 0.7978\n",
      "Epoch 90/500\n",
      "798/798 [==============================] - 0s 38us/step - loss: 0.4883 - accuracy: 0.7769 - val_loss: 0.4097 - val_accuracy: 0.7978\n",
      "Epoch 91/500\n",
      "798/798 [==============================] - 0s 37us/step - loss: 0.5153 - accuracy: 0.7719 - val_loss: 0.4593 - val_accuracy: 0.7753\n",
      "Epoch 92/500\n",
      "798/798 [==============================] - 0s 34us/step - loss: 0.4830 - accuracy: 0.7832 - val_loss: 0.4303 - val_accuracy: 0.7978\n",
      "Epoch 93/500\n",
      "798/798 [==============================] - 0s 34us/step - loss: 0.5036 - accuracy: 0.7870 - val_loss: 0.4623 - val_accuracy: 0.8090\n",
      "Epoch 94/500\n",
      "798/798 [==============================] - 0s 35us/step - loss: 0.4870 - accuracy: 0.7857 - val_loss: 0.4093 - val_accuracy: 0.8090\n",
      "Epoch 95/500\n",
      "798/798 [==============================] - 0s 41us/step - loss: 0.5022 - accuracy: 0.7807 - val_loss: 0.4101 - val_accuracy: 0.8090\n",
      "Epoch 96/500\n",
      "798/798 [==============================] - 0s 34us/step - loss: 0.4929 - accuracy: 0.7782 - val_loss: 0.4090 - val_accuracy: 0.8427\n",
      "Epoch 97/500\n",
      "798/798 [==============================] - 0s 32us/step - loss: 0.4777 - accuracy: 0.7757 - val_loss: 0.4100 - val_accuracy: 0.7978\n",
      "Epoch 98/500\n",
      "798/798 [==============================] - 0s 34us/step - loss: 0.4764 - accuracy: 0.7744 - val_loss: 0.4088 - val_accuracy: 0.8427\n",
      "Epoch 99/500\n",
      "798/798 [==============================] - 0s 41us/step - loss: 0.4662 - accuracy: 0.7870 - val_loss: 0.4055 - val_accuracy: 0.8315\n",
      "Epoch 100/500\n",
      "798/798 [==============================] - 0s 34us/step - loss: 0.4682 - accuracy: 0.7820 - val_loss: 0.4091 - val_accuracy: 0.7978\n",
      "Epoch 101/500\n",
      "798/798 [==============================] - 0s 33us/step - loss: 0.4864 - accuracy: 0.7744 - val_loss: 0.4334 - val_accuracy: 0.7753\n",
      "Epoch 102/500\n",
      "798/798 [==============================] - 0s 35us/step - loss: 0.4764 - accuracy: 0.7669 - val_loss: 0.4064 - val_accuracy: 0.8539\n",
      "Epoch 103/500\n",
      "798/798 [==============================] - 0s 40us/step - loss: 0.4782 - accuracy: 0.7694 - val_loss: 0.4063 - val_accuracy: 0.8315\n",
      "Epoch 104/500\n",
      "798/798 [==============================] - 0s 32us/step - loss: 0.4595 - accuracy: 0.7907 - val_loss: 0.4058 - val_accuracy: 0.8315\n",
      "Epoch 105/500\n",
      "798/798 [==============================] - 0s 35us/step - loss: 0.4605 - accuracy: 0.7807 - val_loss: 0.4112 - val_accuracy: 0.8315\n",
      "Epoch 106/500\n",
      "798/798 [==============================] - 0s 31us/step - loss: 0.4637 - accuracy: 0.7857 - val_loss: 0.4040 - val_accuracy: 0.8202\n",
      "Epoch 107/500\n",
      "798/798 [==============================] - 0s 33us/step - loss: 0.4855 - accuracy: 0.7732 - val_loss: 0.4066 - val_accuracy: 0.8427\n",
      "Epoch 108/500\n",
      "798/798 [==============================] - 0s 33us/step - loss: 0.4645 - accuracy: 0.7794 - val_loss: 0.4087 - val_accuracy: 0.8315\n",
      "Epoch 109/500\n",
      "798/798 [==============================] - 0s 30us/step - loss: 0.5262 - accuracy: 0.7707 - val_loss: 0.4066 - val_accuracy: 0.8090\n",
      "Epoch 110/500\n",
      "798/798 [==============================] - 0s 35us/step - loss: 0.4677 - accuracy: 0.7882 - val_loss: 0.4058 - val_accuracy: 0.8090\n",
      "Epoch 111/500\n",
      "798/798 [==============================] - 0s 37us/step - loss: 0.4737 - accuracy: 0.7832 - val_loss: 0.4031 - val_accuracy: 0.8315\n",
      "Epoch 112/500\n",
      "798/798 [==============================] - 0s 31us/step - loss: 0.4701 - accuracy: 0.7920 - val_loss: 0.4031 - val_accuracy: 0.8427\n",
      "Epoch 113/500\n"
     ]
    },
    {
     "name": "stdout",
     "output_type": "stream",
     "text": [
      "798/798 [==============================] - 0s 31us/step - loss: 0.4627 - accuracy: 0.7895 - val_loss: 0.4024 - val_accuracy: 0.8315\n",
      "Epoch 114/500\n",
      "798/798 [==============================] - 0s 43us/step - loss: 0.4672 - accuracy: 0.7782 - val_loss: 0.4313 - val_accuracy: 0.8315\n",
      "Epoch 115/500\n",
      "798/798 [==============================] - 0s 35us/step - loss: 0.4752 - accuracy: 0.7744 - val_loss: 0.4412 - val_accuracy: 0.8315\n",
      "Epoch 116/500\n",
      "798/798 [==============================] - 0s 35us/step - loss: 0.5242 - accuracy: 0.7619 - val_loss: 0.4224 - val_accuracy: 0.8315\n",
      "Epoch 117/500\n",
      "798/798 [==============================] - 0s 35us/step - loss: 0.4769 - accuracy: 0.7845 - val_loss: 0.4065 - val_accuracy: 0.8315\n",
      "Epoch 118/500\n",
      "798/798 [==============================] - 0s 65us/step - loss: 0.4693 - accuracy: 0.7882 - val_loss: 0.4033 - val_accuracy: 0.8315\n",
      "Epoch 119/500\n",
      "798/798 [==============================] - 0s 118us/step - loss: 0.4669 - accuracy: 0.7857 - val_loss: 0.4051 - val_accuracy: 0.7978\n",
      "Epoch 120/500\n",
      "798/798 [==============================] - 0s 105us/step - loss: 0.4655 - accuracy: 0.7857 - val_loss: 0.4089 - val_accuracy: 0.8315\n",
      "Epoch 121/500\n",
      "798/798 [==============================] - 0s 75us/step - loss: 0.4619 - accuracy: 0.7932 - val_loss: 0.4038 - val_accuracy: 0.8315\n",
      "Epoch 122/500\n",
      "798/798 [==============================] - 0s 89us/step - loss: 0.4719 - accuracy: 0.7870 - val_loss: 0.4053 - val_accuracy: 0.8315\n",
      "Epoch 123/500\n",
      "798/798 [==============================] - 0s 120us/step - loss: 0.4652 - accuracy: 0.7870 - val_loss: 0.4130 - val_accuracy: 0.8315\n",
      "Epoch 124/500\n",
      "798/798 [==============================] - 0s 53us/step - loss: 0.4655 - accuracy: 0.7920 - val_loss: 0.3999 - val_accuracy: 0.8090\n",
      "Epoch 125/500\n",
      "798/798 [==============================] - 0s 42us/step - loss: 0.4653 - accuracy: 0.7870 - val_loss: 0.4025 - val_accuracy: 0.8315\n",
      "Epoch 126/500\n",
      "798/798 [==============================] - 0s 37us/step - loss: 0.4632 - accuracy: 0.8008 - val_loss: 0.4059 - val_accuracy: 0.7978\n",
      "Epoch 127/500\n",
      "798/798 [==============================] - 0s 47us/step - loss: 0.5018 - accuracy: 0.7607 - val_loss: 0.4197 - val_accuracy: 0.7978\n",
      "Epoch 128/500\n",
      "798/798 [==============================] - 0s 33us/step - loss: 0.4748 - accuracy: 0.7857 - val_loss: 0.4163 - val_accuracy: 0.7978\n",
      "Epoch 129/500\n",
      "798/798 [==============================] - 0s 33us/step - loss: 0.4700 - accuracy: 0.7794 - val_loss: 0.4126 - val_accuracy: 0.7865\n",
      "Epoch 130/500\n",
      "798/798 [==============================] - 0s 35us/step - loss: 0.4935 - accuracy: 0.7820 - val_loss: 0.4217 - val_accuracy: 0.8315\n",
      "Epoch 131/500\n",
      "798/798 [==============================] - 0s 46us/step - loss: 0.4861 - accuracy: 0.7794 - val_loss: 0.4190 - val_accuracy: 0.8315\n",
      "Epoch 132/500\n",
      "798/798 [==============================] - 0s 44us/step - loss: 0.4629 - accuracy: 0.7882 - val_loss: 0.4200 - val_accuracy: 0.8202\n",
      "Epoch 133/500\n",
      "798/798 [==============================] - 0s 34us/step - loss: 0.4713 - accuracy: 0.7870 - val_loss: 0.4061 - val_accuracy: 0.8315\n",
      "Epoch 134/500\n",
      "798/798 [==============================] - 0s 34us/step - loss: 0.4641 - accuracy: 0.7920 - val_loss: 0.4080 - val_accuracy: 0.7865\n",
      "Epoch 135/500\n",
      "798/798 [==============================] - 0s 45us/step - loss: 0.4646 - accuracy: 0.7820 - val_loss: 0.3973 - val_accuracy: 0.8427\n",
      "Epoch 136/500\n",
      "798/798 [==============================] - 0s 44us/step - loss: 0.4642 - accuracy: 0.7907 - val_loss: 0.4053 - val_accuracy: 0.8315\n",
      "Epoch 137/500\n",
      "798/798 [==============================] - 0s 34us/step - loss: 0.4633 - accuracy: 0.7957 - val_loss: 0.4083 - val_accuracy: 0.8315\n",
      "Epoch 138/500\n",
      "798/798 [==============================] - 0s 41us/step - loss: 0.4708 - accuracy: 0.7882 - val_loss: 0.3990 - val_accuracy: 0.8202\n",
      "Epoch 139/500\n",
      "798/798 [==============================] - 0s 53us/step - loss: 0.4612 - accuracy: 0.7970 - val_loss: 0.3976 - val_accuracy: 0.8315\n",
      "Epoch 140/500\n",
      "798/798 [==============================] - 0s 53us/step - loss: 0.4646 - accuracy: 0.7932 - val_loss: 0.3972 - val_accuracy: 0.8427\n",
      "Epoch 141/500\n",
      "798/798 [==============================] - 0s 58us/step - loss: 0.4562 - accuracy: 0.8008 - val_loss: 0.3976 - val_accuracy: 0.8202\n",
      "Epoch 142/500\n",
      "798/798 [==============================] - 0s 53us/step - loss: 0.4862 - accuracy: 0.7744 - val_loss: 0.4615 - val_accuracy: 0.7753\n",
      "Epoch 143/500\n",
      "798/798 [==============================] - 0s 56us/step - loss: 0.5253 - accuracy: 0.7594 - val_loss: 0.4084 - val_accuracy: 0.7865\n",
      "Epoch 144/500\n",
      "798/798 [==============================] - 0s 53us/step - loss: 0.4783 - accuracy: 0.7882 - val_loss: 0.4049 - val_accuracy: 0.7978\n",
      "Epoch 145/500\n",
      "798/798 [==============================] - 0s 44us/step - loss: 0.5041 - accuracy: 0.7707 - val_loss: 0.4225 - val_accuracy: 0.8090\n",
      "Epoch 146/500\n",
      "798/798 [==============================] - 0s 39us/step - loss: 0.4944 - accuracy: 0.7782 - val_loss: 0.4384 - val_accuracy: 0.8202\n",
      "Epoch 147/500\n",
      "798/798 [==============================] - 0s 45us/step - loss: 0.5034 - accuracy: 0.7807 - val_loss: 0.4241 - val_accuracy: 0.8315\n",
      "Epoch 148/500\n",
      "798/798 [==============================] - 0s 47us/step - loss: 0.4673 - accuracy: 0.7895 - val_loss: 0.4064 - val_accuracy: 0.8315\n",
      "Epoch 149/500\n",
      "798/798 [==============================] - 0s 39us/step - loss: 0.4793 - accuracy: 0.7870 - val_loss: 0.4001 - val_accuracy: 0.8315\n",
      "Epoch 150/500\n",
      "798/798 [==============================] - 0s 41us/step - loss: 0.4979 - accuracy: 0.7857 - val_loss: 0.4161 - val_accuracy: 0.8315\n",
      "Epoch 151/500\n",
      "798/798 [==============================] - 0s 38us/step - loss: 0.4609 - accuracy: 0.8045 - val_loss: 0.3994 - val_accuracy: 0.8315\n",
      "Epoch 152/500\n",
      "798/798 [==============================] - 0s 37us/step - loss: 0.4610 - accuracy: 0.7982 - val_loss: 0.3968 - val_accuracy: 0.8315\n",
      "Epoch 153/500\n",
      "798/798 [==============================] - 0s 39us/step - loss: 0.4651 - accuracy: 0.7982 - val_loss: 0.4000 - val_accuracy: 0.8315\n",
      "Epoch 154/500\n",
      "798/798 [==============================] - 0s 40us/step - loss: 0.4682 - accuracy: 0.7870 - val_loss: 0.3937 - val_accuracy: 0.8315\n",
      "Epoch 155/500\n",
      "798/798 [==============================] - 0s 41us/step - loss: 0.4614 - accuracy: 0.7920 - val_loss: 0.4096 - val_accuracy: 0.7865\n",
      "Epoch 156/500\n",
      "798/798 [==============================] - 0s 48us/step - loss: 0.4745 - accuracy: 0.7807 - val_loss: 0.4057 - val_accuracy: 0.7978\n",
      "Epoch 157/500\n",
      "798/798 [==============================] - 0s 37us/step - loss: 0.4856 - accuracy: 0.7807 - val_loss: 0.4032 - val_accuracy: 0.8315\n",
      "Epoch 158/500\n",
      "798/798 [==============================] - 0s 36us/step - loss: 0.4795 - accuracy: 0.7794 - val_loss: 0.4176 - val_accuracy: 0.8315\n",
      "Epoch 159/500\n",
      "798/798 [==============================] - 0s 37us/step - loss: 0.4652 - accuracy: 0.7832 - val_loss: 0.4131 - val_accuracy: 0.8315\n",
      "Epoch 160/500\n",
      "798/798 [==============================] - 0s 44us/step - loss: 0.4685 - accuracy: 0.7932 - val_loss: 0.3984 - val_accuracy: 0.8427\n",
      "Epoch 161/500\n",
      "798/798 [==============================] - 0s 45us/step - loss: 0.4586 - accuracy: 0.7920 - val_loss: 0.3959 - val_accuracy: 0.8315\n",
      "Epoch 162/500\n",
      "798/798 [==============================] - 0s 43us/step - loss: 0.4624 - accuracy: 0.7920 - val_loss: 0.4022 - val_accuracy: 0.8315\n",
      "Epoch 163/500\n",
      "798/798 [==============================] - 0s 39us/step - loss: 0.4592 - accuracy: 0.7920 - val_loss: 0.3983 - val_accuracy: 0.8315\n",
      "Epoch 164/500\n",
      "798/798 [==============================] - 0s 35us/step - loss: 0.4620 - accuracy: 0.7945 - val_loss: 0.3934 - val_accuracy: 0.8315\n",
      "Epoch 165/500\n",
      "798/798 [==============================] - 0s 44us/step - loss: 0.4625 - accuracy: 0.7995 - val_loss: 0.3968 - val_accuracy: 0.7978\n",
      "Epoch 166/500\n",
      "798/798 [==============================] - 0s 41us/step - loss: 0.4703 - accuracy: 0.7907 - val_loss: 0.3915 - val_accuracy: 0.8315\n",
      "Epoch 167/500\n",
      "798/798 [==============================] - 0s 55us/step - loss: 0.4573 - accuracy: 0.7970 - val_loss: 0.4052 - val_accuracy: 0.8315\n",
      "Epoch 168/500\n",
      "798/798 [==============================] - 0s 51us/step - loss: 0.4677 - accuracy: 0.7895 - val_loss: 0.3924 - val_accuracy: 0.8315\n",
      "Epoch 169/500\n"
     ]
    },
    {
     "name": "stdout",
     "output_type": "stream",
     "text": [
      "798/798 [==============================] - 0s 54us/step - loss: 0.4594 - accuracy: 0.7895 - val_loss: 0.3924 - val_accuracy: 0.8315\n",
      "Epoch 170/500\n",
      "798/798 [==============================] - 0s 39us/step - loss: 0.4531 - accuracy: 0.7995 - val_loss: 0.3933 - val_accuracy: 0.8315\n",
      "Epoch 171/500\n",
      "798/798 [==============================] - 0s 39us/step - loss: 0.4739 - accuracy: 0.7832 - val_loss: 0.4011 - val_accuracy: 0.8315\n",
      "Epoch 172/500\n",
      "798/798 [==============================] - 0s 46us/step - loss: 0.4720 - accuracy: 0.7882 - val_loss: 0.3926 - val_accuracy: 0.8315\n",
      "Epoch 173/500\n",
      "798/798 [==============================] - 0s 35us/step - loss: 0.4566 - accuracy: 0.7970 - val_loss: 0.4123 - val_accuracy: 0.8315\n",
      "Epoch 174/500\n",
      "798/798 [==============================] - 0s 37us/step - loss: 0.4721 - accuracy: 0.7882 - val_loss: 0.3951 - val_accuracy: 0.7978\n",
      "Epoch 175/500\n",
      "798/798 [==============================] - 0s 39us/step - loss: 0.4574 - accuracy: 0.7970 - val_loss: 0.3983 - val_accuracy: 0.8315\n",
      "Epoch 176/500\n",
      "798/798 [==============================] - 0s 41us/step - loss: 0.4578 - accuracy: 0.7970 - val_loss: 0.3922 - val_accuracy: 0.8315\n",
      "Epoch 177/500\n",
      "798/798 [==============================] - 0s 38us/step - loss: 0.4560 - accuracy: 0.7995 - val_loss: 0.4075 - val_accuracy: 0.8315\n",
      "Epoch 178/500\n",
      "798/798 [==============================] - 0s 40us/step - loss: 0.4492 - accuracy: 0.7982 - val_loss: 0.3961 - val_accuracy: 0.8315\n",
      "Epoch 179/500\n",
      "798/798 [==============================] - 0s 36us/step - loss: 0.4547 - accuracy: 0.7970 - val_loss: 0.3943 - val_accuracy: 0.8315\n",
      "Epoch 180/500\n",
      "798/798 [==============================] - 0s 45us/step - loss: 0.4629 - accuracy: 0.7907 - val_loss: 0.4065 - val_accuracy: 0.8315\n",
      "Epoch 181/500\n",
      "798/798 [==============================] - 0s 40us/step - loss: 0.4715 - accuracy: 0.7945 - val_loss: 0.3917 - val_accuracy: 0.8315\n",
      "Epoch 182/500\n",
      "798/798 [==============================] - 0s 39us/step - loss: 0.4690 - accuracy: 0.7882 - val_loss: 0.3926 - val_accuracy: 0.8315\n",
      "Epoch 183/500\n",
      "798/798 [==============================] - 0s 40us/step - loss: 0.4561 - accuracy: 0.7982 - val_loss: 0.3947 - val_accuracy: 0.8315\n",
      "Epoch 184/500\n",
      "798/798 [==============================] - 0s 42us/step - loss: 0.4550 - accuracy: 0.8008 - val_loss: 0.3923 - val_accuracy: 0.8315\n",
      "Epoch 185/500\n",
      "798/798 [==============================] - 0s 35us/step - loss: 0.4585 - accuracy: 0.7970 - val_loss: 0.3920 - val_accuracy: 0.8090\n",
      "Epoch 186/500\n",
      "798/798 [==============================] - 0s 37us/step - loss: 0.4689 - accuracy: 0.7945 - val_loss: 0.3918 - val_accuracy: 0.8202\n",
      "Epoch 187/500\n",
      "798/798 [==============================] - 0s 35us/step - loss: 0.4533 - accuracy: 0.8033 - val_loss: 0.4077 - val_accuracy: 0.7978\n",
      "Epoch 188/500\n",
      "798/798 [==============================] - 0s 44us/step - loss: 0.4773 - accuracy: 0.7832 - val_loss: 0.3959 - val_accuracy: 0.8090\n",
      "Epoch 189/500\n",
      "798/798 [==============================] - 0s 42us/step - loss: 0.4646 - accuracy: 0.7820 - val_loss: 0.3959 - val_accuracy: 0.8202\n",
      "Epoch 190/500\n",
      "798/798 [==============================] - 0s 38us/step - loss: 0.4582 - accuracy: 0.7907 - val_loss: 0.3881 - val_accuracy: 0.8315\n",
      "Epoch 191/500\n",
      "798/798 [==============================] - 0s 37us/step - loss: 0.4520 - accuracy: 0.7982 - val_loss: 0.3901 - val_accuracy: 0.8315\n",
      "Epoch 192/500\n",
      "798/798 [==============================] - 0s 39us/step - loss: 0.4625 - accuracy: 0.7970 - val_loss: 0.3992 - val_accuracy: 0.8090\n",
      "Epoch 193/500\n",
      "798/798 [==============================] - 0s 41us/step - loss: 0.4563 - accuracy: 0.7957 - val_loss: 0.3877 - val_accuracy: 0.8427\n",
      "Epoch 194/500\n",
      "798/798 [==============================] - 0s 38us/step - loss: 0.4839 - accuracy: 0.7882 - val_loss: 0.4021 - val_accuracy: 0.8090\n",
      "Epoch 195/500\n",
      "798/798 [==============================] - 0s 38us/step - loss: 0.4648 - accuracy: 0.7895 - val_loss: 0.3974 - val_accuracy: 0.8315\n",
      "Epoch 196/500\n",
      "798/798 [==============================] - 0s 42us/step - loss: 0.4546 - accuracy: 0.7945 - val_loss: 0.3915 - val_accuracy: 0.8315\n",
      "Epoch 197/500\n",
      "798/798 [==============================] - 0s 46us/step - loss: 0.4546 - accuracy: 0.8033 - val_loss: 0.3906 - val_accuracy: 0.8315\n",
      "Epoch 198/500\n",
      "798/798 [==============================] - 0s 37us/step - loss: 0.4730 - accuracy: 0.7895 - val_loss: 0.4227 - val_accuracy: 0.7753\n",
      "Epoch 199/500\n",
      "798/798 [==============================] - 0s 36us/step - loss: 0.4853 - accuracy: 0.7820 - val_loss: 0.3922 - val_accuracy: 0.8315\n",
      "Epoch 200/500\n",
      "798/798 [==============================] - 0s 37us/step - loss: 0.4545 - accuracy: 0.7957 - val_loss: 0.3923 - val_accuracy: 0.8315\n",
      "Epoch 201/500\n",
      "798/798 [==============================] - 0s 42us/step - loss: 0.4645 - accuracy: 0.7945 - val_loss: 0.3992 - val_accuracy: 0.8090\n",
      "Epoch 202/500\n",
      "798/798 [==============================] - 0s 45us/step - loss: 0.4650 - accuracy: 0.7882 - val_loss: 0.3893 - val_accuracy: 0.8090\n",
      "Epoch 203/500\n",
      "798/798 [==============================] - 0s 50us/step - loss: 0.4785 - accuracy: 0.7882 - val_loss: 0.4125 - val_accuracy: 0.8315\n",
      "Epoch 204/500\n",
      "798/798 [==============================] - 0s 61us/step - loss: 0.4616 - accuracy: 0.7832 - val_loss: 0.3930 - val_accuracy: 0.8315\n",
      "Epoch 205/500\n",
      "798/798 [==============================] - 0s 96us/step - loss: 0.4673 - accuracy: 0.7932 - val_loss: 0.3891 - val_accuracy: 0.8315\n",
      "Epoch 206/500\n",
      "798/798 [==============================] - 0s 88us/step - loss: 0.4537 - accuracy: 0.7957 - val_loss: 0.3893 - val_accuracy: 0.8315\n",
      "Epoch 207/500\n",
      "798/798 [==============================] - 0s 64us/step - loss: 0.4728 - accuracy: 0.7769 - val_loss: 0.3927 - val_accuracy: 0.8090\n",
      "Epoch 208/500\n",
      "798/798 [==============================] - 0s 67us/step - loss: 0.4495 - accuracy: 0.7945 - val_loss: 0.3941 - val_accuracy: 0.8315\n",
      "Epoch 209/500\n",
      "798/798 [==============================] - 0s 68us/step - loss: 0.4631 - accuracy: 0.7920 - val_loss: 0.3912 - val_accuracy: 0.8315\n",
      "Epoch 210/500\n",
      "798/798 [==============================] - 0s 68us/step - loss: 0.4569 - accuracy: 0.7982 - val_loss: 0.3909 - val_accuracy: 0.8090\n",
      "Epoch 211/500\n",
      "798/798 [==============================] - 0s 75us/step - loss: 0.4729 - accuracy: 0.7857 - val_loss: 0.3949 - val_accuracy: 0.8315\n",
      "Epoch 212/500\n",
      "798/798 [==============================] - 0s 66us/step - loss: 0.4558 - accuracy: 0.8020 - val_loss: 0.3927 - val_accuracy: 0.8315\n",
      "Epoch 213/500\n",
      "798/798 [==============================] - 0s 67us/step - loss: 0.4595 - accuracy: 0.7995 - val_loss: 0.3911 - val_accuracy: 0.8315\n",
      "Epoch 214/500\n",
      "798/798 [==============================] - 0s 52us/step - loss: 0.4628 - accuracy: 0.8020 - val_loss: 0.3863 - val_accuracy: 0.8315\n",
      "Epoch 215/500\n",
      "798/798 [==============================] - 0s 45us/step - loss: 0.4542 - accuracy: 0.7957 - val_loss: 0.3917 - val_accuracy: 0.8315\n",
      "Epoch 216/500\n",
      "798/798 [==============================] - 0s 42us/step - loss: 0.4634 - accuracy: 0.7970 - val_loss: 0.4000 - val_accuracy: 0.8315\n",
      "Epoch 217/500\n",
      "798/798 [==============================] - 0s 50us/step - loss: 0.4528 - accuracy: 0.7970 - val_loss: 0.4627 - val_accuracy: 0.8202\n",
      "Epoch 218/500\n",
      "798/798 [==============================] - 0s 43us/step - loss: 0.4656 - accuracy: 0.7857 - val_loss: 0.3989 - val_accuracy: 0.8315\n",
      "Epoch 219/500\n",
      "798/798 [==============================] - 0s 46us/step - loss: 0.4563 - accuracy: 0.7920 - val_loss: 0.3986 - val_accuracy: 0.8315\n",
      "Epoch 220/500\n",
      "798/798 [==============================] - 0s 45us/step - loss: 0.4582 - accuracy: 0.7945 - val_loss: 0.3957 - val_accuracy: 0.8315\n",
      "Epoch 221/500\n",
      "798/798 [==============================] - 0s 55us/step - loss: 0.4560 - accuracy: 0.8020 - val_loss: 0.3901 - val_accuracy: 0.8315\n",
      "Epoch 222/500\n",
      "798/798 [==============================] - 0s 63us/step - loss: 0.4530 - accuracy: 0.7995 - val_loss: 0.3884 - val_accuracy: 0.8315\n",
      "Epoch 223/500\n",
      "798/798 [==============================] - 0s 78us/step - loss: 0.4613 - accuracy: 0.7882 - val_loss: 0.3866 - val_accuracy: 0.8315\n",
      "Epoch 224/500\n",
      "798/798 [==============================] - 0s 79us/step - loss: 0.4591 - accuracy: 0.7970 - val_loss: 0.3879 - val_accuracy: 0.8315\n",
      "Epoch 225/500\n"
     ]
    },
    {
     "name": "stdout",
     "output_type": "stream",
     "text": [
      "798/798 [==============================] - 0s 91us/step - loss: 0.4559 - accuracy: 0.7957 - val_loss: 0.3870 - val_accuracy: 0.8315\n",
      "Epoch 226/500\n",
      "798/798 [==============================] - 0s 100us/step - loss: 0.4811 - accuracy: 0.7807 - val_loss: 0.4315 - val_accuracy: 0.8090\n",
      "Epoch 227/500\n",
      "798/798 [==============================] - 0s 100us/step - loss: 0.4841 - accuracy: 0.7807 - val_loss: 0.3878 - val_accuracy: 0.8315\n",
      "Epoch 228/500\n",
      "798/798 [==============================] - 0s 107us/step - loss: 0.4500 - accuracy: 0.7970 - val_loss: 0.4027 - val_accuracy: 0.8315\n",
      "Epoch 229/500\n",
      "798/798 [==============================] - 0s 107us/step - loss: 0.4741 - accuracy: 0.7820 - val_loss: 0.3871 - val_accuracy: 0.8315\n",
      "Epoch 230/500\n",
      "798/798 [==============================] - 0s 114us/step - loss: 0.4613 - accuracy: 0.7995 - val_loss: 0.3890 - val_accuracy: 0.8315\n",
      "Epoch 231/500\n",
      "798/798 [==============================] - 0s 93us/step - loss: 0.4619 - accuracy: 0.7982 - val_loss: 0.3866 - val_accuracy: 0.8315\n",
      "Epoch 232/500\n",
      "798/798 [==============================] - 0s 86us/step - loss: 0.4540 - accuracy: 0.7945 - val_loss: 0.3892 - val_accuracy: 0.8315\n",
      "Epoch 233/500\n",
      "798/798 [==============================] - 0s 65us/step - loss: 0.4589 - accuracy: 0.7932 - val_loss: 0.3974 - val_accuracy: 0.7865\n",
      "Epoch 234/500\n",
      "798/798 [==============================] - 0s 48us/step - loss: 0.4673 - accuracy: 0.7832 - val_loss: 0.3894 - val_accuracy: 0.8315\n",
      "Epoch 235/500\n",
      "798/798 [==============================] - 0s 43us/step - loss: 0.4578 - accuracy: 0.7932 - val_loss: 0.3891 - val_accuracy: 0.8315\n",
      "Epoch 236/500\n",
      "798/798 [==============================] - 0s 41us/step - loss: 0.4499 - accuracy: 0.7982 - val_loss: 0.3861 - val_accuracy: 0.8315\n",
      "Epoch 237/500\n",
      "798/798 [==============================] - 0s 43us/step - loss: 0.4602 - accuracy: 0.8045 - val_loss: 0.4293 - val_accuracy: 0.7753\n",
      "Epoch 238/500\n",
      "798/798 [==============================] - 0s 39us/step - loss: 0.4850 - accuracy: 0.7769 - val_loss: 0.4075 - val_accuracy: 0.8090\n",
      "Epoch 239/500\n",
      "798/798 [==============================] - 0s 77us/step - loss: 0.4719 - accuracy: 0.7870 - val_loss: 0.3970 - val_accuracy: 0.8090\n",
      "Epoch 240/500\n",
      "798/798 [==============================] - 0s 108us/step - loss: 0.4577 - accuracy: 0.7957 - val_loss: 0.3890 - val_accuracy: 0.8315\n",
      "Epoch 241/500\n",
      "798/798 [==============================] - 0s 96us/step - loss: 0.4503 - accuracy: 0.7970 - val_loss: 0.3957 - val_accuracy: 0.8315\n",
      "Epoch 242/500\n",
      "798/798 [==============================] - 0s 110us/step - loss: 0.4546 - accuracy: 0.7982 - val_loss: 0.3976 - val_accuracy: 0.8315\n",
      "Epoch 243/500\n",
      "798/798 [==============================] - 0s 101us/step - loss: 0.4523 - accuracy: 0.7920 - val_loss: 0.3890 - val_accuracy: 0.8315\n",
      "Epoch 244/500\n",
      "798/798 [==============================] - 0s 103us/step - loss: 0.4606 - accuracy: 0.7932 - val_loss: 0.3881 - val_accuracy: 0.8202\n",
      "Epoch 245/500\n",
      "798/798 [==============================] - 0s 87us/step - loss: 0.4540 - accuracy: 0.8045 - val_loss: 0.3911 - val_accuracy: 0.8315\n",
      "Epoch 246/500\n",
      "798/798 [==============================] - 0s 99us/step - loss: 0.4582 - accuracy: 0.7995 - val_loss: 0.3901 - val_accuracy: 0.8315\n",
      "Epoch 247/500\n",
      "798/798 [==============================] - 0s 70us/step - loss: 0.4490 - accuracy: 0.7957 - val_loss: 0.3883 - val_accuracy: 0.8315\n",
      "Epoch 248/500\n",
      "798/798 [==============================] - 0s 51us/step - loss: 0.4540 - accuracy: 0.7957 - val_loss: 0.3877 - val_accuracy: 0.8090\n",
      "Epoch 249/500\n",
      "798/798 [==============================] - 0s 78us/step - loss: 0.4556 - accuracy: 0.7945 - val_loss: 0.3877 - val_accuracy: 0.8315\n",
      "Epoch 250/500\n",
      "798/798 [==============================] - 0s 101us/step - loss: 0.4536 - accuracy: 0.7945 - val_loss: 0.3846 - val_accuracy: 0.8315\n",
      "Epoch 251/500\n",
      "798/798 [==============================] - 0s 104us/step - loss: 0.4629 - accuracy: 0.7932 - val_loss: 0.3898 - val_accuracy: 0.8315\n",
      "Epoch 252/500\n",
      "798/798 [==============================] - 0s 92us/step - loss: 0.4576 - accuracy: 0.7920 - val_loss: 0.3928 - val_accuracy: 0.8315\n",
      "Epoch 253/500\n",
      "798/798 [==============================] - 0s 108us/step - loss: 0.4596 - accuracy: 0.7857 - val_loss: 0.4176 - val_accuracy: 0.7865\n",
      "Epoch 254/500\n",
      "798/798 [==============================] - 0s 92us/step - loss: 0.4701 - accuracy: 0.7945 - val_loss: 0.3866 - val_accuracy: 0.8315\n",
      "Epoch 255/500\n",
      "798/798 [==============================] - 0s 124us/step - loss: 0.4494 - accuracy: 0.7945 - val_loss: 0.4020 - val_accuracy: 0.8315\n",
      "Epoch 256/500\n",
      "798/798 [==============================] - 0s 103us/step - loss: 0.4526 - accuracy: 0.8008 - val_loss: 0.4516 - val_accuracy: 0.8202\n",
      "Epoch 257/500\n",
      "798/798 [==============================] - 0s 65us/step - loss: 0.4667 - accuracy: 0.7995 - val_loss: 0.4296 - val_accuracy: 0.8202\n",
      "Epoch 258/500\n",
      "798/798 [==============================] - 0s 53us/step - loss: 0.4645 - accuracy: 0.7920 - val_loss: 0.3937 - val_accuracy: 0.7978\n",
      "Epoch 259/500\n",
      "798/798 [==============================] - 0s 43us/step - loss: 0.4495 - accuracy: 0.7970 - val_loss: 0.3853 - val_accuracy: 0.8315\n",
      "Epoch 260/500\n",
      "798/798 [==============================] - 0s 44us/step - loss: 0.4493 - accuracy: 0.7932 - val_loss: 0.3885 - val_accuracy: 0.8315\n",
      "Epoch 261/500\n",
      "798/798 [==============================] - 0s 46us/step - loss: 0.4584 - accuracy: 0.7957 - val_loss: 0.3879 - val_accuracy: 0.8202\n",
      "Epoch 262/500\n",
      "798/798 [==============================] - 0s 40us/step - loss: 0.4518 - accuracy: 0.7945 - val_loss: 0.3821 - val_accuracy: 0.8315\n",
      "Epoch 263/500\n",
      "798/798 [==============================] - 0s 37us/step - loss: 0.4615 - accuracy: 0.7920 - val_loss: 0.3893 - val_accuracy: 0.7978\n",
      "Epoch 264/500\n",
      "798/798 [==============================] - 0s 33us/step - loss: 0.4630 - accuracy: 0.7932 - val_loss: 0.3860 - val_accuracy: 0.8315\n",
      "Epoch 265/500\n",
      "798/798 [==============================] - 0s 42us/step - loss: 0.4473 - accuracy: 0.7957 - val_loss: 0.4322 - val_accuracy: 0.8202\n",
      "Epoch 266/500\n",
      "798/798 [==============================] - 0s 41us/step - loss: 0.4887 - accuracy: 0.7907 - val_loss: 0.4101 - val_accuracy: 0.8315\n",
      "Epoch 267/500\n",
      "798/798 [==============================] - 0s 39us/step - loss: 0.4713 - accuracy: 0.7882 - val_loss: 0.3919 - val_accuracy: 0.8315\n",
      "Epoch 268/500\n",
      "798/798 [==============================] - 0s 40us/step - loss: 0.4550 - accuracy: 0.7932 - val_loss: 0.3911 - val_accuracy: 0.8315\n",
      "Epoch 269/500\n",
      "798/798 [==============================] - 0s 42us/step - loss: 0.4461 - accuracy: 0.7957 - val_loss: 0.3963 - val_accuracy: 0.7978\n",
      "Epoch 270/500\n",
      "798/798 [==============================] - 0s 49us/step - loss: 0.4503 - accuracy: 0.7982 - val_loss: 0.3869 - val_accuracy: 0.8315\n",
      "Epoch 271/500\n",
      "798/798 [==============================] - 0s 42us/step - loss: 0.4536 - accuracy: 0.7982 - val_loss: 0.4075 - val_accuracy: 0.8315\n",
      "Epoch 272/500\n",
      "798/798 [==============================] - 0s 44us/step - loss: 0.4593 - accuracy: 0.8033 - val_loss: 0.3828 - val_accuracy: 0.8315\n",
      "Epoch 273/500\n",
      "798/798 [==============================] - 0s 34us/step - loss: 0.4599 - accuracy: 0.7957 - val_loss: 0.4179 - val_accuracy: 0.8315\n",
      "Epoch 274/500\n",
      "798/798 [==============================] - 0s 32us/step - loss: 0.4569 - accuracy: 0.7882 - val_loss: 0.3910 - val_accuracy: 0.8315\n",
      "Epoch 275/500\n",
      "798/798 [==============================] - 0s 31us/step - loss: 0.4587 - accuracy: 0.7920 - val_loss: 0.3860 - val_accuracy: 0.7978\n",
      "Epoch 276/500\n",
      "798/798 [==============================] - 0s 30us/step - loss: 0.4833 - accuracy: 0.7820 - val_loss: 0.4080 - val_accuracy: 0.8090\n",
      "Epoch 277/500\n",
      "798/798 [==============================] - 0s 35us/step - loss: 0.4532 - accuracy: 0.8045 - val_loss: 0.3877 - val_accuracy: 0.8315\n",
      "Epoch 278/500\n",
      "798/798 [==============================] - 0s 32us/step - loss: 0.4538 - accuracy: 0.7920 - val_loss: 0.3826 - val_accuracy: 0.8315\n",
      "Epoch 279/500\n",
      "798/798 [==============================] - 0s 30us/step - loss: 0.4525 - accuracy: 0.7995 - val_loss: 0.3931 - val_accuracy: 0.8315\n",
      "Epoch 280/500\n",
      "798/798 [==============================] - 0s 30us/step - loss: 0.4605 - accuracy: 0.7932 - val_loss: 0.3963 - val_accuracy: 0.8315\n",
      "Epoch 281/500\n"
     ]
    },
    {
     "name": "stdout",
     "output_type": "stream",
     "text": [
      "798/798 [==============================] - 0s 31us/step - loss: 0.4788 - accuracy: 0.7982 - val_loss: 0.3865 - val_accuracy: 0.8315\n",
      "Epoch 282/500\n",
      "798/798 [==============================] - 0s 35us/step - loss: 0.4571 - accuracy: 0.7982 - val_loss: 0.3853 - val_accuracy: 0.8315\n",
      "Epoch 283/500\n",
      "798/798 [==============================] - 0s 30us/step - loss: 0.4570 - accuracy: 0.8008 - val_loss: 0.3861 - val_accuracy: 0.8315\n",
      "Epoch 284/500\n",
      "798/798 [==============================] - 0s 32us/step - loss: 0.4512 - accuracy: 0.8008 - val_loss: 0.3960 - val_accuracy: 0.8090\n",
      "Epoch 285/500\n",
      "798/798 [==============================] - 0s 34us/step - loss: 0.4556 - accuracy: 0.8070 - val_loss: 0.3870 - val_accuracy: 0.8315\n",
      "Epoch 286/500\n",
      "798/798 [==============================] - 0s 37us/step - loss: 0.4512 - accuracy: 0.7957 - val_loss: 0.3839 - val_accuracy: 0.8315\n",
      "Epoch 287/500\n",
      "798/798 [==============================] - 0s 35us/step - loss: 0.4506 - accuracy: 0.7995 - val_loss: 0.3852 - val_accuracy: 0.8315\n",
      "Epoch 288/500\n",
      "798/798 [==============================] - 0s 33us/step - loss: 0.4684 - accuracy: 0.7907 - val_loss: 0.3903 - val_accuracy: 0.8315\n",
      "Epoch 289/500\n",
      "798/798 [==============================] - 0s 37us/step - loss: 0.4509 - accuracy: 0.7995 - val_loss: 0.3898 - val_accuracy: 0.7978\n",
      "Epoch 290/500\n",
      "798/798 [==============================] - 0s 33us/step - loss: 0.4781 - accuracy: 0.7744 - val_loss: 0.3927 - val_accuracy: 0.7978\n",
      "Epoch 291/500\n",
      "798/798 [==============================] - 0s 32us/step - loss: 0.4634 - accuracy: 0.7932 - val_loss: 0.3862 - val_accuracy: 0.7978\n",
      "Epoch 292/500\n",
      "798/798 [==============================] - 0s 35us/step - loss: 0.4699 - accuracy: 0.7932 - val_loss: 0.4117 - val_accuracy: 0.8315\n",
      "Epoch 293/500\n",
      "798/798 [==============================] - 0s 40us/step - loss: 0.4489 - accuracy: 0.8095 - val_loss: 0.3857 - val_accuracy: 0.8315\n",
      "Epoch 294/500\n",
      "798/798 [==============================] - 0s 43us/step - loss: 0.4558 - accuracy: 0.8033 - val_loss: 0.3840 - val_accuracy: 0.8202\n",
      "Epoch 295/500\n",
      "798/798 [==============================] - 0s 36us/step - loss: 0.4517 - accuracy: 0.7957 - val_loss: 0.3835 - val_accuracy: 0.8315\n",
      "Epoch 296/500\n",
      "798/798 [==============================] - 0s 42us/step - loss: 0.4629 - accuracy: 0.7995 - val_loss: 0.3876 - val_accuracy: 0.8090\n",
      "Epoch 297/500\n",
      "798/798 [==============================] - 0s 38us/step - loss: 0.4596 - accuracy: 0.7945 - val_loss: 0.3860 - val_accuracy: 0.8315\n",
      "Epoch 298/500\n",
      "798/798 [==============================] - 0s 33us/step - loss: 0.4583 - accuracy: 0.7920 - val_loss: 0.3880 - val_accuracy: 0.8315\n",
      "Epoch 299/500\n",
      "798/798 [==============================] - 0s 33us/step - loss: 0.4600 - accuracy: 0.7882 - val_loss: 0.3976 - val_accuracy: 0.8315\n",
      "Epoch 300/500\n",
      "798/798 [==============================] - 0s 37us/step - loss: 0.4519 - accuracy: 0.7945 - val_loss: 0.3918 - val_accuracy: 0.7978\n",
      "Epoch 301/500\n",
      "798/798 [==============================] - 0s 31us/step - loss: 0.4645 - accuracy: 0.7932 - val_loss: 0.3842 - val_accuracy: 0.8315\n",
      "Epoch 302/500\n",
      "798/798 [==============================] - 0s 31us/step - loss: 0.4488 - accuracy: 0.7920 - val_loss: 0.3884 - val_accuracy: 0.7978\n",
      "Epoch 303/500\n",
      "798/798 [==============================] - 0s 32us/step - loss: 0.4772 - accuracy: 0.7807 - val_loss: 0.4026 - val_accuracy: 0.8090\n",
      "Epoch 304/500\n",
      "798/798 [==============================] - 0s 40us/step - loss: 0.4626 - accuracy: 0.7895 - val_loss: 0.3797 - val_accuracy: 0.8315\n",
      "Epoch 305/500\n",
      "798/798 [==============================] - 0s 33us/step - loss: 0.4550 - accuracy: 0.7995 - val_loss: 0.3899 - val_accuracy: 0.8315\n",
      "Epoch 306/500\n",
      "798/798 [==============================] - 0s 31us/step - loss: 0.4556 - accuracy: 0.7832 - val_loss: 0.3944 - val_accuracy: 0.8315\n",
      "Epoch 307/500\n",
      "798/798 [==============================] - 0s 30us/step - loss: 0.4538 - accuracy: 0.7982 - val_loss: 0.3839 - val_accuracy: 0.8315\n",
      "Epoch 308/500\n",
      "798/798 [==============================] - 0s 35us/step - loss: 0.4657 - accuracy: 0.7870 - val_loss: 0.3829 - val_accuracy: 0.8315\n",
      "Epoch 309/500\n",
      "798/798 [==============================] - 0s 30us/step - loss: 0.4505 - accuracy: 0.8020 - val_loss: 0.3839 - val_accuracy: 0.8315\n",
      "Epoch 310/500\n",
      "798/798 [==============================] - 0s 29us/step - loss: 0.4523 - accuracy: 0.7920 - val_loss: 0.3813 - val_accuracy: 0.8315\n",
      "Epoch 311/500\n",
      "798/798 [==============================] - 0s 30us/step - loss: 0.4545 - accuracy: 0.7882 - val_loss: 0.3859 - val_accuracy: 0.8315\n",
      "Epoch 312/500\n",
      "798/798 [==============================] - 0s 32us/step - loss: 0.4505 - accuracy: 0.7957 - val_loss: 0.3819 - val_accuracy: 0.8090\n",
      "Epoch 313/500\n",
      "798/798 [==============================] - 0s 30us/step - loss: 0.4664 - accuracy: 0.7920 - val_loss: 0.3857 - val_accuracy: 0.8315\n",
      "Epoch 314/500\n",
      "798/798 [==============================] - 0s 31us/step - loss: 0.4566 - accuracy: 0.7945 - val_loss: 0.3900 - val_accuracy: 0.8315\n",
      "Epoch 315/500\n",
      "798/798 [==============================] - 0s 31us/step - loss: 0.4510 - accuracy: 0.7995 - val_loss: 0.4070 - val_accuracy: 0.8315\n",
      "Epoch 316/500\n",
      "798/798 [==============================] - 0s 53us/step - loss: 0.4608 - accuracy: 0.7857 - val_loss: 0.3875 - val_accuracy: 0.8315\n",
      "Epoch 317/500\n",
      "798/798 [==============================] - 0s 56us/step - loss: 0.4639 - accuracy: 0.7920 - val_loss: 0.3886 - val_accuracy: 0.8315\n",
      "Epoch 318/500\n",
      "798/798 [==============================] - 0s 70us/step - loss: 0.4584 - accuracy: 0.8020 - val_loss: 0.3930 - val_accuracy: 0.8315\n",
      "Epoch 319/500\n",
      "798/798 [==============================] - 0s 57us/step - loss: 0.4786 - accuracy: 0.7832 - val_loss: 0.4228 - val_accuracy: 0.7753\n",
      "Epoch 320/500\n",
      "798/798 [==============================] - 0s 101us/step - loss: 0.5201 - accuracy: 0.7782 - val_loss: 0.3991 - val_accuracy: 0.7978\n",
      "Epoch 321/500\n",
      "798/798 [==============================] - 0s 100us/step - loss: 0.4892 - accuracy: 0.7807 - val_loss: 0.3990 - val_accuracy: 0.8202\n",
      "Epoch 322/500\n",
      "798/798 [==============================] - 0s 107us/step - loss: 0.4768 - accuracy: 0.7870 - val_loss: 0.3850 - val_accuracy: 0.8315\n",
      "Epoch 323/500\n",
      "798/798 [==============================] - 0s 102us/step - loss: 0.4532 - accuracy: 0.7970 - val_loss: 0.3880 - val_accuracy: 0.8315\n",
      "Epoch 324/500\n",
      "798/798 [==============================] - 0s 103us/step - loss: 0.4535 - accuracy: 0.7945 - val_loss: 0.3872 - val_accuracy: 0.8315\n",
      "Epoch 325/500\n",
      "798/798 [==============================] - 0s 106us/step - loss: 0.4490 - accuracy: 0.7982 - val_loss: 0.3859 - val_accuracy: 0.8315\n",
      "Epoch 326/500\n",
      "798/798 [==============================] - 0s 87us/step - loss: 0.4525 - accuracy: 0.7945 - val_loss: 0.3868 - val_accuracy: 0.8315\n",
      "Epoch 327/500\n",
      "798/798 [==============================] - 0s 64us/step - loss: 0.4489 - accuracy: 0.8033 - val_loss: 0.3810 - val_accuracy: 0.8315\n",
      "Epoch 328/500\n",
      "798/798 [==============================] - 0s 37us/step - loss: 0.4526 - accuracy: 0.7932 - val_loss: 0.3919 - val_accuracy: 0.8315\n",
      "Epoch 329/500\n",
      "798/798 [==============================] - 0s 38us/step - loss: 0.4541 - accuracy: 0.7945 - val_loss: 0.3807 - val_accuracy: 0.8315\n",
      "Epoch 330/500\n",
      "798/798 [==============================] - 0s 37us/step - loss: 0.4532 - accuracy: 0.8008 - val_loss: 0.3811 - val_accuracy: 0.8090\n",
      "Epoch 331/500\n",
      "798/798 [==============================] - 0s 32us/step - loss: 0.4923 - accuracy: 0.7769 - val_loss: 0.3812 - val_accuracy: 0.8202\n",
      "Epoch 332/500\n",
      "798/798 [==============================] - 0s 29us/step - loss: 0.4707 - accuracy: 0.7907 - val_loss: 0.3833 - val_accuracy: 0.8315\n",
      "Epoch 333/500\n",
      "798/798 [==============================] - 0s 30us/step - loss: 0.4543 - accuracy: 0.7920 - val_loss: 0.3990 - val_accuracy: 0.8315\n",
      "Epoch 334/500\n",
      "798/798 [==============================] - 0s 37us/step - loss: 0.4527 - accuracy: 0.7945 - val_loss: 0.3814 - val_accuracy: 0.8315\n",
      "Epoch 335/500\n",
      "798/798 [==============================] - 0s 38us/step - loss: 0.4465 - accuracy: 0.7945 - val_loss: 0.3823 - val_accuracy: 0.8315\n",
      "Epoch 336/500\n",
      "798/798 [==============================] - 0s 41us/step - loss: 0.4478 - accuracy: 0.7945 - val_loss: 0.3827 - val_accuracy: 0.8315\n",
      "Epoch 337/500\n"
     ]
    },
    {
     "name": "stdout",
     "output_type": "stream",
     "text": [
      "798/798 [==============================] - 0s 43us/step - loss: 0.4488 - accuracy: 0.7970 - val_loss: 0.3810 - val_accuracy: 0.8202\n",
      "Epoch 338/500\n",
      "798/798 [==============================] - 0s 32us/step - loss: 0.4471 - accuracy: 0.7920 - val_loss: 0.3834 - val_accuracy: 0.8315\n",
      "Epoch 339/500\n",
      "798/798 [==============================] - 0s 34us/step - loss: 0.4520 - accuracy: 0.7957 - val_loss: 0.3808 - val_accuracy: 0.8315\n",
      "Epoch 340/500\n",
      "798/798 [==============================] - 0s 40us/step - loss: 0.4639 - accuracy: 0.7870 - val_loss: 0.3844 - val_accuracy: 0.8315\n",
      "Epoch 341/500\n",
      "798/798 [==============================] - 0s 34us/step - loss: 0.4509 - accuracy: 0.7870 - val_loss: 0.3810 - val_accuracy: 0.8315\n",
      "Epoch 342/500\n",
      "798/798 [==============================] - 0s 31us/step - loss: 0.4562 - accuracy: 0.7995 - val_loss: 0.3820 - val_accuracy: 0.8315\n",
      "Epoch 343/500\n",
      "798/798 [==============================] - 0s 30us/step - loss: 0.4525 - accuracy: 0.7920 - val_loss: 0.3821 - val_accuracy: 0.8315\n",
      "Epoch 344/500\n",
      "798/798 [==============================] - 0s 34us/step - loss: 0.4466 - accuracy: 0.8020 - val_loss: 0.3814 - val_accuracy: 0.8315\n",
      "Epoch 345/500\n",
      "798/798 [==============================] - 0s 39us/step - loss: 0.4476 - accuracy: 0.7995 - val_loss: 0.4050 - val_accuracy: 0.8315\n",
      "Epoch 346/500\n",
      "798/798 [==============================] - 0s 36us/step - loss: 0.4587 - accuracy: 0.7970 - val_loss: 0.3757 - val_accuracy: 0.8315\n",
      "Epoch 347/500\n",
      "798/798 [==============================] - 0s 38us/step - loss: 0.4534 - accuracy: 0.7970 - val_loss: 0.3916 - val_accuracy: 0.8315\n",
      "Epoch 348/500\n",
      "798/798 [==============================] - 0s 33us/step - loss: 0.4535 - accuracy: 0.7957 - val_loss: 0.3839 - val_accuracy: 0.8315\n",
      "Epoch 349/500\n",
      "798/798 [==============================] - 0s 45us/step - loss: 0.4487 - accuracy: 0.7970 - val_loss: 0.4060 - val_accuracy: 0.8315\n",
      "Epoch 350/500\n",
      "798/798 [==============================] - 0s 53us/step - loss: 0.4781 - accuracy: 0.7870 - val_loss: 0.4346 - val_accuracy: 0.8202\n",
      "Epoch 351/500\n",
      "798/798 [==============================] - 0s 47us/step - loss: 0.4626 - accuracy: 0.7957 - val_loss: 0.4030 - val_accuracy: 0.8315\n",
      "Epoch 352/500\n",
      "798/798 [==============================] - 0s 43us/step - loss: 0.4763 - accuracy: 0.8008 - val_loss: 0.3855 - val_accuracy: 0.8315\n",
      "Epoch 353/500\n",
      "798/798 [==============================] - 0s 46us/step - loss: 0.4603 - accuracy: 0.7932 - val_loss: 0.4028 - val_accuracy: 0.8315\n",
      "Epoch 354/500\n",
      "798/798 [==============================] - 0s 47us/step - loss: 0.4619 - accuracy: 0.7982 - val_loss: 0.3766 - val_accuracy: 0.8315\n",
      "Epoch 355/500\n",
      "798/798 [==============================] - 0s 50us/step - loss: 0.4478 - accuracy: 0.7995 - val_loss: 0.3872 - val_accuracy: 0.8315\n",
      "Epoch 356/500\n",
      "798/798 [==============================] - 0s 38us/step - loss: 0.4490 - accuracy: 0.7957 - val_loss: 0.3834 - val_accuracy: 0.8315\n",
      "Epoch 357/500\n",
      "798/798 [==============================] - 0s 38us/step - loss: 0.4582 - accuracy: 0.7932 - val_loss: 0.3835 - val_accuracy: 0.8090\n",
      "Epoch 358/500\n",
      "798/798 [==============================] - 0s 51us/step - loss: 0.4548 - accuracy: 0.7995 - val_loss: 0.3798 - val_accuracy: 0.8315\n",
      "Epoch 359/500\n",
      "798/798 [==============================] - 0s 45us/step - loss: 0.4520 - accuracy: 0.7982 - val_loss: 0.3813 - val_accuracy: 0.8315\n",
      "Epoch 360/500\n",
      "798/798 [==============================] - 0s 41us/step - loss: 0.4592 - accuracy: 0.8008 - val_loss: 0.3768 - val_accuracy: 0.8315\n",
      "Epoch 361/500\n",
      "798/798 [==============================] - 0s 44us/step - loss: 0.4516 - accuracy: 0.7932 - val_loss: 0.3800 - val_accuracy: 0.8090\n",
      "Epoch 362/500\n",
      "798/798 [==============================] - 0s 53us/step - loss: 0.4606 - accuracy: 0.7832 - val_loss: 0.4018 - val_accuracy: 0.8315\n",
      "Epoch 363/500\n",
      "798/798 [==============================] - 0s 45us/step - loss: 0.4478 - accuracy: 0.8033 - val_loss: 0.3930 - val_accuracy: 0.8315\n",
      "Epoch 364/500\n",
      "798/798 [==============================] - 0s 50us/step - loss: 0.4586 - accuracy: 0.7882 - val_loss: 0.3830 - val_accuracy: 0.8315\n",
      "Epoch 365/500\n",
      "798/798 [==============================] - 0s 53us/step - loss: 0.4699 - accuracy: 0.7945 - val_loss: 0.3842 - val_accuracy: 0.8315\n",
      "Epoch 366/500\n",
      "798/798 [==============================] - 0s 40us/step - loss: 0.4591 - accuracy: 0.7945 - val_loss: 0.3857 - val_accuracy: 0.8315\n",
      "Epoch 367/500\n",
      "798/798 [==============================] - 0s 39us/step - loss: 0.4613 - accuracy: 0.7982 - val_loss: 0.3839 - val_accuracy: 0.8315\n",
      "Epoch 368/500\n",
      "798/798 [==============================] - 0s 45us/step - loss: 0.4453 - accuracy: 0.8033 - val_loss: 0.4105 - val_accuracy: 0.8315\n",
      "Epoch 369/500\n",
      "798/798 [==============================] - 0s 54us/step - loss: 0.4553 - accuracy: 0.7982 - val_loss: 0.3848 - val_accuracy: 0.8315\n",
      "Epoch 370/500\n",
      "798/798 [==============================] - 0s 57us/step - loss: 0.4507 - accuracy: 0.7957 - val_loss: 0.3804 - val_accuracy: 0.8315\n",
      "Epoch 371/500\n",
      "798/798 [==============================] - 0s 51us/step - loss: 0.4480 - accuracy: 0.7932 - val_loss: 0.3784 - val_accuracy: 0.8315\n",
      "Epoch 372/500\n",
      "798/798 [==============================] - 0s 45us/step - loss: 0.4476 - accuracy: 0.7982 - val_loss: 0.3799 - val_accuracy: 0.8315\n",
      "Epoch 373/500\n",
      "798/798 [==============================] - 0s 53us/step - loss: 0.4457 - accuracy: 0.7982 - val_loss: 0.3923 - val_accuracy: 0.8315\n",
      "Epoch 374/500\n",
      "798/798 [==============================] - 0s 39us/step - loss: 0.4556 - accuracy: 0.8008 - val_loss: 0.3912 - val_accuracy: 0.8315\n",
      "Epoch 375/500\n",
      "798/798 [==============================] - 0s 34us/step - loss: 0.4723 - accuracy: 0.7982 - val_loss: 0.3851 - val_accuracy: 0.8315\n",
      "Epoch 376/500\n",
      "798/798 [==============================] - 0s 29us/step - loss: 0.4718 - accuracy: 0.7744 - val_loss: 0.3832 - val_accuracy: 0.7978\n",
      "Epoch 377/500\n",
      "798/798 [==============================] - 0s 29us/step - loss: 0.4448 - accuracy: 0.7982 - val_loss: 0.4198 - val_accuracy: 0.8202\n",
      "Epoch 378/500\n",
      "798/798 [==============================] - 0s 34us/step - loss: 0.4677 - accuracy: 0.7945 - val_loss: 0.3892 - val_accuracy: 0.8315\n",
      "Epoch 379/500\n",
      "798/798 [==============================] - 0s 32us/step - loss: 0.4482 - accuracy: 0.7957 - val_loss: 0.3837 - val_accuracy: 0.8315\n",
      "Epoch 380/500\n",
      "798/798 [==============================] - 0s 37us/step - loss: 0.4527 - accuracy: 0.7945 - val_loss: 0.3768 - val_accuracy: 0.8315\n",
      "Epoch 381/500\n",
      "798/798 [==============================] - 0s 34us/step - loss: 0.4550 - accuracy: 0.8008 - val_loss: 0.3796 - val_accuracy: 0.8315\n",
      "Epoch 382/500\n",
      "798/798 [==============================] - 0s 37us/step - loss: 0.4489 - accuracy: 0.8008 - val_loss: 0.3790 - val_accuracy: 0.8090\n",
      "Epoch 383/500\n",
      "798/798 [==============================] - 0s 45us/step - loss: 0.4575 - accuracy: 0.7932 - val_loss: 0.3831 - val_accuracy: 0.8090\n",
      "Epoch 384/500\n",
      "798/798 [==============================] - 0s 37us/step - loss: 0.4448 - accuracy: 0.7920 - val_loss: 0.3892 - val_accuracy: 0.8315\n",
      "Epoch 385/500\n",
      "798/798 [==============================] - 0s 36us/step - loss: 0.4492 - accuracy: 0.7995 - val_loss: 0.3905 - val_accuracy: 0.8315\n",
      "Epoch 386/500\n",
      "798/798 [==============================] - 0s 39us/step - loss: 0.4553 - accuracy: 0.7932 - val_loss: 0.3832 - val_accuracy: 0.8315\n",
      "Epoch 387/500\n",
      "798/798 [==============================] - 0s 44us/step - loss: 0.4647 - accuracy: 0.7957 - val_loss: 0.3810 - val_accuracy: 0.8090\n",
      "Epoch 388/500\n",
      "798/798 [==============================] - 0s 37us/step - loss: 0.4512 - accuracy: 0.8008 - val_loss: 0.3850 - val_accuracy: 0.8315\n",
      "Epoch 389/500\n",
      "798/798 [==============================] - 0s 36us/step - loss: 0.4515 - accuracy: 0.7995 - val_loss: 0.3924 - val_accuracy: 0.8315\n",
      "Epoch 390/500\n",
      "798/798 [==============================] - 0s 34us/step - loss: 0.4510 - accuracy: 0.7895 - val_loss: 0.3811 - val_accuracy: 0.8315\n",
      "Epoch 391/500\n",
      "798/798 [==============================] - 0s 42us/step - loss: 0.4498 - accuracy: 0.7995 - val_loss: 0.3787 - val_accuracy: 0.8315\n",
      "Epoch 392/500\n",
      "798/798 [==============================] - 0s 45us/step - loss: 0.4495 - accuracy: 0.7907 - val_loss: 0.3809 - val_accuracy: 0.8315\n",
      "Epoch 393/500\n"
     ]
    },
    {
     "name": "stdout",
     "output_type": "stream",
     "text": [
      "798/798 [==============================] - 0s 41us/step - loss: 0.4442 - accuracy: 0.7982 - val_loss: 0.4051 - val_accuracy: 0.8315\n",
      "Epoch 394/500\n",
      "798/798 [==============================] - 0s 33us/step - loss: 0.4572 - accuracy: 0.7982 - val_loss: 0.3861 - val_accuracy: 0.8315\n",
      "Epoch 395/500\n",
      "798/798 [==============================] - 0s 34us/step - loss: 0.4677 - accuracy: 0.8033 - val_loss: 0.4198 - val_accuracy: 0.8202\n",
      "Epoch 396/500\n",
      "798/798 [==============================] - 0s 35us/step - loss: 0.4502 - accuracy: 0.7970 - val_loss: 0.3734 - val_accuracy: 0.8315\n",
      "Epoch 397/500\n",
      "798/798 [==============================] - 0s 35us/step - loss: 0.4480 - accuracy: 0.8045 - val_loss: 0.3905 - val_accuracy: 0.7978\n",
      "Epoch 398/500\n",
      "798/798 [==============================] - 0s 33us/step - loss: 0.4721 - accuracy: 0.7857 - val_loss: 0.3838 - val_accuracy: 0.8090\n",
      "Epoch 399/500\n",
      "798/798 [==============================] - 0s 33us/step - loss: 0.4593 - accuracy: 0.7945 - val_loss: 0.4011 - val_accuracy: 0.7978\n",
      "Epoch 400/500\n",
      "798/798 [==============================] - 0s 34us/step - loss: 0.4691 - accuracy: 0.7845 - val_loss: 0.3860 - val_accuracy: 0.8315\n",
      "Epoch 401/500\n",
      "798/798 [==============================] - ETA: 0s - loss: 0.5513 - accuracy: 0.71 - 0s 32us/step - loss: 0.4530 - accuracy: 0.7882 - val_loss: 0.3794 - val_accuracy: 0.8315\n",
      "Epoch 402/500\n",
      "798/798 [==============================] - 0s 33us/step - loss: 0.4497 - accuracy: 0.7982 - val_loss: 0.3783 - val_accuracy: 0.8315\n",
      "Epoch 403/500\n",
      "798/798 [==============================] - 0s 35us/step - loss: 0.4524 - accuracy: 0.7920 - val_loss: 0.3789 - val_accuracy: 0.8315\n",
      "Epoch 404/500\n",
      "798/798 [==============================] - 0s 32us/step - loss: 0.4495 - accuracy: 0.7945 - val_loss: 0.3797 - val_accuracy: 0.8315\n",
      "Epoch 405/500\n",
      "798/798 [==============================] - 0s 28us/step - loss: 0.4602 - accuracy: 0.7907 - val_loss: 0.3808 - val_accuracy: 0.8315\n",
      "Epoch 406/500\n",
      "798/798 [==============================] - 0s 32us/step - loss: 0.4454 - accuracy: 0.7982 - val_loss: 0.3787 - val_accuracy: 0.8315\n",
      "Epoch 407/500\n",
      "798/798 [==============================] - 0s 32us/step - loss: 0.4477 - accuracy: 0.7970 - val_loss: 0.4003 - val_accuracy: 0.8315\n",
      "Epoch 408/500\n",
      "798/798 [==============================] - 0s 34us/step - loss: 0.4540 - accuracy: 0.7970 - val_loss: 0.3863 - val_accuracy: 0.8315\n",
      "Epoch 409/500\n",
      "798/798 [==============================] - 0s 29us/step - loss: 0.4462 - accuracy: 0.7932 - val_loss: 0.3786 - val_accuracy: 0.8315\n",
      "Epoch 410/500\n",
      "798/798 [==============================] - 0s 30us/step - loss: 0.4512 - accuracy: 0.7945 - val_loss: 0.3843 - val_accuracy: 0.7978\n",
      "Epoch 411/500\n",
      "798/798 [==============================] - 0s 29us/step - loss: 0.4610 - accuracy: 0.7945 - val_loss: 0.3808 - val_accuracy: 0.8315\n",
      "Epoch 412/500\n",
      "798/798 [==============================] - 0s 29us/step - loss: 0.4483 - accuracy: 0.7957 - val_loss: 0.3854 - val_accuracy: 0.8315\n",
      "Epoch 413/500\n",
      "798/798 [==============================] - 0s 30us/step - loss: 0.4476 - accuracy: 0.7945 - val_loss: 0.3753 - val_accuracy: 0.8202\n",
      "Epoch 414/500\n",
      "798/798 [==============================] - 0s 32us/step - loss: 0.4529 - accuracy: 0.8020 - val_loss: 0.3816 - val_accuracy: 0.8315\n",
      "Epoch 415/500\n",
      "798/798 [==============================] - 0s 40us/step - loss: 0.4494 - accuracy: 0.7920 - val_loss: 0.3848 - val_accuracy: 0.8315\n",
      "Epoch 416/500\n",
      "798/798 [==============================] - 0s 44us/step - loss: 0.4467 - accuracy: 0.7957 - val_loss: 0.3890 - val_accuracy: 0.7978\n",
      "Epoch 417/500\n",
      "798/798 [==============================] - 0s 39us/step - loss: 0.4683 - accuracy: 0.7857 - val_loss: 0.3794 - val_accuracy: 0.8315\n",
      "Epoch 418/500\n",
      "798/798 [==============================] - 0s 35us/step - loss: 0.4468 - accuracy: 0.8008 - val_loss: 0.3795 - val_accuracy: 0.8315\n",
      "Epoch 419/500\n",
      "798/798 [==============================] - 0s 34us/step - loss: 0.4571 - accuracy: 0.7907 - val_loss: 0.3777 - val_accuracy: 0.8315\n",
      "Epoch 420/500\n",
      "798/798 [==============================] - 0s 42us/step - loss: 0.4494 - accuracy: 0.7970 - val_loss: 0.3885 - val_accuracy: 0.8315\n",
      "Epoch 421/500\n",
      "798/798 [==============================] - 0s 54us/step - loss: 0.4470 - accuracy: 0.8008 - val_loss: 0.3873 - val_accuracy: 0.8315\n",
      "Epoch 422/500\n",
      "798/798 [==============================] - 0s 42us/step - loss: 0.4500 - accuracy: 0.7970 - val_loss: 0.3781 - val_accuracy: 0.8315\n",
      "Epoch 423/500\n",
      "798/798 [==============================] - 0s 40us/step - loss: 0.4499 - accuracy: 0.7920 - val_loss: 0.3800 - val_accuracy: 0.8315\n",
      "Epoch 424/500\n",
      "798/798 [==============================] - 0s 47us/step - loss: 0.4469 - accuracy: 0.7982 - val_loss: 0.3900 - val_accuracy: 0.8315\n",
      "Epoch 425/500\n",
      "798/798 [==============================] - 0s 44us/step - loss: 0.4453 - accuracy: 0.7932 - val_loss: 0.3777 - val_accuracy: 0.8202\n",
      "Epoch 426/500\n",
      "798/798 [==============================] - 0s 34us/step - loss: 0.4472 - accuracy: 0.7932 - val_loss: 0.3830 - val_accuracy: 0.8090\n",
      "Epoch 427/500\n",
      "798/798 [==============================] - 0s 32us/step - loss: 0.4488 - accuracy: 0.7957 - val_loss: 0.3763 - val_accuracy: 0.8315\n",
      "Epoch 428/500\n",
      "798/798 [==============================] - 0s 41us/step - loss: 0.4530 - accuracy: 0.7982 - val_loss: 0.3833 - val_accuracy: 0.8315\n",
      "Epoch 429/500\n",
      "798/798 [==============================] - 0s 46us/step - loss: 0.4491 - accuracy: 0.7895 - val_loss: 0.3787 - val_accuracy: 0.8315\n",
      "Epoch 430/500\n",
      "798/798 [==============================] - 0s 43us/step - loss: 0.4476 - accuracy: 0.7945 - val_loss: 0.3838 - val_accuracy: 0.7978\n",
      "Epoch 431/500\n",
      "798/798 [==============================] - 0s 36us/step - loss: 0.4515 - accuracy: 0.8008 - val_loss: 0.3799 - val_accuracy: 0.8315\n",
      "Epoch 432/500\n",
      "798/798 [==============================] - 0s 36us/step - loss: 0.4495 - accuracy: 0.7970 - val_loss: 0.3804 - val_accuracy: 0.8315\n",
      "Epoch 433/500\n",
      "798/798 [==============================] - 0s 41us/step - loss: 0.4496 - accuracy: 0.7945 - val_loss: 0.4021 - val_accuracy: 0.8315\n",
      "Epoch 434/500\n",
      "798/798 [==============================] - 0s 34us/step - loss: 0.4529 - accuracy: 0.7932 - val_loss: 0.3846 - val_accuracy: 0.8315\n",
      "Epoch 435/500\n",
      "798/798 [==============================] - 0s 34us/step - loss: 0.4585 - accuracy: 0.7920 - val_loss: 0.3871 - val_accuracy: 0.8315\n",
      "Epoch 436/500\n",
      "798/798 [==============================] - 0s 35us/step - loss: 0.4505 - accuracy: 0.8020 - val_loss: 0.3791 - val_accuracy: 0.8202\n",
      "Epoch 437/500\n",
      "798/798 [==============================] - 0s 45us/step - loss: 0.4506 - accuracy: 0.7982 - val_loss: 0.3779 - val_accuracy: 0.8315\n",
      "Epoch 438/500\n",
      "798/798 [==============================] - 0s 44us/step - loss: 0.4627 - accuracy: 0.7857 - val_loss: 0.3843 - val_accuracy: 0.8315\n",
      "Epoch 439/500\n",
      "798/798 [==============================] - 0s 40us/step - loss: 0.4638 - accuracy: 0.7870 - val_loss: 0.3861 - val_accuracy: 0.8315\n",
      "Epoch 440/500\n",
      "798/798 [==============================] - 0s 40us/step - loss: 0.4474 - accuracy: 0.7957 - val_loss: 0.3873 - val_accuracy: 0.8315\n",
      "Epoch 441/500\n",
      "798/798 [==============================] - 0s 44us/step - loss: 0.4569 - accuracy: 0.7907 - val_loss: 0.3990 - val_accuracy: 0.8315\n",
      "Epoch 442/500\n",
      "798/798 [==============================] - 0s 36us/step - loss: 0.4574 - accuracy: 0.7982 - val_loss: 0.3773 - val_accuracy: 0.8315\n",
      "Epoch 443/500\n",
      "798/798 [==============================] - 0s 30us/step - loss: 0.4467 - accuracy: 0.7920 - val_loss: 0.3803 - val_accuracy: 0.7978\n",
      "Epoch 444/500\n",
      "798/798 [==============================] - 0s 39us/step - loss: 0.4608 - accuracy: 0.7957 - val_loss: 0.3907 - val_accuracy: 0.8315\n",
      "Epoch 445/500\n",
      "798/798 [==============================] - 0s 45us/step - loss: 0.4446 - accuracy: 0.8008 - val_loss: 0.3764 - val_accuracy: 0.8315\n",
      "Epoch 446/500\n",
      "798/798 [==============================] - 0s 41us/step - loss: 0.4449 - accuracy: 0.8008 - val_loss: 0.3863 - val_accuracy: 0.8315\n",
      "Epoch 447/500\n",
      "798/798 [==============================] - 0s 41us/step - loss: 0.4453 - accuracy: 0.7995 - val_loss: 0.3841 - val_accuracy: 0.8315\n",
      "Epoch 448/500\n",
      "798/798 [==============================] - 0s 38us/step - loss: 0.4469 - accuracy: 0.7995 - val_loss: 0.3969 - val_accuracy: 0.8315\n"
     ]
    },
    {
     "name": "stdout",
     "output_type": "stream",
     "text": [
      "Epoch 449/500\n",
      "798/798 [==============================] - 0s 45us/step - loss: 0.4451 - accuracy: 0.8020 - val_loss: 0.3814 - val_accuracy: 0.8315\n",
      "Epoch 450/500\n",
      "798/798 [==============================] - 0s 40us/step - loss: 0.4470 - accuracy: 0.7957 - val_loss: 0.3767 - val_accuracy: 0.8315\n",
      "Epoch 451/500\n",
      "798/798 [==============================] - 0s 34us/step - loss: 0.4474 - accuracy: 0.7945 - val_loss: 0.3876 - val_accuracy: 0.8315\n",
      "Epoch 452/500\n",
      "798/798 [==============================] - 0s 37us/step - loss: 0.4535 - accuracy: 0.7957 - val_loss: 0.3961 - val_accuracy: 0.8315\n",
      "Epoch 453/500\n",
      "798/798 [==============================] - 0s 39us/step - loss: 0.4556 - accuracy: 0.7945 - val_loss: 0.3849 - val_accuracy: 0.8202\n",
      "Epoch 454/500\n",
      "798/798 [==============================] - 0s 54us/step - loss: 0.4483 - accuracy: 0.7995 - val_loss: 0.3786 - val_accuracy: 0.8090\n",
      "Epoch 455/500\n",
      "798/798 [==============================] - 0s 47us/step - loss: 0.4703 - accuracy: 0.7957 - val_loss: 0.3775 - val_accuracy: 0.8315\n",
      "Epoch 456/500\n",
      "798/798 [==============================] - 0s 34us/step - loss: 0.4506 - accuracy: 0.8020 - val_loss: 0.3808 - val_accuracy: 0.8315\n",
      "Epoch 457/500\n",
      "798/798 [==============================] - 0s 34us/step - loss: 0.4473 - accuracy: 0.7982 - val_loss: 0.3762 - val_accuracy: 0.8315\n",
      "Epoch 458/500\n",
      "798/798 [==============================] - 0s 40us/step - loss: 0.4483 - accuracy: 0.8020 - val_loss: 0.3787 - val_accuracy: 0.8090\n",
      "Epoch 459/500\n",
      "798/798 [==============================] - 0s 32us/step - loss: 0.4541 - accuracy: 0.7932 - val_loss: 0.3834 - val_accuracy: 0.8315\n",
      "Epoch 460/500\n",
      "798/798 [==============================] - 0s 35us/step - loss: 0.4461 - accuracy: 0.7970 - val_loss: 0.3782 - val_accuracy: 0.8315\n",
      "Epoch 461/500\n",
      "798/798 [==============================] - 0s 37us/step - loss: 0.4453 - accuracy: 0.7982 - val_loss: 0.3831 - val_accuracy: 0.8202\n",
      "Epoch 462/500\n",
      "798/798 [==============================] - 0s 42us/step - loss: 0.4575 - accuracy: 0.7970 - val_loss: 0.3894 - val_accuracy: 0.8090\n",
      "Epoch 463/500\n",
      "798/798 [==============================] - 0s 45us/step - loss: 0.4565 - accuracy: 0.7907 - val_loss: 0.3897 - val_accuracy: 0.7978\n",
      "Epoch 464/500\n",
      "798/798 [==============================] - 0s 43us/step - loss: 0.4563 - accuracy: 0.7957 - val_loss: 0.3828 - val_accuracy: 0.8090\n",
      "Epoch 465/500\n",
      "798/798 [==============================] - 0s 36us/step - loss: 0.4565 - accuracy: 0.7970 - val_loss: 0.3825 - val_accuracy: 0.7978\n",
      "Epoch 466/500\n",
      "798/798 [==============================] - 0s 40us/step - loss: 0.4566 - accuracy: 0.7895 - val_loss: 0.3790 - val_accuracy: 0.8315\n",
      "Epoch 467/500\n",
      "798/798 [==============================] - 0s 45us/step - loss: 0.4503 - accuracy: 0.7995 - val_loss: 0.3761 - val_accuracy: 0.8315\n",
      "Epoch 468/500\n",
      "798/798 [==============================] - 0s 39us/step - loss: 0.4491 - accuracy: 0.7982 - val_loss: 0.3887 - val_accuracy: 0.8315\n",
      "Epoch 469/500\n",
      "798/798 [==============================] - 0s 34us/step - loss: 0.4606 - accuracy: 0.7920 - val_loss: 0.3762 - val_accuracy: 0.8202\n",
      "Epoch 470/500\n",
      "798/798 [==============================] - 0s 35us/step - loss: 0.4555 - accuracy: 0.8020 - val_loss: 0.3904 - val_accuracy: 0.8315\n",
      "Epoch 471/500\n",
      "798/798 [==============================] - 0s 38us/step - loss: 0.4450 - accuracy: 0.7907 - val_loss: 0.3889 - val_accuracy: 0.8315\n",
      "Epoch 472/500\n",
      "798/798 [==============================] - 0s 39us/step - loss: 0.4488 - accuracy: 0.7945 - val_loss: 0.3807 - val_accuracy: 0.8315\n",
      "Epoch 473/500\n",
      "798/798 [==============================] - 0s 34us/step - loss: 0.4482 - accuracy: 0.7957 - val_loss: 0.3846 - val_accuracy: 0.8202\n",
      "Epoch 474/500\n",
      "798/798 [==============================] - 0s 30us/step - loss: 0.4486 - accuracy: 0.7945 - val_loss: 0.3815 - val_accuracy: 0.8315\n",
      "Epoch 475/500\n",
      "798/798 [==============================] - 0s 31us/step - loss: 0.4456 - accuracy: 0.7957 - val_loss: 0.3805 - val_accuracy: 0.8315\n",
      "Epoch 476/500\n",
      "798/798 [==============================] - 0s 37us/step - loss: 0.4551 - accuracy: 0.7882 - val_loss: 0.3841 - val_accuracy: 0.8315\n",
      "Epoch 477/500\n",
      "798/798 [==============================] - 0s 35us/step - loss: 0.4493 - accuracy: 0.7970 - val_loss: 0.3890 - val_accuracy: 0.8090\n",
      "Epoch 478/500\n",
      "798/798 [==============================] - 0s 36us/step - loss: 0.4635 - accuracy: 0.7907 - val_loss: 0.3879 - val_accuracy: 0.8315\n",
      "Epoch 479/500\n",
      "798/798 [==============================] - 0s 34us/step - loss: 0.4572 - accuracy: 0.7932 - val_loss: 0.4051 - val_accuracy: 0.8315\n",
      "Epoch 480/500\n",
      "798/798 [==============================] - 0s 37us/step - loss: 0.4582 - accuracy: 0.7907 - val_loss: 0.3811 - val_accuracy: 0.8315\n",
      "Epoch 481/500\n",
      "798/798 [==============================] - 0s 37us/step - loss: 0.4461 - accuracy: 0.7995 - val_loss: 0.3823 - val_accuracy: 0.8315\n",
      "Epoch 482/500\n",
      "798/798 [==============================] - 0s 35us/step - loss: 0.4436 - accuracy: 0.7945 - val_loss: 0.3769 - val_accuracy: 0.8315\n",
      "Epoch 483/500\n",
      "798/798 [==============================] - 0s 35us/step - loss: 0.4444 - accuracy: 0.8008 - val_loss: 0.3835 - val_accuracy: 0.8315\n",
      "Epoch 484/500\n",
      "798/798 [==============================] - 0s 35us/step - loss: 0.4435 - accuracy: 0.7982 - val_loss: 0.3804 - val_accuracy: 0.8315\n",
      "Epoch 485/500\n",
      "798/798 [==============================] - 0s 41us/step - loss: 0.4498 - accuracy: 0.7970 - val_loss: 0.4102 - val_accuracy: 0.8315\n",
      "Epoch 486/500\n",
      "798/798 [==============================] - 0s 34us/step - loss: 0.4674 - accuracy: 0.7907 - val_loss: 0.3811 - val_accuracy: 0.8315\n",
      "Epoch 487/500\n",
      "798/798 [==============================] - 0s 34us/step - loss: 0.4457 - accuracy: 0.7982 - val_loss: 0.3835 - val_accuracy: 0.8315\n",
      "Epoch 488/500\n",
      "798/798 [==============================] - 0s 35us/step - loss: 0.4448 - accuracy: 0.7932 - val_loss: 0.3846 - val_accuracy: 0.8315\n",
      "Epoch 489/500\n",
      "798/798 [==============================] - 0s 37us/step - loss: 0.4450 - accuracy: 0.7995 - val_loss: 0.3847 - val_accuracy: 0.8315\n",
      "Epoch 490/500\n",
      "798/798 [==============================] - 0s 38us/step - loss: 0.4436 - accuracy: 0.7920 - val_loss: 0.3849 - val_accuracy: 0.8202\n",
      "Epoch 491/500\n",
      "798/798 [==============================] - 0s 31us/step - loss: 0.4498 - accuracy: 0.8008 - val_loss: 0.3793 - val_accuracy: 0.8315\n",
      "Epoch 492/500\n",
      "798/798 [==============================] - 0s 42us/step - loss: 0.4490 - accuracy: 0.7907 - val_loss: 0.3806 - val_accuracy: 0.8315\n",
      "Epoch 493/500\n",
      "798/798 [==============================] - 0s 46us/step - loss: 0.4632 - accuracy: 0.7982 - val_loss: 0.3792 - val_accuracy: 0.8090\n",
      "Epoch 494/500\n",
      "798/798 [==============================] - 0s 49us/step - loss: 0.4501 - accuracy: 0.7945 - val_loss: 0.3777 - val_accuracy: 0.8315\n",
      "Epoch 495/500\n",
      "798/798 [==============================] - 0s 47us/step - loss: 0.4507 - accuracy: 0.7970 - val_loss: 0.3834 - val_accuracy: 0.8090\n",
      "Epoch 496/500\n",
      "798/798 [==============================] - 0s 42us/step - loss: 0.4550 - accuracy: 0.7945 - val_loss: 0.3930 - val_accuracy: 0.8315\n",
      "Epoch 497/500\n",
      "798/798 [==============================] - 0s 39us/step - loss: 0.4439 - accuracy: 0.7995 - val_loss: 0.3811 - val_accuracy: 0.8315\n",
      "Epoch 498/500\n",
      "798/798 [==============================] - 0s 38us/step - loss: 0.4439 - accuracy: 0.7907 - val_loss: 0.3757 - val_accuracy: 0.8315\n",
      "Epoch 499/500\n",
      "798/798 [==============================] - 0s 34us/step - loss: 0.4519 - accuracy: 0.7945 - val_loss: 0.3791 - val_accuracy: 0.8315\n",
      "Epoch 500/500\n",
      "798/798 [==============================] - 0s 37us/step - loss: 0.4499 - accuracy: 0.7982 - val_loss: 0.3809 - val_accuracy: 0.8315\n"
     ]
    }
   ],
   "source": [
    "hist = model.fit(X_train, y_train, validation_data=(X_test, y_test), epochs=500)"
   ]
  },
  {
   "cell_type": "markdown",
   "metadata": {},
   "source": [
    "## 학습 데이터 결과 그래프 그리기"
   ]
  },
  {
   "cell_type": "code",
   "execution_count": 28,
   "metadata": {},
   "outputs": [],
   "source": [
    "import matplotlib.pyplot as plt\n",
    "%matplotlib inline"
   ]
  },
  {
   "cell_type": "code",
   "execution_count": 29,
   "metadata": {},
   "outputs": [
    {
     "data": {
      "image/png": "[encoded data removed]",
      "text/plain": [
       "<Figure size 864x576 with 1 Axes>"
      ]
     },
     "metadata": {
      "needs_background": "light"
     },
     "output_type": "display_data"
    }
   ],
   "source": [
    "plt.figure(figsize=(12,8))\n",
    "plt.plot(hist.history['loss'])\n",
    "plt.plot(hist.history['val_loss'])\n",
    "plt.plot(hist.history['accuracy'])\n",
    "plt.plot(hist.history['val_accuracy'])\n",
    "plt.legend(['loss','val_loss', 'accuracy','val_accuracy'])\n",
    "plt.show()"
   ]
  },
  {
   "cell_type": "markdown",
   "metadata": {},
   "source": [
    "## 평가하기"
   ]
  },
  {
   "cell_type": "code",
   "execution_count": 30,
   "metadata": {},
   "outputs": [
    {
     "name": "stdout",
     "output_type": "stream",
     "text": [
      "89/89 [==============================] - 0s 43us/step\n"
     ]
    },
    {
     "data": {
      "text/plain": [
       "[0.3809369631697623, 0.8314606547355652]"
      ]
     },
     "execution_count": 30,
     "metadata": {},
     "output_type": "execute_result"
    }
   ],
   "source": [
    "model.evaluate(X_test, y_test)"
   ]
  },
  {
   "cell_type": "code",
   "execution_count": 31,
   "metadata": {},
   "outputs": [],
   "source": [
    "a = model.predict(X_test)"
   ]
  },
  {
   "cell_type": "code",
   "execution_count": 32,
   "metadata": {},
   "outputs": [],
   "source": [
    "import numpy as np"
   ]
  },
  {
   "cell_type": "code",
   "execution_count": 33,
   "metadata": {},
   "outputs": [
    {
     "data": {
      "text/plain": [
       "array([0.91625625, 0.13316742, 0.18182847, 0.13732189, 0.55132616,\n",
       "       0.12398335, 0.9148092 , 0.22286707, 0.86008745, 0.12800163,\n",
       "       0.86008745, 0.133479  , 0.3180279 , 0.97282374, 0.24078849,\n",
       "       0.9735036 , 0.12800163, 0.21413338, 0.8524467 , 0.12800163,\n",
       "       0.3473094 , 0.32862973, 0.34138873, 0.20458293, 0.62013954,\n",
       "       0.13050583, 0.34732556, 0.07221481, 0.12087929, 0.62013954,\n",
       "       0.31717646, 0.34806323, 0.13262188, 0.985263  , 0.0790523 ,\n",
       "       0.1499891 , 0.9747124 , 0.11255282, 0.5658282 , 0.97944117,\n",
       "       0.98171407, 0.12087929, 0.09957981, 0.02093002, 0.10447052,\n",
       "       0.12024802, 0.5109954 , 0.33135355, 0.09631139, 0.62013954,\n",
       "       0.12621686, 0.36492884, 0.18182847, 0.91216314, 0.20763475,\n",
       "       0.10311952, 0.10697827, 0.980955  , 0.12140673, 0.34797332,\n",
       "       0.3340231 , 0.12024802, 0.34579024, 0.85641015, 0.98915535,\n",
       "       0.24105895, 0.31375265, 0.3178633 , 0.6163291 , 0.30000877,\n",
       "       0.5583577 , 0.12398335, 0.980955  , 0.20220608, 0.85956675,\n",
       "       0.9747124 , 0.10168543, 0.91402066, 0.23368162, 0.12398335,\n",
       "       0.5086595 , 0.32613948, 0.12398335, 0.9891276 , 0.21832097,\n",
       "       0.20458293, 0.10517979, 0.13553944, 0.5716169 ], dtype=float32)"
      ]
     },
     "execution_count": 33,
     "metadata": {},
     "output_type": "execute_result"
    }
   ],
   "source": [
    "np.max(a, axis=1)"
   ]
  },
  {
   "cell_type": "code",
   "execution_count": 34,
   "metadata": {},
   "outputs": [
    {
     "data": {
      "text/plain": [
       "array([3.0, 0.0, 29.125], dtype=object)"
      ]
     },
     "execution_count": 34,
     "metadata": {},
     "output_type": "execute_result"
    }
   ],
   "source": [
    "X_test[1]"
   ]
  },
  {
   "cell_type": "code",
   "execution_count": 35,
   "metadata": {},
   "outputs": [
    {
     "data": {
      "text/plain": [
       "array([0.0], dtype=object)"
      ]
     },
     "execution_count": 35,
     "metadata": {},
     "output_type": "execute_result"
    }
   ],
   "source": [
    "y_test[1]"
   ]
  },
  {
   "cell_type": "code",
   "execution_count": 36,
   "metadata": {},
   "outputs": [
    {
     "data": {
      "text/plain": [
       "array([0.13316742], dtype=float32)"
      ]
     },
     "execution_count": 36,
     "metadata": {},
     "output_type": "execute_result"
    }
   ],
   "source": [
    "a[1]"
   ]
  },
  {
   "cell_type": "code",
   "execution_count": null,
   "metadata": {},
   "outputs": [],
   "source": []
  },
  {
   "cell_type": "markdown",
   "metadata": {},
   "source": [
    "## 임의의 결과를 넣고 예측하기"
   ]
  },
  {
   "cell_type": "code",
   "execution_count": 40,
   "metadata": {},
   "outputs": [],
   "source": [
    "dicaprio = np.array([0., 0., 5.]).reshape(1,3)\n",
    "winslet = np.array([1., 1., 100.]).reshape(1,3)"
   ]
  },
  {
   "cell_type": "code",
   "execution_count": 41,
   "metadata": {},
   "outputs": [
    {
     "data": {
      "text/plain": [
       "array([[0.47265908]], dtype=float32)"
      ]
     },
     "execution_count": 41,
     "metadata": {},
     "output_type": "execute_result"
    }
   ],
   "source": [
    "model.predict(dicaprio)"
   ]
  },
  {
   "cell_type": "code",
   "execution_count": 42,
   "metadata": {},
   "outputs": [
    {
     "data": {
      "text/plain": [
       "array([[0.9763554]], dtype=float32)"
      ]
     },
     "execution_count": 42,
     "metadata": {},
     "output_type": "execute_result"
    }
   ],
   "source": [
    "model.predict(winslet)"
   ]
  },
  {
   "cell_type": "code",
   "execution_count": null,
   "metadata": {},
   "outputs": [],
   "source": []
  }
 ],
 "metadata": {
  "kernelspec": {
   "display_name": "Python 3",
   "language": "python",
   "name": "python3"
  },
  "language_info": {
   "codemirror_mode": {
    "name": "ipython",
    "version": 3
   },
   "file_extension": ".py",
   "mimetype": "text/x-python",
   "name": "python",
   "nbconvert_exporter": "python",
   "pygments_lexer": "ipython3",
   "version": "3.7.4"
  }
 },
 "nbformat": 4,
 "nbformat_minor": 2
}
