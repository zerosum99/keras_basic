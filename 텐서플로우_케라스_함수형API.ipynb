{
 "cells": [
  {
   "cell_type": "code",
   "execution_count": 1,
   "metadata": {},
   "outputs": [],
   "source": [
    "import tensorflow as tf"
   ]
  },
  {
   "cell_type": "code",
   "execution_count": 2,
   "metadata": {},
   "outputs": [
    {
     "data": {
      "text/plain": [
       "'2.2.0'"
      ]
     },
     "execution_count": 2,
     "metadata": {},
     "output_type": "execute_result"
    }
   ],
   "source": [
    "tf.__version__"
   ]
  },
  {
   "cell_type": "code",
   "execution_count": 3,
   "metadata": {},
   "outputs": [],
   "source": [
    "from tensorflow.keras.datasets import mnist"
   ]
  },
  {
   "cell_type": "code",
   "execution_count": 5,
   "metadata": {},
   "outputs": [],
   "source": [
    "from tensorflow.keras.utils import to_categorical"
   ]
  },
  {
   "cell_type": "code",
   "execution_count": 6,
   "metadata": {},
   "outputs": [],
   "source": [
    "from tensorflow.keras.callbacks import TensorBoard"
   ]
  },
  {
   "cell_type": "code",
   "execution_count": 7,
   "metadata": {},
   "outputs": [],
   "source": [
    "from tensorflow.keras.layers import Input, Dense"
   ]
  },
  {
   "cell_type": "code",
   "execution_count": 8,
   "metadata": {},
   "outputs": [],
   "source": [
    "from tensorflow.keras.models import Model"
   ]
  },
  {
   "cell_type": "code",
   "execution_count": 9,
   "metadata": {},
   "outputs": [],
   "source": [
    "(x_train, y_train), (x_test, y_test)  = mnist.load_data()"
   ]
  },
  {
   "cell_type": "code",
   "execution_count": 10,
   "metadata": {},
   "outputs": [
    {
     "data": {
      "text/plain": [
       "((60000, 28, 28), (10000, 28, 28))"
      ]
     },
     "execution_count": 10,
     "metadata": {},
     "output_type": "execute_result"
    }
   ],
   "source": [
    "x_train.shape, x_test.shape"
   ]
  },
  {
   "cell_type": "code",
   "execution_count": 14,
   "metadata": {},
   "outputs": [
    {
     "data": {
      "text/plain": [
       "dtype('uint8')"
      ]
     },
     "execution_count": 14,
     "metadata": {},
     "output_type": "execute_result"
    }
   ],
   "source": [
    "x_train.dtype"
   ]
  },
  {
   "cell_type": "code",
   "execution_count": 11,
   "metadata": {},
   "outputs": [],
   "source": [
    "X_train = x_train.reshape(-1, 28*28) / 255."
   ]
  },
  {
   "cell_type": "code",
   "execution_count": 13,
   "metadata": {},
   "outputs": [
    {
     "data": {
      "text/plain": [
       "((60000, 784), dtype('float64'))"
      ]
     },
     "execution_count": 13,
     "metadata": {},
     "output_type": "execute_result"
    }
   ],
   "source": [
    "X_train.shape, X_train.dtype"
   ]
  },
  {
   "cell_type": "code",
   "execution_count": 15,
   "metadata": {},
   "outputs": [],
   "source": [
    "X_test = x_test.reshape(-1, 28*28) / 255."
   ]
  },
  {
   "cell_type": "code",
   "execution_count": 16,
   "metadata": {},
   "outputs": [],
   "source": [
    "Y_train = to_categorical(y_train, 10)"
   ]
  },
  {
   "cell_type": "code",
   "execution_count": 17,
   "metadata": {},
   "outputs": [],
   "source": [
    "Y_test = to_categorical(y_test, 10)"
   ]
  },
  {
   "cell_type": "code",
   "execution_count": 18,
   "metadata": {},
   "outputs": [
    {
     "data": {
      "text/plain": [
       "((60000, 10), (10000, 10))"
      ]
     },
     "execution_count": 18,
     "metadata": {},
     "output_type": "execute_result"
    }
   ],
   "source": [
    "Y_train.shape, Y_test.shape"
   ]
  },
  {
   "cell_type": "code",
   "execution_count": null,
   "metadata": {},
   "outputs": [],
   "source": []
  },
  {
   "cell_type": "code",
   "execution_count": 19,
   "metadata": {},
   "outputs": [],
   "source": [
    "tsb = TensorBoard(log_dir='./logs')"
   ]
  },
  {
   "cell_type": "markdown",
   "metadata": {},
   "source": [
    "## 함수형 모델 구축"
   ]
  },
  {
   "cell_type": "code",
   "execution_count": 20,
   "metadata": {},
   "outputs": [],
   "source": [
    "input = Input(shape=(784,))"
   ]
  },
  {
   "cell_type": "code",
   "execution_count": 21,
   "metadata": {},
   "outputs": [],
   "source": [
    "hidden = Dense(64, activation='relu')(input)"
   ]
  },
  {
   "cell_type": "code",
   "execution_count": 22,
   "metadata": {},
   "outputs": [],
   "source": [
    "output = Dense(10, activation='softmax')(hidden)"
   ]
  },
  {
   "cell_type": "code",
   "execution_count": null,
   "metadata": {},
   "outputs": [],
   "source": []
  },
  {
   "cell_type": "code",
   "execution_count": 23,
   "metadata": {},
   "outputs": [],
   "source": [
    "model = Model(inputs=[input], outputs=[output])"
   ]
  },
  {
   "cell_type": "code",
   "execution_count": 26,
   "metadata": {},
   "outputs": [],
   "source": [
    "model.compile( optimizer='adam', loss= 'categorical_crossentropy', metrics=['accuracy'])"
   ]
  },
  {
   "cell_type": "code",
   "execution_count": 29,
   "metadata": {},
   "outputs": [
    {
     "name": "stdout",
     "output_type": "stream",
     "text": [
      "Epoch 1/20\n",
      "750/750 [==============================] - 2s 2ms/step - loss: 0.0083 - accuracy: 0.9973 - val_loss: 0.1662 - val_accuracy: 0.9728\n",
      "Epoch 2/20\n",
      "750/750 [==============================] - 1s 2ms/step - loss: 0.0019 - accuracy: 0.9996 - val_loss: 0.1581 - val_accuracy: 0.9740\n",
      "Epoch 3/20\n",
      "750/750 [==============================] - 2s 2ms/step - loss: 8.9293e-04 - accuracy: 1.0000 - val_loss: 0.1558 - val_accuracy: 0.9744\n",
      "Epoch 4/20\n",
      "750/750 [==============================] - 1s 2ms/step - loss: 0.0034 - accuracy: 0.9991 - val_loss: 0.1617 - val_accuracy: 0.9724\n",
      "Epoch 5/20\n",
      "750/750 [==============================] - 1s 2ms/step - loss: 8.2513e-04 - accuracy: 1.0000 - val_loss: 0.1597 - val_accuracy: 0.9744\n",
      "Epoch 6/20\n",
      "750/750 [==============================] - 1s 2ms/step - loss: 4.4250e-04 - accuracy: 1.0000 - val_loss: 0.1597 - val_accuracy: 0.9746\n",
      "Epoch 7/20\n",
      "750/750 [==============================] - 1s 2ms/step - loss: 3.7153e-04 - accuracy: 1.0000 - val_loss: 0.1615 - val_accuracy: 0.9740\n",
      "Epoch 8/20\n",
      "750/750 [==============================] - 2s 3ms/step - loss: 0.0085 - accuracy: 0.9975 - val_loss: 0.1788 - val_accuracy: 0.9707\n",
      "Epoch 9/20\n",
      "750/750 [==============================] - 1s 2ms/step - loss: 0.0031 - accuracy: 0.9991 - val_loss: 0.1728 - val_accuracy: 0.9725\n",
      "Epoch 10/20\n",
      "750/750 [==============================] - 1s 2ms/step - loss: 6.8933e-04 - accuracy: 1.0000 - val_loss: 0.1686 - val_accuracy: 0.9742\n",
      "Epoch 11/20\n",
      "750/750 [==============================] - 1s 2ms/step - loss: 3.2236e-04 - accuracy: 1.0000 - val_loss: 0.1664 - val_accuracy: 0.9755\n",
      "Epoch 12/20\n",
      "750/750 [==============================] - 1s 2ms/step - loss: 2.6034e-04 - accuracy: 1.0000 - val_loss: 0.1664 - val_accuracy: 0.9752\n",
      "Epoch 13/20\n",
      "750/750 [==============================] - 1s 2ms/step - loss: 2.3399e-04 - accuracy: 1.0000 - val_loss: 0.1696 - val_accuracy: 0.9747\n",
      "Epoch 14/20\n",
      "750/750 [==============================] - 2s 3ms/step - loss: 2.2572e-04 - accuracy: 1.0000 - val_loss: 0.1691 - val_accuracy: 0.9754\n",
      "Epoch 15/20\n",
      "750/750 [==============================] - 1s 2ms/step - loss: 0.0081 - accuracy: 0.9974 - val_loss: 0.1973 - val_accuracy: 0.9703\n",
      "Epoch 16/20\n",
      "750/750 [==============================] - 1s 2ms/step - loss: 0.0035 - accuracy: 0.9989 - val_loss: 0.1788 - val_accuracy: 0.9737\n",
      "Epoch 17/20\n",
      "750/750 [==============================] - 2s 2ms/step - loss: 7.1263e-04 - accuracy: 0.9999 - val_loss: 0.1838 - val_accuracy: 0.9734\n",
      "Epoch 18/20\n",
      "750/750 [==============================] - 1s 2ms/step - loss: 2.8929e-04 - accuracy: 1.0000 - val_loss: 0.1800 - val_accuracy: 0.9727\n",
      "Epoch 19/20\n",
      "750/750 [==============================] - 2s 2ms/step - loss: 1.9640e-04 - accuracy: 1.0000 - val_loss: 0.1793 - val_accuracy: 0.9739\n",
      "Epoch 20/20\n",
      "750/750 [==============================] - 2s 3ms/step - loss: 1.6875e-04 - accuracy: 1.0000 - val_loss: 0.1807 - val_accuracy: 0.9744\n"
     ]
    },
    {
     "data": {
      "text/plain": [
       "<tensorflow.python.keras.callbacks.History at 0x1947df410>"
      ]
     },
     "execution_count": 29,
     "metadata": {},
     "output_type": "execute_result"
    }
   ],
   "source": [
    "model.fit(X_train, Y_train, batch_size=64, epochs=20, callbacks=[tsb], validation_split=0.2)"
   ]
  },
  {
   "cell_type": "code",
   "execution_count": null,
   "metadata": {},
   "outputs": [],
   "source": []
  }
 ],
 "metadata": {
  "kernelspec": {
   "display_name": "Python 3",
   "language": "python",
   "name": "python3"
  },
  "language_info": {
   "codemirror_mode": {
    "name": "ipython",
    "version": 3
   },
   "file_extension": ".py",
   "mimetype": "text/x-python",
   "name": "python",
   "nbconvert_exporter": "python",
   "pygments_lexer": "ipython3",
   "version": "3.7.4"
  }
 },
 "nbformat": 4,
 "nbformat_minor": 2
}
