{
 "cells": [
  {
   "cell_type": "code",
   "execution_count": 1,
   "metadata": {},
   "outputs": [],
   "source": [
    "import tensorflow as tf"
   ]
  },
  {
   "cell_type": "code",
   "execution_count": 2,
   "metadata": {},
   "outputs": [
    {
     "data": {
      "text/plain": [
       "'2.2.0'"
      ]
     },
     "execution_count": 2,
     "metadata": {},
     "output_type": "execute_result"
    }
   ],
   "source": [
    "tf.__version__"
   ]
  },
  {
   "cell_type": "code",
   "execution_count": 3,
   "metadata": {},
   "outputs": [],
   "source": [
    "from tensorflow.keras.datasets import cifar10"
   ]
  },
  {
   "cell_type": "code",
   "execution_count": 4,
   "metadata": {},
   "outputs": [],
   "source": [
    "(x_train, y_train), (x_test, y_test) = cifar10.load_data()"
   ]
  },
  {
   "cell_type": "code",
   "execution_count": 5,
   "metadata": {},
   "outputs": [
    {
     "data": {
      "text/plain": [
       "((50000, 32, 32, 3), (10000, 32, 32, 3))"
      ]
     },
     "execution_count": 5,
     "metadata": {},
     "output_type": "execute_result"
    }
   ],
   "source": [
    "x_train.shape, x_test.shape"
   ]
  },
  {
   "cell_type": "code",
   "execution_count": 6,
   "metadata": {},
   "outputs": [
    {
     "data": {
      "text/plain": [
       "((50000, 1), (10000, 1))"
      ]
     },
     "execution_count": 6,
     "metadata": {},
     "output_type": "execute_result"
    }
   ],
   "source": [
    "y_train.shape, y_test.shape"
   ]
  },
  {
   "cell_type": "code",
   "execution_count": 7,
   "metadata": {},
   "outputs": [],
   "source": [
    "from tensorflow.keras.utils import to_categorical"
   ]
  },
  {
   "cell_type": "code",
   "execution_count": 8,
   "metadata": {},
   "outputs": [],
   "source": [
    "X_train = x_train/255."
   ]
  },
  {
   "cell_type": "code",
   "execution_count": 9,
   "metadata": {},
   "outputs": [],
   "source": [
    "X_test = x_test/255."
   ]
  },
  {
   "cell_type": "code",
   "execution_count": 10,
   "metadata": {},
   "outputs": [],
   "source": [
    "Y_train = to_categorical(y_train, 10)"
   ]
  },
  {
   "cell_type": "code",
   "execution_count": 11,
   "metadata": {},
   "outputs": [],
   "source": [
    "Y_test = to_categorical(y_test, 10)"
   ]
  },
  {
   "cell_type": "code",
   "execution_count": null,
   "metadata": {},
   "outputs": [],
   "source": []
  },
  {
   "cell_type": "code",
   "execution_count": 12,
   "metadata": {},
   "outputs": [],
   "source": [
    "from tensorflow.keras.models import Sequential"
   ]
  },
  {
   "cell_type": "code",
   "execution_count": 46,
   "metadata": {},
   "outputs": [],
   "source": [
    "from tensorflow.keras.layers import Conv2D, MaxPooling2D, Dropout, Flatten, Dense"
   ]
  },
  {
   "cell_type": "code",
   "execution_count": null,
   "metadata": {},
   "outputs": [],
   "source": []
  },
  {
   "cell_type": "code",
   "execution_count": 51,
   "metadata": {},
   "outputs": [],
   "source": [
    "model = Sequential()"
   ]
  },
  {
   "cell_type": "code",
   "execution_count": 52,
   "metadata": {},
   "outputs": [],
   "source": [
    "model.add(Conv2D(filters=32, input_shape=(32,32,3), kernel_size=(3,3), strides=(1,1), padding='same', activation='relu'))"
   ]
  },
  {
   "cell_type": "code",
   "execution_count": 53,
   "metadata": {},
   "outputs": [],
   "source": [
    "model.add(MaxPooling2D(pool_size=(2,2)))"
   ]
  },
  {
   "cell_type": "code",
   "execution_count": 54,
   "metadata": {},
   "outputs": [],
   "source": [
    "model.add(Conv2D(filters=32, kernel_size=(3,3), strides=(1,1), padding='same', activation='relu'))"
   ]
  },
  {
   "cell_type": "code",
   "execution_count": 55,
   "metadata": {},
   "outputs": [],
   "source": [
    "model.add(MaxPooling2D(pool_size=(2,2)))"
   ]
  },
  {
   "cell_type": "code",
   "execution_count": 56,
   "metadata": {},
   "outputs": [
    {
     "name": "stdout",
     "output_type": "stream",
     "text": [
      "Model: \"sequential_2\"\n",
      "_________________________________________________________________\n",
      "Layer (type)                 Output Shape              Param #   \n",
      "=================================================================\n",
      "conv2d_4 (Conv2D)            (None, 32, 32, 32)        896       \n",
      "_________________________________________________________________\n",
      "max_pooling2d_3 (MaxPooling2 (None, 16, 16, 32)        0         \n",
      "_________________________________________________________________\n",
      "conv2d_5 (Conv2D)            (None, 16, 16, 32)        9248      \n",
      "_________________________________________________________________\n",
      "max_pooling2d_4 (MaxPooling2 (None, 8, 8, 32)          0         \n",
      "=================================================================\n",
      "Total params: 10,144\n",
      "Trainable params: 10,144\n",
      "Non-trainable params: 0\n",
      "_________________________________________________________________\n"
     ]
    }
   ],
   "source": [
    "model.summary()"
   ]
  },
  {
   "cell_type": "markdown",
   "metadata": {},
   "source": [
    "##  가중치 개수 산식 \n",
    "\n",
    "커널(3,3), 입력 채널(3), 출력수(32) + 바이어스(32)"
   ]
  },
  {
   "cell_type": "code",
   "execution_count": 27,
   "metadata": {},
   "outputs": [
    {
     "data": {
      "text/plain": [
       "896"
      ]
     },
     "execution_count": 27,
     "metadata": {},
     "output_type": "execute_result"
    }
   ],
   "source": [
    "3 * 3 * 3 *32 + 32"
   ]
  },
  {
   "cell_type": "code",
   "execution_count": 28,
   "metadata": {},
   "outputs": [
    {
     "data": {
      "text/plain": [
       "9248"
      ]
     },
     "execution_count": 28,
     "metadata": {},
     "output_type": "execute_result"
    }
   ],
   "source": [
    "3 * 3 * 32 * 32  + 32"
   ]
  },
  {
   "cell_type": "code",
   "execution_count": 57,
   "metadata": {},
   "outputs": [],
   "source": [
    "model.add(Flatten())"
   ]
  },
  {
   "cell_type": "code",
   "execution_count": 58,
   "metadata": {},
   "outputs": [],
   "source": [
    "model.add(Dense(512, activation='relu'))"
   ]
  },
  {
   "cell_type": "code",
   "execution_count": 59,
   "metadata": {},
   "outputs": [],
   "source": [
    "model.add(Dropout(0.25))"
   ]
  },
  {
   "cell_type": "code",
   "execution_count": 60,
   "metadata": {},
   "outputs": [],
   "source": [
    "model.add(Dense(10, activation='softmax'))"
   ]
  },
  {
   "cell_type": "code",
   "execution_count": 61,
   "metadata": {},
   "outputs": [
    {
     "name": "stdout",
     "output_type": "stream",
     "text": [
      "Model: \"sequential_2\"\n",
      "_________________________________________________________________\n",
      "Layer (type)                 Output Shape              Param #   \n",
      "=================================================================\n",
      "conv2d_4 (Conv2D)            (None, 32, 32, 32)        896       \n",
      "_________________________________________________________________\n",
      "max_pooling2d_3 (MaxPooling2 (None, 16, 16, 32)        0         \n",
      "_________________________________________________________________\n",
      "conv2d_5 (Conv2D)            (None, 16, 16, 32)        9248      \n",
      "_________________________________________________________________\n",
      "max_pooling2d_4 (MaxPooling2 (None, 8, 8, 32)          0         \n",
      "_________________________________________________________________\n",
      "flatten_1 (Flatten)          (None, 2048)              0         \n",
      "_________________________________________________________________\n",
      "dense_2 (Dense)              (None, 512)               1049088   \n",
      "_________________________________________________________________\n",
      "dropout_2 (Dropout)          (None, 512)               0         \n",
      "_________________________________________________________________\n",
      "dense_3 (Dense)              (None, 10)                5130      \n",
      "=================================================================\n",
      "Total params: 1,064,362\n",
      "Trainable params: 1,064,362\n",
      "Non-trainable params: 0\n",
      "_________________________________________________________________\n"
     ]
    }
   ],
   "source": [
    "model.summary()"
   ]
  },
  {
   "cell_type": "code",
   "execution_count": 62,
   "metadata": {},
   "outputs": [
    {
     "data": {
      "text/plain": [
       "(None, 10)"
      ]
     },
     "execution_count": 62,
     "metadata": {},
     "output_type": "execute_result"
    }
   ],
   "source": [
    "model.output_shape"
   ]
  },
  {
   "cell_type": "code",
   "execution_count": 63,
   "metadata": {},
   "outputs": [],
   "source": [
    "model.compile(optimizer='adam', loss='categorical_crossentropy', metrics=['accuracy'])"
   ]
  },
  {
   "cell_type": "code",
   "execution_count": 64,
   "metadata": {},
   "outputs": [
    {
     "name": "stdout",
     "output_type": "stream",
     "text": [
      "Epoch 1/20\n",
      "1250/1250 [==============================] - 44s 35ms/step - loss: 1.4804 - accuracy: 0.4718 - val_loss: 1.1841 - val_accuracy: 0.5873\n",
      "Epoch 2/20\n",
      "1250/1250 [==============================] - 44s 35ms/step - loss: 1.1093 - accuracy: 0.6070 - val_loss: 1.0390 - val_accuracy: 0.6364\n",
      "Epoch 3/20\n",
      "1250/1250 [==============================] - 47s 38ms/step - loss: 0.9584 - accuracy: 0.6626 - val_loss: 0.9728 - val_accuracy: 0.6651\n",
      "Epoch 4/20\n",
      "1250/1250 [==============================] - 44s 35ms/step - loss: 0.8454 - accuracy: 0.7028 - val_loss: 0.9331 - val_accuracy: 0.6770\n",
      "Epoch 5/20\n",
      "1250/1250 [==============================] - 51s 41ms/step - loss: 0.7422 - accuracy: 0.7407 - val_loss: 0.8795 - val_accuracy: 0.6994\n",
      "Epoch 6/20\n",
      "1250/1250 [==============================] - 45s 36ms/step - loss: 0.6432 - accuracy: 0.7728 - val_loss: 0.9212 - val_accuracy: 0.6963\n",
      "Epoch 7/20\n",
      "1250/1250 [==============================] - 44s 35ms/step - loss: 0.5547 - accuracy: 0.8049 - val_loss: 0.9283 - val_accuracy: 0.6979\n",
      "Epoch 8/20\n",
      "1250/1250 [==============================] - 43s 35ms/step - loss: 0.4691 - accuracy: 0.8346 - val_loss: 0.9588 - val_accuracy: 0.7008\n",
      "Epoch 9/20\n",
      "1250/1250 [==============================] - 43s 34ms/step - loss: 0.3985 - accuracy: 0.8601 - val_loss: 1.0154 - val_accuracy: 0.7032\n",
      "Epoch 10/20\n",
      "1250/1250 [==============================] - 46s 37ms/step - loss: 0.3441 - accuracy: 0.8775 - val_loss: 1.0320 - val_accuracy: 0.7044\n",
      "Epoch 11/20\n",
      "1250/1250 [==============================] - 55s 44ms/step - loss: 0.2869 - accuracy: 0.8982 - val_loss: 1.1423 - val_accuracy: 0.6997\n",
      "Epoch 12/20\n",
      "1250/1250 [==============================] - 50s 40ms/step - loss: 0.2538 - accuracy: 0.9108 - val_loss: 1.2354 - val_accuracy: 0.6944\n",
      "Epoch 13/20\n",
      "1250/1250 [==============================] - 45s 36ms/step - loss: 0.2202 - accuracy: 0.9226 - val_loss: 1.2599 - val_accuracy: 0.7011\n",
      "Epoch 14/20\n",
      "1250/1250 [==============================] - 48s 38ms/step - loss: 0.2017 - accuracy: 0.9291 - val_loss: 1.3406 - val_accuracy: 0.7046\n",
      "Epoch 15/20\n",
      "1250/1250 [==============================] - 51s 41ms/step - loss: 0.1804 - accuracy: 0.9370 - val_loss: 1.3388 - val_accuracy: 0.6995\n",
      "Epoch 16/20\n",
      "1250/1250 [==============================] - 48s 38ms/step - loss: 0.1676 - accuracy: 0.9408 - val_loss: 1.4068 - val_accuracy: 0.6961\n",
      "Epoch 17/20\n",
      "1250/1250 [==============================] - 45s 36ms/step - loss: 0.1582 - accuracy: 0.9460 - val_loss: 1.5207 - val_accuracy: 0.6952\n",
      "Epoch 18/20\n",
      "1250/1250 [==============================] - 46s 37ms/step - loss: 0.1478 - accuracy: 0.9492 - val_loss: 1.5902 - val_accuracy: 0.6994\n",
      "Epoch 19/20\n",
      "1250/1250 [==============================] - 49s 39ms/step - loss: 0.1394 - accuracy: 0.9533 - val_loss: 1.6253 - val_accuracy: 0.6969\n",
      "Epoch 20/20\n",
      "1250/1250 [==============================] - 56s 45ms/step - loss: 0.1363 - accuracy: 0.9548 - val_loss: 1.6178 - val_accuracy: 0.6975\n"
     ]
    }
   ],
   "source": [
    "history_model1 = model.fit(X_train, Y_train, batch_size=32, epochs=20, validation_split=0.2)"
   ]
  },
  {
   "cell_type": "code",
   "execution_count": 66,
   "metadata": {},
   "outputs": [
    {
     "data": {
      "text/plain": [
       "['__class__',\n",
       " '__delattr__',\n",
       " '__dict__',\n",
       " '__dir__',\n",
       " '__doc__',\n",
       " '__eq__',\n",
       " '__format__',\n",
       " '__ge__',\n",
       " '__getattribute__',\n",
       " '__gt__',\n",
       " '__hash__',\n",
       " '__init__',\n",
       " '__init_subclass__',\n",
       " '__le__',\n",
       " '__lt__',\n",
       " '__module__',\n",
       " '__ne__',\n",
       " '__new__',\n",
       " '__reduce__',\n",
       " '__reduce_ex__',\n",
       " '__repr__',\n",
       " '__setattr__',\n",
       " '__sizeof__',\n",
       " '__str__',\n",
       " '__subclasshook__',\n",
       " '__weakref__',\n",
       " '_chief_worker_only',\n",
       " '_implements_predict_batch_hooks',\n",
       " '_implements_test_batch_hooks',\n",
       " '_implements_train_batch_hooks',\n",
       " '_keras_api_names',\n",
       " '_keras_api_names_v1',\n",
       " 'epoch',\n",
       " 'history',\n",
       " 'model',\n",
       " 'on_batch_begin',\n",
       " 'on_batch_end',\n",
       " 'on_epoch_begin',\n",
       " 'on_epoch_end',\n",
       " 'on_predict_batch_begin',\n",
       " 'on_predict_batch_end',\n",
       " 'on_predict_begin',\n",
       " 'on_predict_end',\n",
       " 'on_test_batch_begin',\n",
       " 'on_test_batch_end',\n",
       " 'on_test_begin',\n",
       " 'on_test_end',\n",
       " 'on_train_batch_begin',\n",
       " 'on_train_batch_end',\n",
       " 'on_train_begin',\n",
       " 'on_train_end',\n",
       " 'params',\n",
       " 'set_model',\n",
       " 'set_params',\n",
       " 'validation_data']"
      ]
     },
     "execution_count": 66,
     "metadata": {},
     "output_type": "execute_result"
    }
   ],
   "source": [
    "dir(history_model1)"
   ]
  },
  {
   "cell_type": "code",
   "execution_count": 67,
   "metadata": {},
   "outputs": [
    {
     "data": {
      "text/plain": [
       "{'verbose': 1, 'epochs': 20, 'steps': 1250}"
      ]
     },
     "execution_count": 67,
     "metadata": {},
     "output_type": "execute_result"
    }
   ],
   "source": [
    "history_model1.params"
   ]
  },
  {
   "cell_type": "code",
   "execution_count": 69,
   "metadata": {},
   "outputs": [
    {
     "data": {
      "text/plain": [
       "[1.480360507965088,\n",
       " 1.109330177307129,\n",
       " 0.9583943486213684,\n",
       " 0.8454005122184753,\n",
       " 0.7421733140945435,\n",
       " 0.6432369351387024,\n",
       " 0.554740309715271,\n",
       " 0.469116747379303,\n",
       " 0.3985203504562378,\n",
       " 0.34406906366348267,\n",
       " 0.2868629992008209,\n",
       " 0.25376778841018677,\n",
       " 0.22018757462501526,\n",
       " 0.20172743499279022,\n",
       " 0.18038302659988403,\n",
       " 0.16763074696063995,\n",
       " 0.15820729732513428,\n",
       " 0.14777858555316925,\n",
       " 0.13941875100135803,\n",
       " 0.1362922191619873]"
      ]
     },
     "execution_count": 69,
     "metadata": {},
     "output_type": "execute_result"
    }
   ],
   "source": [
    "history_model1.history['loss']"
   ]
  },
  {
   "cell_type": "code",
   "execution_count": 70,
   "metadata": {},
   "outputs": [
    {
     "data": {
      "text/plain": [
       "[0.47177499532699585,\n",
       " 0.6069999933242798,\n",
       " 0.6626499891281128,\n",
       " 0.7028499841690063,\n",
       " 0.7406749725341797,\n",
       " 0.7727749943733215,\n",
       " 0.8049499988555908,\n",
       " 0.8345749974250793,\n",
       " 0.8600749969482422,\n",
       " 0.8774750232696533,\n",
       " 0.8981750011444092,\n",
       " 0.9108250141143799,\n",
       " 0.9225749969482422,\n",
       " 0.9291250109672546,\n",
       " 0.9370250105857849,\n",
       " 0.9408000111579895,\n",
       " 0.9459750056266785,\n",
       " 0.9491999745368958,\n",
       " 0.9532750248908997,\n",
       " 0.9547749757766724]"
      ]
     },
     "execution_count": 70,
     "metadata": {},
     "output_type": "execute_result"
    }
   ],
   "source": [
    "history_model1.history['accuracy']"
   ]
  },
  {
   "cell_type": "code",
   "execution_count": 74,
   "metadata": {},
   "outputs": [
    {
     "name": "stdout",
     "output_type": "stream",
     "text": [
      "313/313 [==============================] - 3s 8ms/step - loss: 1.6273 - accuracy: 0.6979\n"
     ]
    },
    {
     "data": {
      "text/plain": [
       "[1.6273056268692017, 0.6978999972343445]"
      ]
     },
     "execution_count": 74,
     "metadata": {},
     "output_type": "execute_result"
    }
   ],
   "source": [
    "model.evaluate(X_test, Y_test, batch_size=32)"
   ]
  },
  {
   "cell_type": "code",
   "execution_count": null,
   "metadata": {},
   "outputs": [],
   "source": []
  }
 ],
 "metadata": {
  "kernelspec": {
   "display_name": "Python 3",
   "language": "python",
   "name": "python3"
  },
  "language_info": {
   "codemirror_mode": {
    "name": "ipython",
    "version": 3
   },
   "file_extension": ".py",
   "mimetype": "text/x-python",
   "name": "python",
   "nbconvert_exporter": "python",
   "pygments_lexer": "ipython3",
   "version": "3.7.4"
  }
 },
 "nbformat": 4,
 "nbformat_minor": 2
}
