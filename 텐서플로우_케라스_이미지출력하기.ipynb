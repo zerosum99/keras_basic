{
 "cells": [
  {
   "cell_type": "code",
   "execution_count": 1,
   "metadata": {},
   "outputs": [],
   "source": [
    "import tensorflow as tf"
   ]
  },
  {
   "cell_type": "code",
   "execution_count": 2,
   "metadata": {},
   "outputs": [
    {
     "data": {
      "text/plain": [
       "'2.2.0'"
      ]
     },
     "execution_count": 2,
     "metadata": {},
     "output_type": "execute_result"
    }
   ],
   "source": [
    "tf.__version__"
   ]
  },
  {
   "cell_type": "code",
   "execution_count": 6,
   "metadata": {},
   "outputs": [],
   "source": [
    "import numpy as np"
   ]
  },
  {
   "cell_type": "code",
   "execution_count": 7,
   "metadata": {},
   "outputs": [
    {
     "name": "stdout",
     "output_type": "stream",
     "text": [
      "Model: \"model1\"\n",
      "_________________________________________________________________\n",
      "Layer (type)                 Output Shape              Param #   \n",
      "=================================================================\n",
      "dense1 (Dense)               (None, 4)                 20        \n",
      "=================================================================\n",
      "Total params: 20\n",
      "Trainable params: 20\n",
      "Non-trainable params: 0\n",
      "_________________________________________________________________\n"
     ]
    }
   ],
   "source": [
    "\n",
    "from tensorflow.keras.layers import Input, Dense\n",
    "from tensorflow.keras.models import Model, Sequential\n",
    "\n",
    "# sample weights\n",
    "np.random.seed(0)\n",
    "w = 0.5 * np.random.normal(size=(4, 4))\n",
    "b = np.zeros((4))\n",
    "\n",
    "model1 = Sequential(name=\"model1\")\n",
    "model1.add(Dense(4, activation='sigmoid', \n",
    "                 input_shape=(4,), weights=(w, b), name=\"dense1\"))\n",
    "type(model1)\n",
    "\n",
    "model1.summary()"
   ]
  },
  {
   "cell_type": "markdown",
   "metadata": {},
   "source": [
    "## 이미지를  내부에 표시하려면 dpi 세팅 필요"
   ]
  },
  {
   "cell_type": "code",
   "execution_count": 13,
   "metadata": {},
   "outputs": [
    {
     "data": {
      "image/svg+xml": [
       "<svg height=\"125pt\" viewBox=\"0.00 0.00 274.00 138.00\" width=\"247pt\" xmlns=\"http://www.w3.org/2000/svg\" xmlns:xlink=\"http://www.w3.org/1999/xlink\">\n",
       "<g class=\"graph\" id=\"graph0\" transform=\"scale(0.9 0.9) rotate(0) translate(4 134)\">\n",
       "<title>G</title>\n",
       "<polygon fill=\"white\" points=\"-4,4 -4,-134 270,-134 270,4 -4,4\" stroke=\"transparent\"/>\n",
       "<!-- 5381010768 -->\n",
       "<g class=\"node\" id=\"node1\">\n",
       "<title>5381010768</title>\n",
       "<polygon fill=\"none\" points=\"0,-83.5 0,-129.5 266,-129.5 266,-83.5 0,-83.5\" stroke=\"black\"/>\n",
       "<text font-family=\"Times,serif\" font-size=\"14.00\" text-anchor=\"middle\" x=\"78\" y=\"-102.8\">dense1_input: InputLayer</text>\n",
       "<polyline fill=\"none\" points=\"156,-83.5 156,-129.5 \" stroke=\"black\"/>\n",
       "<text font-family=\"Times,serif\" font-size=\"14.00\" text-anchor=\"middle\" x=\"183.5\" y=\"-114.3\">input:</text>\n",
       "<polyline fill=\"none\" points=\"156,-106.5 211,-106.5 \" stroke=\"black\"/>\n",
       "<text font-family=\"Times,serif\" font-size=\"14.00\" text-anchor=\"middle\" x=\"183.5\" y=\"-91.3\">output:</text>\n",
       "<polyline fill=\"none\" points=\"211,-83.5 211,-129.5 \" stroke=\"black\"/>\n",
       "<text font-family=\"Times,serif\" font-size=\"14.00\" text-anchor=\"middle\" x=\"238.5\" y=\"-114.3\">[(?, 4)]</text>\n",
       "<polyline fill=\"none\" points=\"211,-106.5 266,-106.5 \" stroke=\"black\"/>\n",
       "<text font-family=\"Times,serif\" font-size=\"14.00\" text-anchor=\"middle\" x=\"238.5\" y=\"-91.3\">[(?, 4)]</text>\n",
       "</g>\n",
       "<!-- 5377320656 -->\n",
       "<g class=\"node\" id=\"node2\">\n",
       "<title>5377320656</title>\n",
       "<polygon fill=\"none\" points=\"35,-0.5 35,-46.5 231,-46.5 231,-0.5 35,-0.5\" stroke=\"black\"/>\n",
       "<text font-family=\"Times,serif\" font-size=\"14.00\" text-anchor=\"middle\" x=\"82.5\" y=\"-19.8\">dense1: Dense</text>\n",
       "<polyline fill=\"none\" points=\"130,-0.5 130,-46.5 \" stroke=\"black\"/>\n",
       "<text font-family=\"Times,serif\" font-size=\"14.00\" text-anchor=\"middle\" x=\"157.5\" y=\"-31.3\">input:</text>\n",
       "<polyline fill=\"none\" points=\"130,-23.5 185,-23.5 \" stroke=\"black\"/>\n",
       "<text font-family=\"Times,serif\" font-size=\"14.00\" text-anchor=\"middle\" x=\"157.5\" y=\"-8.3\">output:</text>\n",
       "<polyline fill=\"none\" points=\"185,-0.5 185,-46.5 \" stroke=\"black\"/>\n",
       "<text font-family=\"Times,serif\" font-size=\"14.00\" text-anchor=\"middle\" x=\"208\" y=\"-31.3\">(?, 4)</text>\n",
       "<polyline fill=\"none\" points=\"185,-23.5 231,-23.5 \" stroke=\"black\"/>\n",
       "<text font-family=\"Times,serif\" font-size=\"14.00\" text-anchor=\"middle\" x=\"208\" y=\"-8.3\">(?, 4)</text>\n",
       "</g>\n",
       "<!-- 5381010768&#45;&gt;5377320656 -->\n",
       "<g class=\"edge\" id=\"edge1\">\n",
       "<title>5381010768-&gt;5377320656</title>\n",
       "<path d=\"M133,-83.37C133,-75.15 133,-65.66 133,-56.73\" fill=\"none\" stroke=\"black\"/>\n",
       "<polygon fill=\"black\" points=\"136.5,-56.61 133,-46.61 129.5,-56.61 136.5,-56.61\" stroke=\"black\"/>\n",
       "</g>\n",
       "</g>\n",
       "</svg>"
      ],
      "text/plain": [
       "<IPython.core.display.SVG object>"
      ]
     },
     "execution_count": 13,
     "metadata": {},
     "output_type": "execute_result"
    }
   ],
   "source": [
    "from IPython.display import SVG\n",
    "from tensorflow.keras.utils import model_to_dot\n",
    "\n",
    "SVG(model_to_dot(model1, show_shapes=True, dpi=65).create(prog='dot', format='svg'))"
   ]
  },
  {
   "cell_type": "markdown",
   "metadata": {},
   "source": [
    "## 함수형 API 로 모델 정의 "
   ]
  },
  {
   "cell_type": "code",
   "execution_count": 10,
   "metadata": {},
   "outputs": [
    {
     "data": {
      "text/plain": [
       "tensorflow.python.keras.engine.training.Model"
      ]
     },
     "execution_count": 10,
     "metadata": {},
     "output_type": "execute_result"
    }
   ],
   "source": [
    "input_layer2 = Input(shape=(4,), name=\"input2\")\n",
    "hidden_layer2 = Dense(4, activation='sigmoid', \n",
    "                      weights=(w, b), name=\"dense2\")(input_layer2)\n",
    "model2 = Model(input_layer2, hidden_layer2, name=\"model2\")\n",
    "type(model2)"
   ]
  },
  {
   "cell_type": "code",
   "execution_count": 11,
   "metadata": {},
   "outputs": [
    {
     "name": "stdout",
     "output_type": "stream",
     "text": [
      "Model: \"model2\"\n",
      "_________________________________________________________________\n",
      "Layer (type)                 Output Shape              Param #   \n",
      "=================================================================\n",
      "input2 (InputLayer)          [(None, 4)]               0         \n",
      "_________________________________________________________________\n",
      "dense2 (Dense)               (None, 4)                 20        \n",
      "=================================================================\n",
      "Total params: 20\n",
      "Trainable params: 20\n",
      "Non-trainable params: 0\n",
      "_________________________________________________________________\n"
     ]
    }
   ],
   "source": [
    "model2.summary()"
   ]
  },
  {
   "cell_type": "code",
   "execution_count": 14,
   "metadata": {},
   "outputs": [
    {
     "data": {
      "image/svg+xml": [
       "<svg height=\"125pt\" viewBox=\"0.00 0.00 237.00 138.00\" width=\"214pt\" xmlns=\"http://www.w3.org/2000/svg\" xmlns:xlink=\"http://www.w3.org/1999/xlink\">\n",
       "<g class=\"graph\" id=\"graph0\" transform=\"scale(0.9 0.9) rotate(0) translate(4 134)\">\n",
       "<title>G</title>\n",
       "<polygon fill=\"white\" points=\"-4,4 -4,-134 233,-134 233,4 -4,4\" stroke=\"transparent\"/>\n",
       "<!-- 5382071952 -->\n",
       "<g class=\"node\" id=\"node1\">\n",
       "<title>5382071952</title>\n",
       "<polygon fill=\"none\" points=\"0,-83.5 0,-129.5 229,-129.5 229,-83.5 0,-83.5\" stroke=\"black\"/>\n",
       "<text font-family=\"Times,serif\" font-size=\"14.00\" text-anchor=\"middle\" x=\"59.5\" y=\"-102.8\">input2: InputLayer</text>\n",
       "<polyline fill=\"none\" points=\"119,-83.5 119,-129.5 \" stroke=\"black\"/>\n",
       "<text font-family=\"Times,serif\" font-size=\"14.00\" text-anchor=\"middle\" x=\"146.5\" y=\"-114.3\">input:</text>\n",
       "<polyline fill=\"none\" points=\"119,-106.5 174,-106.5 \" stroke=\"black\"/>\n",
       "<text font-family=\"Times,serif\" font-size=\"14.00\" text-anchor=\"middle\" x=\"146.5\" y=\"-91.3\">output:</text>\n",
       "<polyline fill=\"none\" points=\"174,-83.5 174,-129.5 \" stroke=\"black\"/>\n",
       "<text font-family=\"Times,serif\" font-size=\"14.00\" text-anchor=\"middle\" x=\"201.5\" y=\"-114.3\">[(?, 4)]</text>\n",
       "<polyline fill=\"none\" points=\"174,-106.5 229,-106.5 \" stroke=\"black\"/>\n",
       "<text font-family=\"Times,serif\" font-size=\"14.00\" text-anchor=\"middle\" x=\"201.5\" y=\"-91.3\">[(?, 4)]</text>\n",
       "</g>\n",
       "<!-- 5382073232 -->\n",
       "<g class=\"node\" id=\"node2\">\n",
       "<title>5382073232</title>\n",
       "<polygon fill=\"none\" points=\"16.5,-0.5 16.5,-46.5 212.5,-46.5 212.5,-0.5 16.5,-0.5\" stroke=\"black\"/>\n",
       "<text font-family=\"Times,serif\" font-size=\"14.00\" text-anchor=\"middle\" x=\"64\" y=\"-19.8\">dense2: Dense</text>\n",
       "<polyline fill=\"none\" points=\"111.5,-0.5 111.5,-46.5 \" stroke=\"black\"/>\n",
       "<text font-family=\"Times,serif\" font-size=\"14.00\" text-anchor=\"middle\" x=\"139\" y=\"-31.3\">input:</text>\n",
       "<polyline fill=\"none\" points=\"111.5,-23.5 166.5,-23.5 \" stroke=\"black\"/>\n",
       "<text font-family=\"Times,serif\" font-size=\"14.00\" text-anchor=\"middle\" x=\"139\" y=\"-8.3\">output:</text>\n",
       "<polyline fill=\"none\" points=\"166.5,-0.5 166.5,-46.5 \" stroke=\"black\"/>\n",
       "<text font-family=\"Times,serif\" font-size=\"14.00\" text-anchor=\"middle\" x=\"189.5\" y=\"-31.3\">(?, 4)</text>\n",
       "<polyline fill=\"none\" points=\"166.5,-23.5 212.5,-23.5 \" stroke=\"black\"/>\n",
       "<text font-family=\"Times,serif\" font-size=\"14.00\" text-anchor=\"middle\" x=\"189.5\" y=\"-8.3\">(?, 4)</text>\n",
       "</g>\n",
       "<!-- 5382071952&#45;&gt;5382073232 -->\n",
       "<g class=\"edge\" id=\"edge1\">\n",
       "<title>5382071952-&gt;5382073232</title>\n",
       "<path d=\"M114.5,-83.37C114.5,-75.15 114.5,-65.66 114.5,-56.73\" fill=\"none\" stroke=\"black\"/>\n",
       "<polygon fill=\"black\" points=\"118,-56.61 114.5,-46.61 111,-56.61 118,-56.61\" stroke=\"black\"/>\n",
       "</g>\n",
       "</g>\n",
       "</svg>"
      ],
      "text/plain": [
       "<IPython.core.display.SVG object>"
      ]
     },
     "execution_count": 14,
     "metadata": {},
     "output_type": "execute_result"
    }
   ],
   "source": [
    "SVG(model_to_dot(model2, show_shapes=True, dpi=65).create(prog='dot', format='svg'))"
   ]
  },
  {
   "cell_type": "markdown",
   "metadata": {},
   "source": [
    "## 기존 모델을 아웃풋 형태로 넣기"
   ]
  },
  {
   "cell_type": "code",
   "execution_count": 15,
   "metadata": {},
   "outputs": [
    {
     "name": "stdout",
     "output_type": "stream",
     "text": [
      "Model: \"model3\"\n",
      "_________________________________________________________________\n",
      "Layer (type)                 Output Shape              Param #   \n",
      "=================================================================\n",
      "input2 (InputLayer)          [(None, 4)]               0         \n",
      "_________________________________________________________________\n",
      "model1 (Sequential)          (None, 4)                 20        \n",
      "=================================================================\n",
      "Total params: 20\n",
      "Trainable params: 20\n",
      "Non-trainable params: 0\n",
      "_________________________________________________________________\n"
     ]
    }
   ],
   "source": [
    "model3 = Model(input_layer2, model1(input_layer2), name=\"model3\")\n",
    "model3.summary()"
   ]
  },
  {
   "cell_type": "code",
   "execution_count": 17,
   "metadata": {},
   "outputs": [
    {
     "data": {
      "image/svg+xml": [
       "<svg height=\"125pt\" viewBox=\"0.00 0.00 237.00 138.00\" width=\"214pt\" xmlns=\"http://www.w3.org/2000/svg\" xmlns:xlink=\"http://www.w3.org/1999/xlink\">\n",
       "<g class=\"graph\" id=\"graph0\" transform=\"scale(0.9 0.9) rotate(0) translate(4 134)\">\n",
       "<title>G</title>\n",
       "<polygon fill=\"white\" points=\"-4,4 -4,-134 233,-134 233,4 -4,4\" stroke=\"transparent\"/>\n",
       "<!-- 5382071952 -->\n",
       "<g class=\"node\" id=\"node1\">\n",
       "<title>5382071952</title>\n",
       "<polygon fill=\"none\" points=\"0,-83.5 0,-129.5 229,-129.5 229,-83.5 0,-83.5\" stroke=\"black\"/>\n",
       "<text font-family=\"Times,serif\" font-size=\"14.00\" text-anchor=\"middle\" x=\"59.5\" y=\"-102.8\">input2: InputLayer</text>\n",
       "<polyline fill=\"none\" points=\"119,-83.5 119,-129.5 \" stroke=\"black\"/>\n",
       "<text font-family=\"Times,serif\" font-size=\"14.00\" text-anchor=\"middle\" x=\"146.5\" y=\"-114.3\">input:</text>\n",
       "<polyline fill=\"none\" points=\"119,-106.5 174,-106.5 \" stroke=\"black\"/>\n",
       "<text font-family=\"Times,serif\" font-size=\"14.00\" text-anchor=\"middle\" x=\"146.5\" y=\"-91.3\">output:</text>\n",
       "<polyline fill=\"none\" points=\"174,-83.5 174,-129.5 \" stroke=\"black\"/>\n",
       "<text font-family=\"Times,serif\" font-size=\"14.00\" text-anchor=\"middle\" x=\"201.5\" y=\"-114.3\">[(?, 4)]</text>\n",
       "<polyline fill=\"none\" points=\"174,-106.5 229,-106.5 \" stroke=\"black\"/>\n",
       "<text font-family=\"Times,serif\" font-size=\"14.00\" text-anchor=\"middle\" x=\"201.5\" y=\"-91.3\">[(?, 4)]</text>\n",
       "</g>\n",
       "<!-- 4455015760 -->\n",
       "<g class=\"node\" id=\"node2\">\n",
       "<title>4455015760</title>\n",
       "<polygon fill=\"none\" points=\"3,-0.5 3,-46.5 226,-46.5 226,-0.5 3,-0.5\" stroke=\"black\"/>\n",
       "<text font-family=\"Times,serif\" font-size=\"14.00\" text-anchor=\"middle\" x=\"64\" y=\"-19.8\">model1: Sequential</text>\n",
       "<polyline fill=\"none\" points=\"125,-0.5 125,-46.5 \" stroke=\"black\"/>\n",
       "<text font-family=\"Times,serif\" font-size=\"14.00\" text-anchor=\"middle\" x=\"152.5\" y=\"-31.3\">input:</text>\n",
       "<polyline fill=\"none\" points=\"125,-23.5 180,-23.5 \" stroke=\"black\"/>\n",
       "<text font-family=\"Times,serif\" font-size=\"14.00\" text-anchor=\"middle\" x=\"152.5\" y=\"-8.3\">output:</text>\n",
       "<polyline fill=\"none\" points=\"180,-0.5 180,-46.5 \" stroke=\"black\"/>\n",
       "<text font-family=\"Times,serif\" font-size=\"14.00\" text-anchor=\"middle\" x=\"203\" y=\"-31.3\">(?, 4)</text>\n",
       "<polyline fill=\"none\" points=\"180,-23.5 226,-23.5 \" stroke=\"black\"/>\n",
       "<text font-family=\"Times,serif\" font-size=\"14.00\" text-anchor=\"middle\" x=\"203\" y=\"-8.3\">(?, 4)</text>\n",
       "</g>\n",
       "<!-- 5382071952&#45;&gt;4455015760 -->\n",
       "<g class=\"edge\" id=\"edge1\">\n",
       "<title>5382071952-&gt;4455015760</title>\n",
       "<path d=\"M114.5,-83.37C114.5,-75.15 114.5,-65.66 114.5,-56.73\" fill=\"none\" stroke=\"black\"/>\n",
       "<polygon fill=\"black\" points=\"118,-56.61 114.5,-46.61 111,-56.61 118,-56.61\" stroke=\"black\"/>\n",
       "</g>\n",
       "</g>\n",
       "</svg>"
      ],
      "text/plain": [
       "<IPython.core.display.SVG object>"
      ]
     },
     "execution_count": 17,
     "metadata": {},
     "output_type": "execute_result"
    }
   ],
   "source": [
    "SVG(model_to_dot(model3, show_shapes=True, dpi=65).create(prog='dot', format='svg'))"
   ]
  },
  {
   "cell_type": "markdown",
   "metadata": {},
   "source": [
    "## 다른 모델을 사용함"
   ]
  },
  {
   "cell_type": "code",
   "execution_count": 18,
   "metadata": {},
   "outputs": [
    {
     "name": "stdout",
     "output_type": "stream",
     "text": [
      "Model: \"model4\"\n",
      "_________________________________________________________________\n",
      "Layer (type)                 Output Shape              Param #   \n",
      "=================================================================\n",
      "input4 (InputLayer)          [(None, 4)]               0         \n",
      "_________________________________________________________________\n",
      "model2 (Model)               (None, 4)                 20        \n",
      "=================================================================\n",
      "Total params: 20\n",
      "Trainable params: 20\n",
      "Non-trainable params: 0\n",
      "_________________________________________________________________\n"
     ]
    }
   ],
   "source": [
    "input_layer4 = Input(shape=(4,), name=\"input4\")\n",
    "model4 = Model(input_layer4, model2(input_layer4), name=\"model4\")\n",
    "model4.summary()"
   ]
  },
  {
   "cell_type": "code",
   "execution_count": 20,
   "metadata": {},
   "outputs": [
    {
     "data": {
      "image/svg+xml": [
       "<svg height=\"125pt\" viewBox=\"0.00 0.00 237.00 138.00\" width=\"214pt\" xmlns=\"http://www.w3.org/2000/svg\" xmlns:xlink=\"http://www.w3.org/1999/xlink\">\n",
       "<g class=\"graph\" id=\"graph0\" transform=\"scale(0.9 0.9) rotate(0) translate(4 134)\">\n",
       "<title>G</title>\n",
       "<polygon fill=\"white\" points=\"-4,4 -4,-134 233,-134 233,4 -4,4\" stroke=\"transparent\"/>\n",
       "<!-- 5382722512 -->\n",
       "<g class=\"node\" id=\"node1\">\n",
       "<title>5382722512</title>\n",
       "<polygon fill=\"none\" points=\"0,-83.5 0,-129.5 229,-129.5 229,-83.5 0,-83.5\" stroke=\"black\"/>\n",
       "<text font-family=\"Times,serif\" font-size=\"14.00\" text-anchor=\"middle\" x=\"59.5\" y=\"-102.8\">input4: InputLayer</text>\n",
       "<polyline fill=\"none\" points=\"119,-83.5 119,-129.5 \" stroke=\"black\"/>\n",
       "<text font-family=\"Times,serif\" font-size=\"14.00\" text-anchor=\"middle\" x=\"146.5\" y=\"-114.3\">input:</text>\n",
       "<polyline fill=\"none\" points=\"119,-106.5 174,-106.5 \" stroke=\"black\"/>\n",
       "<text font-family=\"Times,serif\" font-size=\"14.00\" text-anchor=\"middle\" x=\"146.5\" y=\"-91.3\">output:</text>\n",
       "<polyline fill=\"none\" points=\"174,-83.5 174,-129.5 \" stroke=\"black\"/>\n",
       "<text font-family=\"Times,serif\" font-size=\"14.00\" text-anchor=\"middle\" x=\"201.5\" y=\"-114.3\">[(?, 4)]</text>\n",
       "<polyline fill=\"none\" points=\"174,-106.5 229,-106.5 \" stroke=\"black\"/>\n",
       "<text font-family=\"Times,serif\" font-size=\"14.00\" text-anchor=\"middle\" x=\"201.5\" y=\"-91.3\">[(?, 4)]</text>\n",
       "</g>\n",
       "<!-- 5381942736 -->\n",
       "<g class=\"node\" id=\"node2\">\n",
       "<title>5381942736</title>\n",
       "<polygon fill=\"none\" points=\"13.5,-0.5 13.5,-46.5 215.5,-46.5 215.5,-0.5 13.5,-0.5\" stroke=\"black\"/>\n",
       "<text font-family=\"Times,serif\" font-size=\"14.00\" text-anchor=\"middle\" x=\"64\" y=\"-19.8\">model2: Model</text>\n",
       "<polyline fill=\"none\" points=\"114.5,-0.5 114.5,-46.5 \" stroke=\"black\"/>\n",
       "<text font-family=\"Times,serif\" font-size=\"14.00\" text-anchor=\"middle\" x=\"142\" y=\"-31.3\">input:</text>\n",
       "<polyline fill=\"none\" points=\"114.5,-23.5 169.5,-23.5 \" stroke=\"black\"/>\n",
       "<text font-family=\"Times,serif\" font-size=\"14.00\" text-anchor=\"middle\" x=\"142\" y=\"-8.3\">output:</text>\n",
       "<polyline fill=\"none\" points=\"169.5,-0.5 169.5,-46.5 \" stroke=\"black\"/>\n",
       "<text font-family=\"Times,serif\" font-size=\"14.00\" text-anchor=\"middle\" x=\"192.5\" y=\"-31.3\">(?, 4)</text>\n",
       "<polyline fill=\"none\" points=\"169.5,-23.5 215.5,-23.5 \" stroke=\"black\"/>\n",
       "<text font-family=\"Times,serif\" font-size=\"14.00\" text-anchor=\"middle\" x=\"192.5\" y=\"-8.3\">(?, 4)</text>\n",
       "</g>\n",
       "<!-- 5382722512&#45;&gt;5381942736 -->\n",
       "<g class=\"edge\" id=\"edge1\">\n",
       "<title>5382722512-&gt;5381942736</title>\n",
       "<path d=\"M114.5,-83.37C114.5,-75.15 114.5,-65.66 114.5,-56.73\" fill=\"none\" stroke=\"black\"/>\n",
       "<polygon fill=\"black\" points=\"118,-56.61 114.5,-46.61 111,-56.61 118,-56.61\" stroke=\"black\"/>\n",
       "</g>\n",
       "</g>\n",
       "</svg>"
      ],
      "text/plain": [
       "<IPython.core.display.SVG object>"
      ]
     },
     "execution_count": 20,
     "metadata": {},
     "output_type": "execute_result"
    }
   ],
   "source": [
    "SVG(model_to_dot(model4, show_shapes=True, dpi=65).create(prog='dot', format='svg'))"
   ]
  },
  {
   "cell_type": "code",
   "execution_count": 21,
   "metadata": {},
   "outputs": [],
   "source": [
    "import numpy as np"
   ]
  },
  {
   "cell_type": "code",
   "execution_count": 22,
   "metadata": {},
   "outputs": [],
   "source": [
    "data = np.ones((1, 4))\n",
    "\n",
    "y = 1 / (1 + np.exp(-(w.T).dot(data.T)))\n"
   ]
  },
  {
   "cell_type": "code",
   "execution_count": 23,
   "metadata": {},
   "outputs": [
    {
     "data": {
      "text/plain": [
       "array([[0.89517384],\n",
       "       [0.49439434],\n",
       "       [0.7787448 ],\n",
       "       [0.87421386]])"
      ]
     },
     "execution_count": 23,
     "metadata": {},
     "output_type": "execute_result"
    }
   ],
   "source": [
    "y"
   ]
  },
  {
   "cell_type": "code",
   "execution_count": 24,
   "metadata": {},
   "outputs": [
    {
     "data": {
      "text/plain": [
       "array([[0.89517385, 0.49439433, 0.7787448 , 0.8742138 ]], dtype=float32)"
      ]
     },
     "execution_count": 24,
     "metadata": {},
     "output_type": "execute_result"
    }
   ],
   "source": [
    "model1.predict(data)"
   ]
  },
  {
   "cell_type": "code",
   "execution_count": null,
   "metadata": {},
   "outputs": [],
   "source": []
  }
 ],
 "metadata": {
  "kernelspec": {
   "display_name": "Python 3",
   "language": "python",
   "name": "python3"
  },
  "language_info": {
   "codemirror_mode": {
    "name": "ipython",
    "version": 3
   },
   "file_extension": ".py",
   "mimetype": "text/x-python",
   "name": "python",
   "nbconvert_exporter": "python",
   "pygments_lexer": "ipython3",
   "version": "3.7.4"
  }
 },
 "nbformat": 4,
 "nbformat_minor": 2
}
